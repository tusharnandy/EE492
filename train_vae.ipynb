{
 "cells": [
  {
   "cell_type": "code",
   "execution_count": 66,
   "metadata": {},
   "outputs": [],
   "source": [
    "import torch\n",
    "import torch.nn as nn\n",
    "import torch.nn.functional as F\n",
    "from torch.utils.data import Dataset, DataLoader\n",
    "from vae import VAE\n",
    "import pandas as pd\n",
    "from sklearn.model_selection import train_test_split\n",
    "import numpy as np"
   ]
  },
  {
   "cell_type": "code",
   "execution_count": 2,
   "metadata": {},
   "outputs": [],
   "source": [
    "device = torch.device(\"cuda:0\" if torch.cuda.is_available() else 'cpu')"
   ]
  },
  {
   "cell_type": "markdown",
   "metadata": {},
   "source": [
    "# Importing Data"
   ]
  },
  {
   "cell_type": "code",
   "execution_count": 3,
   "metadata": {},
   "outputs": [],
   "source": [
    "df = pd.read_csv(\"../Data/data1.csv\").drop(columns='Unnamed: 0')"
   ]
  },
  {
   "cell_type": "code",
   "execution_count": 4,
   "metadata": {},
   "outputs": [],
   "source": [
    "X_data = df.drop(columns='income')\n",
    "\n",
    "X_train, X_test = train_test_split(X_data, test_size=0.3, random_state=7)"
   ]
  },
  {
   "cell_type": "code",
   "execution_count": 5,
   "metadata": {},
   "outputs": [
    {
     "data": {
      "text/plain": [
       "tensor([[-1.6302, -1.2216, -0.1467,  ...,  0.0000,  0.0000,  0.0000],\n",
       "        [-0.6467,  0.3453, -0.1467,  ...,  0.0000,  0.0000,  0.0000],\n",
       "        [ 0.4125, -0.4381, -0.1467,  ...,  0.0000,  0.0000,  0.0000],\n",
       "        ...,\n",
       "        [ 1.0934,  1.1288, -0.1467,  ...,  0.0000,  0.0000,  0.0000],\n",
       "        [ 1.5473, -2.0050, -0.1467,  ...,  0.0000,  0.0000,  0.0000],\n",
       "        [-1.4789, -0.0464, -0.1467,  ...,  0.0000,  0.0000,  0.0000]])"
      ]
     },
     "execution_count": 5,
     "metadata": {},
     "output_type": "execute_result"
    }
   ],
   "source": [
    "X1_train = torch.from_numpy(X_train[X_train['gender_Female'] == 1.0].values).to(torch.float32)\n",
    "X1_test = torch.from_numpy(X_test[X_test['gender_Female'] == 1.0].values).to(torch.float32)\n",
    "X1_train.to(device)\n",
    "X1_test.to(device)\n",
    "\n",
    "X0_train = torch.from_numpy(X_train[X_train['gender_Female'] == 0.0].values).to(torch.float32)\n",
    "X0_test = torch.from_numpy(X_test[X_test['gender_Female'] == 0.0].values).to(torch.float32)\n",
    "X0_train.to(device)\n",
    "X0_test.to(device) "
   ]
  },
  {
   "cell_type": "markdown",
   "metadata": {},
   "source": [
    "# Dataset and Dataloader"
   ]
  },
  {
   "cell_type": "code",
   "execution_count": 6,
   "metadata": {},
   "outputs": [],
   "source": [
    "class CustomDataset(Dataset):\n",
    "    def __init__(self, data):\n",
    "        self.data = data\n",
    "\n",
    "    def __len__(self):\n",
    "        return self.data.shape[0]\n",
    "\n",
    "    def __getitem__(self,idx):\n",
    "        return self.data[idx]"
   ]
  },
  {
   "cell_type": "code",
   "execution_count": 7,
   "metadata": {},
   "outputs": [],
   "source": [
    "X1_trainset = CustomDataset(X1_train)\n",
    "X1_testset = CustomDataset(X1_test)\n",
    "\n",
    "X1_trainloader = DataLoader(X1_trainset, batch_size=128, shuffle=True)\n",
    "X1_testloader = DataLoader(X1_testset, batch_size=128)"
   ]
  },
  {
   "cell_type": "code",
   "execution_count": 8,
   "metadata": {},
   "outputs": [],
   "source": [
    "X0_trainset = CustomDataset(X0_train)\n",
    "X0_testset = CustomDataset(X0_test)\n",
    "\n",
    "X0_trainloader = DataLoader(X0_trainset, batch_size=128, shuffle=True)\n",
    "X0_testloader = DataLoader(X0_testset, batch_size=128)"
   ]
  },
  {
   "cell_type": "markdown",
   "metadata": {},
   "source": [
    "# Loss function and train-test loops"
   ]
  },
  {
   "cell_type": "code",
   "execution_count": 47,
   "metadata": {},
   "outputs": [],
   "source": [
    "def loss_function(x, x_hat, mean, log_var, cat_index):\n",
    "    mse_loss = F.mse_loss(x_hat, x, reduction='mean')\n",
    "    reconstruction_loss = mse_loss\n",
    "    kl_divergence = -0.5 * torch.sum(1 + log_var - mean**2 - log_var.exp())\n",
    "    return reconstruction_loss + kl_divergence"
   ]
  },
  {
   "cell_type": "code",
   "execution_count": 18,
   "metadata": {},
   "outputs": [],
   "source": [
    "def train(model, optimizer, train_loader):\n",
    "    model.train()\n",
    "    train_loss = 0\n",
    "    for x in train_loader:\n",
    "        optimizer.zero_grad()\n",
    "        x_hat, mean, log_var = model(x)\n",
    "        loss = loss_function(x, x_hat, mean, log_var, 4)\n",
    "        loss.backward()\n",
    "        train_loss += loss.item()\n",
    "        optimizer.step()\n",
    "    return train_loss / len(train_loader.dataset)"
   ]
  },
  {
   "cell_type": "code",
   "execution_count": 27,
   "metadata": {},
   "outputs": [],
   "source": [
    "def test(model, test_loader):\n",
    "    model.eval()\n",
    "    test_loss = 0\n",
    "    with torch.no_grad():\n",
    "        for x in test_loader:\n",
    "            x_hat, mean, log_var = model(x)\n",
    "            loss = loss_function(x, x_hat, mean, log_var, 4)\n",
    "            test_loss += loss.item()\n",
    "    return test_loss / len(test_loader.dataset)"
   ]
  },
  {
   "cell_type": "markdown",
   "metadata": {},
   "source": [
    "# Initializing the VAE(s)"
   ]
  },
  {
   "cell_type": "code",
   "execution_count": 71,
   "metadata": {},
   "outputs": [],
   "source": [
    "vae0 = VAE(102, 64, 16).to(device)\n",
    "optimizer0 = torch.optim.AdamW(vae0.parameters(), lr=0.001)"
   ]
  },
  {
   "cell_type": "markdown",
   "metadata": {},
   "source": [
    "# Training the VAEs"
   ]
  },
  {
   "cell_type": "code",
   "execution_count": 72,
   "metadata": {},
   "outputs": [],
   "source": [
    "plotter = {\n",
    "    't_loss': [],\n",
    "    'v_loss': []\n",
    "}"
   ]
  },
  {
   "cell_type": "code",
   "execution_count": 73,
   "metadata": {},
   "outputs": [
    {
     "name": "stdout",
     "output_type": "stream",
     "text": [
      "0.00489 0.00094\n",
      "0.00084 0.00078\n",
      "0.00075 0.00074\n",
      "0.00072 0.00072\n",
      "0.00071 0.00072\n",
      "0.0007 0.00071\n",
      "0.0007 0.00071\n",
      "0.0007 0.0007\n",
      "0.0007 0.0007\n",
      "0.0007 0.0007\n",
      "0.00069 0.0007\n",
      "0.00069 0.0007\n",
      "0.00069 0.0007\n",
      "0.00069 0.0007\n",
      "0.00069 0.0007\n",
      "0.00069 0.0007\n",
      "0.00069 0.0007\n",
      "0.00069 0.0007\n",
      "0.00069 0.0007\n",
      "0.00069 0.0007\n",
      "0.00069 0.0007\n",
      "0.00069 0.0007\n",
      "0.00069 0.0007\n",
      "0.00069 0.0007\n",
      "0.00069 0.0007\n",
      "0.00069 0.0007\n",
      "0.00069 0.0007\n",
      "0.00069 0.0007\n",
      "0.00069 0.0007\n"
     ]
    }
   ],
   "source": [
    "for epoch in range(1,30):\n",
    "    train_loss = train(vae0, optimizer0, X0_trainloader)\n",
    "    test_loss = test(vae0, X0_testloader)\n",
    "\n",
    "    plotter['t_loss'].append(train_loss)\n",
    "    plotter['v_loss'].append(test_loss)\n",
    "    print(np.round(train_loss, 5), np.round(test_loss, 5))"
   ]
  },
  {
   "cell_type": "code",
   "execution_count": 74,
   "metadata": {},
   "outputs": [],
   "source": [
    "import matplotlib.pyplot as plt"
   ]
  },
  {
   "cell_type": "code",
   "execution_count": 75,
   "metadata": {},
   "outputs": [
    {
     "data": {
      "text/plain": [
       "[<matplotlib.lines.Line2D at 0x17b7727f3a0>]"
      ]
     },
     "execution_count": 75,
     "metadata": {},
     "output_type": "execute_result"
    },
    {
     "data": {
      "image/png": "[encoded data removed]",
      "text/plain": [
       "<Figure size 432x288 with 1 Axes>"
      ]
     },
     "metadata": {
      "needs_background": "light"
     },
     "output_type": "display_data"
    }
   ],
   "source": [
    "plt.plot(plotter['t_loss'])\n",
    "plt.plot(plotter['v_loss'])"
   ]
  }
 ],
 "metadata": {
  "kernelspec": {
   "display_name": "Python 3 (ipykernel)",
   "language": "python",
   "name": "python3"
  },
  "language_info": {
   "codemirror_mode": {
    "name": "ipython",
    "version": 3
   },
   "file_extension": ".py",
   "mimetype": "text/x-python",
   "name": "python",
   "nbconvert_exporter": "python",
   "pygments_lexer": "ipython3",
   "version": "3.8.10"
  },
  "vscode": {
   "interpreter": {
    "hash": "1623887a4657fbc55005e133332f3be3f5efee82a88b4990fa1707cdaeddf772"
   }
  }
 },
 "nbformat": 4,
 "nbformat_minor": 2
}
