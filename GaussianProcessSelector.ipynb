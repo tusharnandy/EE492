{
 "cells": [
  {
   "cell_type": "code",
   "execution_count": 152,
   "id": "dc85d2e1-e220-463b-aeef-56fd7eb8c3a4",
   "metadata": {},
   "outputs": [],
   "source": [
    "from vae_models import *\n",
    "import torch"
   ]
  },
  {
   "cell_type": "code",
   "execution_count": 148,
   "id": "940273a4-d72a-4236-9b6e-f92c0a809484",
   "metadata": {
    "tags": []
   },
   "outputs": [],
   "source": [
    "vae = RelaxedBernoulliVAE(102, 64, 16).cuda()"
   ]
  },
  {
   "cell_type": "code",
   "execution_count": 150,
   "id": "312b3c34-5546-4658-9633-a16f7c159b7e",
   "metadata": {
    "tags": []
   },
   "outputs": [
    {
     "data": {
      "text/plain": [
       "<All keys matched successfully>"
      ]
     },
     "execution_count": 150,
     "metadata": {},
     "output_type": "execute_result"
    }
   ],
   "source": [
    "vae.load_state_dict(torch.load('checkpoints/adult_income/rbvae_xA=1/best.pt'))"
   ]
  },
  {
   "cell_type": "code",
   "execution_count": 161,
   "id": "b3f3ec61-9291-481b-bea1-c249b84b7a5b",
   "metadata": {
    "tags": []
   },
   "outputs": [],
   "source": [
    "kwargs = {'tau': 1, 'hard': False}"
   ]
  },
  {
   "cell_type": "code",
   "execution_count": 162,
   "id": "49e7522f-c3b3-4e2a-86c0-2836a1f262f0",
   "metadata": {
    "tags": []
   },
   "outputs": [],
   "source": [
    "x0_random = torch.randn(1,102).cuda()"
   ]
  },
  {
   "cell_type": "code",
   "execution_count": 163,
   "id": "b9a52cfc-0a00-4576-b423-90257dbe627f",
   "metadata": {
    "tags": []
   },
   "outputs": [
    {
     "data": {
      "text/plain": [
       "tensor([[[3.0959e-01, 4.3481e-03, 8.2649e-03, 3.8948e-01, 1.0000e+00,\n",
       "          9.3922e-18, 1.0373e-16, 7.9950e-14, 2.0651e-14, 2.3226e-11,\n",
       "          2.4953e-09, 1.4714e-02, 7.4183e-01, 2.3294e-02, 2.6843e-03,\n",
       "          2.2833e-02, 3.9575e-06, 7.2085e-04, 1.3140e-02, 1.3956e-04,\n",
       "          1.4010e-05, 1.0083e-03, 2.0703e-02, 1.5821e-02, 1.2999e-02,\n",
       "          4.6153e-04, 4.5719e-05, 1.4753e-06, 7.3748e-02, 1.8035e-01,\n",
       "          8.8225e-01, 5.9848e-02, 1.0244e-01, 7.9280e-03, 5.9380e-04,\n",
       "          3.5142e-04, 1.8220e-03, 1.8940e-09, 2.1718e-03, 3.2718e-02,\n",
       "          7.2240e-02, 3.3822e-01, 6.9631e-03, 4.2170e-01, 2.7414e-03,\n",
       "          3.7599e-03, 3.6400e-02, 1.3889e-16, 1.1245e-01, 7.9804e-04,\n",
       "          7.8754e-03, 9.4892e-01, 2.0872e-02, 1.1177e-01, 6.8117e-01,\n",
       "          5.2731e-02, 1.4415e-01, 1.4436e-02, 3.6090e-02, 1.0000e+00,\n",
       "          9.9754e-01, 3.2155e-03, 3.0895e-03, 1.2211e-04, 1.0516e-03,\n",
       "          2.0886e-04, 3.0658e-05, 3.2886e-04, 2.5927e-03, 2.3998e-04,\n",
       "          1.7801e-03, 5.3947e-05, 3.0821e-03, 2.0729e-04, 1.3222e-03,\n",
       "          2.0026e-04, 3.1767e-04, 4.5413e-04, 4.0207e-08, 1.1097e-03,\n",
       "          9.4866e-06, 8.9487e-04, 1.0924e-03, 1.4721e-05, 4.8678e-04,\n",
       "          1.2898e-04, 4.2010e-06, 7.6230e-04, 3.1783e-04, 3.4111e-04,\n",
       "          7.1024e-05, 6.2885e-05, 1.2367e-02, 5.7564e-04, 3.0517e-06,\n",
       "          2.5297e-06, 4.3664e-05, 5.1050e-03, 4.0749e-05, 2.9381e-04,\n",
       "          3.2091e-05, 9.6083e-09]]], device='cuda:0',\n",
       "       grad_fn=<SigmoidBackward0>)"
      ]
     },
     "execution_count": 163,
     "metadata": {},
     "output_type": "execute_result"
    }
   ],
   "source": [
    "vae.sample(x0_random, 1, 'cuda', **kwargs)"
   ]
  },
  {
   "cell_type": "code",
   "execution_count": 167,
   "id": "d38a9da9-444a-4db4-9ea4-607a9f2706e5",
   "metadata": {},
   "outputs": [],
   "source": [
    "from blackbox_models import *"
   ]
  },
  {
   "cell_type": "code",
   "execution_count": 168,
   "id": "5dbd6875-4019-4f51-8bc1-de9b53c73ebb",
   "metadata": {
    "tags": []
   },
   "outputs": [],
   "source": [
    "m = BlackBox('Logistic', 102, 1)"
   ]
  },
  {
   "cell_type": "code",
   "execution_count": 169,
   "id": "d507bfb4-4c46-4024-826f-5b141d80caf5",
   "metadata": {
    "tags": []
   },
   "outputs": [
    {
     "data": {
      "text/plain": [
       "<All keys matched successfully>"
      ]
     },
     "execution_count": 169,
     "metadata": {},
     "output_type": "execute_result"
    }
   ],
   "source": [
    "m.load_state_dict(torch.load('checkpoints/adult_income/blackbox/Logistic/best.pt'))"
   ]
  },
  {
   "cell_type": "code",
   "execution_count": 170,
   "id": "11139846-442e-4bf3-b4b3-4dd2e26ebd40",
   "metadata": {
    "tags": []
   },
   "outputs": [],
   "source": [
    "x = torch.randn(500, 102)"
   ]
  },
  {
   "cell_type": "code",
   "execution_count": 171,
   "id": "8c47afa7-7818-4c64-b00c-180bd660f0ab",
   "metadata": {
    "tags": []
   },
   "outputs": [],
   "source": [
    "y = m(x)"
   ]
  },
  {
   "cell_type": "code",
   "execution_count": 173,
   "id": "5a48f1ba-683b-4ba3-9ccd-76fb35c3083f",
   "metadata": {
    "tags": []
   },
   "outputs": [
    {
     "name": "stdout",
     "output_type": "stream",
     "text": [
      "185\n",
      "315\n"
     ]
    }
   ],
   "source": [
    "num_0 = 0\n",
    "num_1 = 0\n",
    "for i in y:\n",
    "    if i > 0.5:\n",
    "        num_0 += 1\n",
    "    else:\n",
    "        num_1 += 1\n",
    "print(num_0)\n",
    "print(num_1)"
   ]
  },
  {
   "cell_type": "code",
   "execution_count": null,
   "id": "376cefa0-55a9-493f-9943-d74f1496c832",
   "metadata": {},
   "outputs": [],
   "source": []
  }
 ],
 "metadata": {
  "kernelspec": {
   "display_name": "Python 3 (ipykernel)",
   "language": "python",
   "name": "python3"
  },
  "language_info": {
   "codemirror_mode": {
    "name": "ipython",
    "version": 3
   },
   "file_extension": ".py",
   "mimetype": "text/x-python",
   "name": "python",
   "nbconvert_exporter": "python",
   "pygments_lexer": "ipython3",
   "version": "3.7.5"
  }
 },
 "nbformat": 4,
 "nbformat_minor": 5
}
