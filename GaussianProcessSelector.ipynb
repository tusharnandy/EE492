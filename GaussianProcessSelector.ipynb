{
 "cells": [
  {
   "cell_type": "code",
   "execution_count": 76,
   "id": "57486d14-f505-433c-ae59-f8fd5c9938ee",
   "metadata": {
    "tags": []
   },
   "outputs": [],
   "source": [
    "import utils\n",
    "import category_encoders as ce\n",
    "from sklearn.model_selection import train_test_split\n",
    "from sklearn.preprocessing import minmax_scale"
   ]
  },
  {
   "cell_type": "code",
   "execution_count": 77,
   "id": "eefedc1e-32d8-438f-bbd5-a8115fcf893c",
   "metadata": {
    "tags": []
   },
   "outputs": [],
   "source": [
    "def initial_preprocess(name):\n",
    "    DATA_PATH = \"data\"\n",
    "    if name == \"adult_income\":\n",
    "        df = pd.read_csv(f\"{DATA_PATH}/{name}.csv\")\n",
    "        df.rename(\n",
    "            columns={\n",
    "                \"fnlwgt\": \"final_weight\",\n",
    "                \"educational-num\": \"educational_num\",\n",
    "                \"marital-status\": \"marital_status\",\n",
    "                \"capital-gain\": \"capital_gain\",\n",
    "                \"capital-loss\": \"capital_loss\",\n",
    "                \"hours-per-week\": \"hours_per_week\",\n",
    "                \"native-country\": \"native_country\",\n",
    "            },\n",
    "            inplace=True,\n",
    "        )\n",
    "        df.drop(df[df[\"occupation\"] == \"?\"].index, inplace=True)\n",
    "        df.drop([\"final_weight\", \"educational_num\"], axis=1, inplace=True)\n",
    "        return df"
   ]
  },
  {
   "cell_type": "code",
   "execution_count": 96,
   "id": "7a7d27ed-7647-4cfb-a626-5127e7d0034a",
   "metadata": {
    "tags": []
   },
   "outputs": [],
   "source": [
    "def get_dataset(\n",
    "    name,\n",
    "    save_transformed=False,\n",
    "    random_state=42,\n",
    "    test_size=0.2,\n",
    "    return_original_dataframe=False,\n",
    "    return_dataframe=False,\n",
    "    return_dataloader=True,\n",
    "    train_batch_size=64,\n",
    "    test_batch_size=64,\n",
    "    df=None,\n",
    "):\n",
    "    DATA_PATH = \"data\"\n",
    "    \n",
    "    if name == \"adult_income\":\n",
    "        if df is None:\n",
    "            df = initial_preprocess(name)\n",
    "            #print(df.shape)\n",
    "        if return_original_dataframe:\n",
    "            return df\n",
    "        #print('$$$', df.shape)\n",
    "        categorical_columns = [\n",
    "            \"workclass\",\n",
    "            \"education\",\n",
    "            \"marital_status\",\n",
    "            \"occupation\",\n",
    "            \"relationship\",\n",
    "            \"race\",\n",
    "            \"native_country\",\n",
    "        ]\n",
    "        #print(df.shape)\n",
    "        encoder = ce.OneHotEncoder(cols=categorical_columns, use_cat_names=True)\n",
    "        df1 = encoder.fit_transform(df)\n",
    "        #print('gender' in df1.columns)\n",
    "        df1[\"gender\"] = df1[\"gender\"].apply(lambda x: 1 if x == \"Female\" else 0)\n",
    "        df1[\"income\"] = df1[\"income\"].apply(lambda x: 1 if x == \">50K\" else 0)\n",
    "        X = df1.drop(\"income\", axis=1)\n",
    "        y = df1[\"income\"]\n",
    "        #print(df1.shape, X.shape)\n",
    "        X_cols = df.select_dtypes(np.number).columns.tolist()\n",
    "        #print(X_cols)\n",
    "        non_num_cols = [x for x in X.columns if x not in X_cols]\n",
    "        X_cols.extend(non_num_cols)\n",
    "        X = X.reindex(columns=X_cols)\n",
    "        #print(X.shape)\n",
    "        if return_dataframe:\n",
    "            return X, y\n",
    "        if save_transformed:\n",
    "            os.makedirs(f\"{DATA_PATH}/{name}/\", exist_ok=True)\n",
    "            X.to_csv(f\"{DATA_PATH}/{name}/X_unscaled.csv\")\n",
    "            y.to_csv(f\"{DATA_PATH}/{name}/y.csv\")\n",
    "\n",
    "        num_cols = df.select_dtypes(np.number).columns\n",
    "        X_train, X_test, y_train, y_test = train_test_split(\n",
    "            X, y, test_size=test_size, random_state=random_state\n",
    "        )\n",
    "        X_train[num_cols] = minmax_scale(X_train[num_cols])\n",
    "        X_test[num_cols] = minmax_scale(X_test[num_cols])\n",
    "        yt_train = torch.tensor(y_train.values)\n",
    "        Xt_train = torch.tensor(X_train.values).float()\n",
    "        yt_test = torch.tensor(y_test.values)\n",
    "        Xt_test = torch.tensor(X_test.values).float()\n",
    "        train = torch.utils.data.TensorDataset(Xt_train, yt_train)\n",
    "        test = torch.utils.data.TensorDataset(Xt_test, yt_test)\n",
    "        if not return_dataloader:\n",
    "            return train, test\n",
    "        train_loader = torch.utils.data.DataLoader(\n",
    "            train, batch_size=train_batch_size, shuffle=True\n",
    "        )\n",
    "        test_loader = torch.utils.data.DataLoader(\n",
    "            test, batch_size=test_batch_size, shuffle=False\n",
    "        )\n",
    "\n",
    "        return train_loader, test_loader, len(train), len(test), X_train.shape[1], len(num_cols)"
   ]
  },
  {
   "cell_type": "code",
   "execution_count": 99,
   "id": "38a1e8eb-4f28-4e4f-8373-d02afd6ac74e",
   "metadata": {
    "tags": []
   },
   "outputs": [],
   "source": [
    "def get_split_dataset(\n",
    "    name, xA, random_state=42, test_size=0.2, train_batch_size=64, test_batch_size=64, \n",
    "):\n",
    "    if name == \"adult_income\":\n",
    "        if xA != \"gender\":\n",
    "            raise ValueError(f\"For {name}: expected xA = gender but received {xA}\")\n",
    "        X, y = get_dataset(name, return_original_dataframe=True, return_dataloader=False)\n",
    "        \n",
    "        df_female = df[df[\"gender\"] == \"Female\"]\n",
    "        \n",
    "        df_male = df[df[\"gender\"] == \"Male\"]\n",
    "\n",
    "        (\n",
    "            train_loader_female,\n",
    "            test_loader_female,\n",
    "            len_train_female,\n",
    "            len_test_female,\n",
    "            feature_dim_female,\n",
    "            num_cols_female\n",
    "        ) = get_dataset(\n",
    "            name,\n",
    "            random_state=random_state,\n",
    "            test_size=test_size,\n",
    "            train_batch_size=train_batch_size,\n",
    "            test_batch_size=test_batch_size,\n",
    "            df=df_female,\n",
    "        )\n",
    "        (\n",
    "            train_loader_male,\n",
    "            test_loader_male,\n",
    "            len_train_male,\n",
    "            len_test_male,\n",
    "            feature_dim_male,\n",
    "            num_cols_male\n",
    "        ) = get_dataset(\n",
    "            name,\n",
    "            random_state=random_state,\n",
    "            test_size=test_size,\n",
    "            train_batch_size=train_batch_size,\n",
    "            test_batch_size=test_batch_size,\n",
    "            df=df_male,\n",
    "        )\n",
    "\n",
    "        return (\n",
    "            train_loader_female,\n",
    "            test_loader_female,\n",
    "            len_train_female,\n",
    "            len_test_female,\n",
    "            feature_dim_female,\n",
    "            num_cols_female,\n",
    "            train_loader_male,\n",
    "            test_loader_male,\n",
    "            len_train_male,\n",
    "            len_test_male,\n",
    "            feature_dim_male,\n",
    "            num_cols_male\n",
    "        )"
   ]
  },
  {
   "cell_type": "code",
   "execution_count": 100,
   "id": "edf22cd1-e978-4af5-9252-18857b06fc41",
   "metadata": {
    "tags": []
   },
   "outputs": [
    {
     "name": "stdout",
     "output_type": "stream",
     "text": [
      "age 74\n",
      "workclass 7\n",
      "education 16\n",
      "marital_status 7\n",
      "occupation 14\n",
      "relationship 6\n",
      "race 5\n",
      "gender 2\n",
      "capital_gain 121\n",
      "capital_loss 97\n",
      "hours_per_week 96\n",
      "native_country 42\n",
      "income 2\n",
      "------------------\n",
      "age 72\n",
      "workclass 7\n",
      "education 16\n",
      "marital_status 7\n",
      "occupation 13\n",
      "relationship 6\n",
      "race 5\n",
      "gender 1\n",
      "capital_gain 101\n",
      "capital_loss 75\n",
      "hours_per_week 81\n",
      "native_country 42\n",
      "income 2\n",
      "------------------\n",
      "age 73\n",
      "workclass 7\n",
      "education 16\n",
      "marital_status 7\n",
      "occupation 14\n",
      "relationship 6\n",
      "race 5\n",
      "gender 1\n",
      "capital_gain 110\n",
      "capital_loss 85\n",
      "hours_per_week 94\n",
      "native_country 41\n",
      "income 2\n",
      "------------------\n"
     ]
    }
   ],
   "source": [
    "x = get_split_dataset('adult_income', 'gender')"
   ]
  },
  {
   "cell_type": "code",
   "execution_count": 101,
   "id": "2704fca7-73e1-445f-b100-79981dd866a3",
   "metadata": {
    "tags": []
   },
   "outputs": [],
   "source": [
    "df = get_dataset('adult_income', return_original_dataframe=True)"
   ]
  },
  {
   "cell_type": "code",
   "execution_count": 104,
   "id": "e52229c5-28e2-44b0-bd6f-3531fc212346",
   "metadata": {
    "tags": []
   },
   "outputs": [],
   "source": [
    "df1 = df[df['gender'] == 'Female']"
   ]
  },
  {
   "cell_type": "code",
   "execution_count": 108,
   "id": "a5a5d381-5432-4cbe-9fb2-9a7698c06414",
   "metadata": {
    "tags": []
   },
   "outputs": [
    {
     "data": {
      "text/plain": [
       "array(['Machine-op-inspct', 'Farming-fishing', 'Protective-serv',\n",
       "       'Other-service', 'Prof-specialty', 'Craft-repair', 'Adm-clerical',\n",
       "       'Exec-managerial', 'Tech-support', 'Sales', 'Priv-house-serv',\n",
       "       'Transport-moving', 'Handlers-cleaners', 'Armed-Forces'],\n",
       "      dtype=object)"
      ]
     },
     "execution_count": 108,
     "metadata": {},
     "output_type": "execute_result"
    }
   ],
   "source": [
    "df['occupation'].unique()"
   ]
  },
  {
   "cell_type": "code",
   "execution_count": 107,
   "id": "a1a8c744-6c9d-4228-8f69-94f3d8ff60b0",
   "metadata": {
    "tags": []
   },
   "outputs": [
    {
     "data": {
      "text/plain": [
       "13"
      ]
     },
     "execution_count": 107,
     "metadata": {},
     "output_type": "execute_result"
    }
   ],
   "source": [
    "df1['occupation'].unique().__len__()"
   ]
  },
  {
   "cell_type": "code",
   "execution_count": 115,
   "id": "70f731c8-e251-4b81-8335-7ea7e9f711ba",
   "metadata": {
    "collapsed": true,
    "jupyter": {
     "outputs_hidden": true
    },
    "tags": []
   },
   "outputs": [
    {
     "ename": "ValueError",
     "evalue": "could not convert string to float: 'Private'",
     "output_type": "error",
     "traceback": [
      "\u001b[0;31m---------------------------------------------------------------------------\u001b[0m",
      "\u001b[0;31mValueError\u001b[0m                                Traceback (most recent call last)",
      "\u001b[0;32m/tmp/ipykernel_10457/2456730223.py\u001b[0m in \u001b[0;36m<module>\u001b[0;34m\u001b[0m\n\u001b[0;32m----> 1\u001b[0;31m \u001b[0mdf4\u001b[0m \u001b[0;34m=\u001b[0m \u001b[0mdf\u001b[0m\u001b[0;34m.\u001b[0m\u001b[0mastype\u001b[0m\u001b[0;34m(\u001b[0m\u001b[0mfloat\u001b[0m\u001b[0;34m)\u001b[0m\u001b[0;34m\u001b[0m\u001b[0;34m\u001b[0m\u001b[0m\n\u001b[0m",
      "\u001b[0;32m/mnt/infonas/data/eeshaan/fairness/audit_env/lib/python3.7/site-packages/pandas/core/generic.py\u001b[0m in \u001b[0;36mastype\u001b[0;34m(self, dtype, copy, errors)\u001b[0m\n\u001b[1;32m   5813\u001b[0m         \u001b[0;32melse\u001b[0m\u001b[0;34m:\u001b[0m\u001b[0;34m\u001b[0m\u001b[0;34m\u001b[0m\u001b[0m\n\u001b[1;32m   5814\u001b[0m             \u001b[0;31m# else, only a single dtype is given\u001b[0m\u001b[0;34m\u001b[0m\u001b[0;34m\u001b[0m\u001b[0;34m\u001b[0m\u001b[0m\n\u001b[0;32m-> 5815\u001b[0;31m             \u001b[0mnew_data\u001b[0m \u001b[0;34m=\u001b[0m \u001b[0mself\u001b[0m\u001b[0;34m.\u001b[0m\u001b[0m_mgr\u001b[0m\u001b[0;34m.\u001b[0m\u001b[0mastype\u001b[0m\u001b[0;34m(\u001b[0m\u001b[0mdtype\u001b[0m\u001b[0;34m=\u001b[0m\u001b[0mdtype\u001b[0m\u001b[0;34m,\u001b[0m \u001b[0mcopy\u001b[0m\u001b[0;34m=\u001b[0m\u001b[0mcopy\u001b[0m\u001b[0;34m,\u001b[0m \u001b[0merrors\u001b[0m\u001b[0;34m=\u001b[0m\u001b[0merrors\u001b[0m\u001b[0;34m)\u001b[0m\u001b[0;34m\u001b[0m\u001b[0;34m\u001b[0m\u001b[0m\n\u001b[0m\u001b[1;32m   5816\u001b[0m             \u001b[0;32mreturn\u001b[0m \u001b[0mself\u001b[0m\u001b[0;34m.\u001b[0m\u001b[0m_constructor\u001b[0m\u001b[0;34m(\u001b[0m\u001b[0mnew_data\u001b[0m\u001b[0;34m)\u001b[0m\u001b[0;34m.\u001b[0m\u001b[0m__finalize__\u001b[0m\u001b[0;34m(\u001b[0m\u001b[0mself\u001b[0m\u001b[0;34m,\u001b[0m \u001b[0mmethod\u001b[0m\u001b[0;34m=\u001b[0m\u001b[0;34m\"astype\"\u001b[0m\u001b[0;34m)\u001b[0m\u001b[0;34m\u001b[0m\u001b[0;34m\u001b[0m\u001b[0m\n\u001b[1;32m   5817\u001b[0m \u001b[0;34m\u001b[0m\u001b[0m\n",
      "\u001b[0;32m/mnt/infonas/data/eeshaan/fairness/audit_env/lib/python3.7/site-packages/pandas/core/internals/managers.py\u001b[0m in \u001b[0;36mastype\u001b[0;34m(self, dtype, copy, errors)\u001b[0m\n\u001b[1;32m    416\u001b[0m \u001b[0;34m\u001b[0m\u001b[0m\n\u001b[1;32m    417\u001b[0m     \u001b[0;32mdef\u001b[0m \u001b[0mastype\u001b[0m\u001b[0;34m(\u001b[0m\u001b[0mself\u001b[0m\u001b[0;34m:\u001b[0m \u001b[0mT\u001b[0m\u001b[0;34m,\u001b[0m \u001b[0mdtype\u001b[0m\u001b[0;34m,\u001b[0m \u001b[0mcopy\u001b[0m\u001b[0;34m:\u001b[0m \u001b[0mbool\u001b[0m \u001b[0;34m=\u001b[0m \u001b[0;32mFalse\u001b[0m\u001b[0;34m,\u001b[0m \u001b[0merrors\u001b[0m\u001b[0;34m:\u001b[0m \u001b[0mstr\u001b[0m \u001b[0;34m=\u001b[0m \u001b[0;34m\"raise\"\u001b[0m\u001b[0;34m)\u001b[0m \u001b[0;34m->\u001b[0m \u001b[0mT\u001b[0m\u001b[0;34m:\u001b[0m\u001b[0;34m\u001b[0m\u001b[0;34m\u001b[0m\u001b[0m\n\u001b[0;32m--> 418\u001b[0;31m         \u001b[0;32mreturn\u001b[0m \u001b[0mself\u001b[0m\u001b[0;34m.\u001b[0m\u001b[0mapply\u001b[0m\u001b[0;34m(\u001b[0m\u001b[0;34m\"astype\"\u001b[0m\u001b[0;34m,\u001b[0m \u001b[0mdtype\u001b[0m\u001b[0;34m=\u001b[0m\u001b[0mdtype\u001b[0m\u001b[0;34m,\u001b[0m \u001b[0mcopy\u001b[0m\u001b[0;34m=\u001b[0m\u001b[0mcopy\u001b[0m\u001b[0;34m,\u001b[0m \u001b[0merrors\u001b[0m\u001b[0;34m=\u001b[0m\u001b[0merrors\u001b[0m\u001b[0;34m)\u001b[0m\u001b[0;34m\u001b[0m\u001b[0;34m\u001b[0m\u001b[0m\n\u001b[0m\u001b[1;32m    419\u001b[0m \u001b[0;34m\u001b[0m\u001b[0m\n\u001b[1;32m    420\u001b[0m     def convert(\n",
      "\u001b[0;32m/mnt/infonas/data/eeshaan/fairness/audit_env/lib/python3.7/site-packages/pandas/core/internals/managers.py\u001b[0m in \u001b[0;36mapply\u001b[0;34m(self, f, align_keys, ignore_failures, **kwargs)\u001b[0m\n\u001b[1;32m    325\u001b[0m                     \u001b[0mapplied\u001b[0m \u001b[0;34m=\u001b[0m \u001b[0mb\u001b[0m\u001b[0;34m.\u001b[0m\u001b[0mapply\u001b[0m\u001b[0;34m(\u001b[0m\u001b[0mf\u001b[0m\u001b[0;34m,\u001b[0m \u001b[0;34m**\u001b[0m\u001b[0mkwargs\u001b[0m\u001b[0;34m)\u001b[0m\u001b[0;34m\u001b[0m\u001b[0;34m\u001b[0m\u001b[0m\n\u001b[1;32m    326\u001b[0m                 \u001b[0;32melse\u001b[0m\u001b[0;34m:\u001b[0m\u001b[0;34m\u001b[0m\u001b[0;34m\u001b[0m\u001b[0m\n\u001b[0;32m--> 327\u001b[0;31m                     \u001b[0mapplied\u001b[0m \u001b[0;34m=\u001b[0m \u001b[0mgetattr\u001b[0m\u001b[0;34m(\u001b[0m\u001b[0mb\u001b[0m\u001b[0;34m,\u001b[0m \u001b[0mf\u001b[0m\u001b[0;34m)\u001b[0m\u001b[0;34m(\u001b[0m\u001b[0;34m**\u001b[0m\u001b[0mkwargs\u001b[0m\u001b[0;34m)\u001b[0m\u001b[0;34m\u001b[0m\u001b[0;34m\u001b[0m\u001b[0m\n\u001b[0m\u001b[1;32m    328\u001b[0m             \u001b[0;32mexcept\u001b[0m \u001b[0;34m(\u001b[0m\u001b[0mTypeError\u001b[0m\u001b[0;34m,\u001b[0m \u001b[0mNotImplementedError\u001b[0m\u001b[0;34m)\u001b[0m\u001b[0;34m:\u001b[0m\u001b[0;34m\u001b[0m\u001b[0;34m\u001b[0m\u001b[0m\n\u001b[1;32m    329\u001b[0m                 \u001b[0;32mif\u001b[0m \u001b[0;32mnot\u001b[0m \u001b[0mignore_failures\u001b[0m\u001b[0;34m:\u001b[0m\u001b[0;34m\u001b[0m\u001b[0;34m\u001b[0m\u001b[0m\n",
      "\u001b[0;32m/mnt/infonas/data/eeshaan/fairness/audit_env/lib/python3.7/site-packages/pandas/core/internals/blocks.py\u001b[0m in \u001b[0;36mastype\u001b[0;34m(self, dtype, copy, errors)\u001b[0m\n\u001b[1;32m    589\u001b[0m         \u001b[0mvalues\u001b[0m \u001b[0;34m=\u001b[0m \u001b[0mself\u001b[0m\u001b[0;34m.\u001b[0m\u001b[0mvalues\u001b[0m\u001b[0;34m\u001b[0m\u001b[0;34m\u001b[0m\u001b[0m\n\u001b[1;32m    590\u001b[0m \u001b[0;34m\u001b[0m\u001b[0m\n\u001b[0;32m--> 591\u001b[0;31m         \u001b[0mnew_values\u001b[0m \u001b[0;34m=\u001b[0m \u001b[0mastype_array_safe\u001b[0m\u001b[0;34m(\u001b[0m\u001b[0mvalues\u001b[0m\u001b[0;34m,\u001b[0m \u001b[0mdtype\u001b[0m\u001b[0;34m,\u001b[0m \u001b[0mcopy\u001b[0m\u001b[0;34m=\u001b[0m\u001b[0mcopy\u001b[0m\u001b[0;34m,\u001b[0m \u001b[0merrors\u001b[0m\u001b[0;34m=\u001b[0m\u001b[0merrors\u001b[0m\u001b[0;34m)\u001b[0m\u001b[0;34m\u001b[0m\u001b[0;34m\u001b[0m\u001b[0m\n\u001b[0m\u001b[1;32m    592\u001b[0m \u001b[0;34m\u001b[0m\u001b[0m\n\u001b[1;32m    593\u001b[0m         \u001b[0mnew_values\u001b[0m \u001b[0;34m=\u001b[0m \u001b[0mmaybe_coerce_values\u001b[0m\u001b[0;34m(\u001b[0m\u001b[0mnew_values\u001b[0m\u001b[0;34m)\u001b[0m\u001b[0;34m\u001b[0m\u001b[0;34m\u001b[0m\u001b[0m\n",
      "\u001b[0;32m/mnt/infonas/data/eeshaan/fairness/audit_env/lib/python3.7/site-packages/pandas/core/dtypes/cast.py\u001b[0m in \u001b[0;36mastype_array_safe\u001b[0;34m(values, dtype, copy, errors)\u001b[0m\n\u001b[1;32m   1307\u001b[0m \u001b[0;34m\u001b[0m\u001b[0m\n\u001b[1;32m   1308\u001b[0m     \u001b[0;32mtry\u001b[0m\u001b[0;34m:\u001b[0m\u001b[0;34m\u001b[0m\u001b[0;34m\u001b[0m\u001b[0m\n\u001b[0;32m-> 1309\u001b[0;31m         \u001b[0mnew_values\u001b[0m \u001b[0;34m=\u001b[0m \u001b[0mastype_array\u001b[0m\u001b[0;34m(\u001b[0m\u001b[0mvalues\u001b[0m\u001b[0;34m,\u001b[0m \u001b[0mdtype\u001b[0m\u001b[0;34m,\u001b[0m \u001b[0mcopy\u001b[0m\u001b[0;34m=\u001b[0m\u001b[0mcopy\u001b[0m\u001b[0;34m)\u001b[0m\u001b[0;34m\u001b[0m\u001b[0;34m\u001b[0m\u001b[0m\n\u001b[0m\u001b[1;32m   1310\u001b[0m     \u001b[0;32mexcept\u001b[0m \u001b[0;34m(\u001b[0m\u001b[0mValueError\u001b[0m\u001b[0;34m,\u001b[0m \u001b[0mTypeError\u001b[0m\u001b[0;34m)\u001b[0m\u001b[0;34m:\u001b[0m\u001b[0;34m\u001b[0m\u001b[0;34m\u001b[0m\u001b[0m\n\u001b[1;32m   1311\u001b[0m         \u001b[0;31m# e.g. astype_nansafe can fail on object-dtype of strings\u001b[0m\u001b[0;34m\u001b[0m\u001b[0;34m\u001b[0m\u001b[0;34m\u001b[0m\u001b[0m\n",
      "\u001b[0;32m/mnt/infonas/data/eeshaan/fairness/audit_env/lib/python3.7/site-packages/pandas/core/dtypes/cast.py\u001b[0m in \u001b[0;36mastype_array\u001b[0;34m(values, dtype, copy)\u001b[0m\n\u001b[1;32m   1255\u001b[0m \u001b[0;34m\u001b[0m\u001b[0m\n\u001b[1;32m   1256\u001b[0m     \u001b[0;32melse\u001b[0m\u001b[0;34m:\u001b[0m\u001b[0;34m\u001b[0m\u001b[0;34m\u001b[0m\u001b[0m\n\u001b[0;32m-> 1257\u001b[0;31m         \u001b[0mvalues\u001b[0m \u001b[0;34m=\u001b[0m \u001b[0mastype_nansafe\u001b[0m\u001b[0;34m(\u001b[0m\u001b[0mvalues\u001b[0m\u001b[0;34m,\u001b[0m \u001b[0mdtype\u001b[0m\u001b[0;34m,\u001b[0m \u001b[0mcopy\u001b[0m\u001b[0;34m=\u001b[0m\u001b[0mcopy\u001b[0m\u001b[0;34m)\u001b[0m\u001b[0;34m\u001b[0m\u001b[0;34m\u001b[0m\u001b[0m\n\u001b[0m\u001b[1;32m   1258\u001b[0m \u001b[0;34m\u001b[0m\u001b[0m\n\u001b[1;32m   1259\u001b[0m     \u001b[0;31m# in pandas we don't store numpy str dtypes, so convert to object\u001b[0m\u001b[0;34m\u001b[0m\u001b[0;34m\u001b[0m\u001b[0;34m\u001b[0m\u001b[0m\n",
      "\u001b[0;32m/mnt/infonas/data/eeshaan/fairness/audit_env/lib/python3.7/site-packages/pandas/core/dtypes/cast.py\u001b[0m in \u001b[0;36mastype_nansafe\u001b[0;34m(arr, dtype, copy, skipna)\u001b[0m\n\u001b[1;32m   1093\u001b[0m     \u001b[0;32mif\u001b[0m \u001b[0marr\u001b[0m\u001b[0;34m.\u001b[0m\u001b[0mndim\u001b[0m \u001b[0;34m>\u001b[0m \u001b[0;36m1\u001b[0m\u001b[0;34m:\u001b[0m\u001b[0;34m\u001b[0m\u001b[0;34m\u001b[0m\u001b[0m\n\u001b[1;32m   1094\u001b[0m         \u001b[0mflat\u001b[0m \u001b[0;34m=\u001b[0m \u001b[0marr\u001b[0m\u001b[0;34m.\u001b[0m\u001b[0mravel\u001b[0m\u001b[0;34m(\u001b[0m\u001b[0;34m)\u001b[0m\u001b[0;34m\u001b[0m\u001b[0;34m\u001b[0m\u001b[0m\n\u001b[0;32m-> 1095\u001b[0;31m         \u001b[0mresult\u001b[0m \u001b[0;34m=\u001b[0m \u001b[0mastype_nansafe\u001b[0m\u001b[0;34m(\u001b[0m\u001b[0mflat\u001b[0m\u001b[0;34m,\u001b[0m \u001b[0mdtype\u001b[0m\u001b[0;34m,\u001b[0m \u001b[0mcopy\u001b[0m\u001b[0;34m=\u001b[0m\u001b[0mcopy\u001b[0m\u001b[0;34m,\u001b[0m \u001b[0mskipna\u001b[0m\u001b[0;34m=\u001b[0m\u001b[0mskipna\u001b[0m\u001b[0;34m)\u001b[0m\u001b[0;34m\u001b[0m\u001b[0;34m\u001b[0m\u001b[0m\n\u001b[0m\u001b[1;32m   1096\u001b[0m         \u001b[0;31m# error: Item \"ExtensionArray\" of \"Union[ExtensionArray, ndarray]\" has no\u001b[0m\u001b[0;34m\u001b[0m\u001b[0;34m\u001b[0m\u001b[0;34m\u001b[0m\u001b[0m\n\u001b[1;32m   1097\u001b[0m         \u001b[0;31m# attribute \"reshape\"\u001b[0m\u001b[0;34m\u001b[0m\u001b[0;34m\u001b[0m\u001b[0;34m\u001b[0m\u001b[0m\n",
      "\u001b[0;32m/mnt/infonas/data/eeshaan/fairness/audit_env/lib/python3.7/site-packages/pandas/core/dtypes/cast.py\u001b[0m in \u001b[0;36mastype_nansafe\u001b[0;34m(arr, dtype, copy, skipna)\u001b[0m\n\u001b[1;32m   1199\u001b[0m     \u001b[0;32mif\u001b[0m \u001b[0mcopy\u001b[0m \u001b[0;32mor\u001b[0m \u001b[0mis_object_dtype\u001b[0m\u001b[0;34m(\u001b[0m\u001b[0marr\u001b[0m\u001b[0;34m.\u001b[0m\u001b[0mdtype\u001b[0m\u001b[0;34m)\u001b[0m \u001b[0;32mor\u001b[0m \u001b[0mis_object_dtype\u001b[0m\u001b[0;34m(\u001b[0m\u001b[0mdtype\u001b[0m\u001b[0;34m)\u001b[0m\u001b[0;34m:\u001b[0m\u001b[0;34m\u001b[0m\u001b[0;34m\u001b[0m\u001b[0m\n\u001b[1;32m   1200\u001b[0m         \u001b[0;31m# Explicit copy, or required since NumPy can't view from / to object.\u001b[0m\u001b[0;34m\u001b[0m\u001b[0;34m\u001b[0m\u001b[0;34m\u001b[0m\u001b[0m\n\u001b[0;32m-> 1201\u001b[0;31m         \u001b[0;32mreturn\u001b[0m \u001b[0marr\u001b[0m\u001b[0;34m.\u001b[0m\u001b[0mastype\u001b[0m\u001b[0;34m(\u001b[0m\u001b[0mdtype\u001b[0m\u001b[0;34m,\u001b[0m \u001b[0mcopy\u001b[0m\u001b[0;34m=\u001b[0m\u001b[0;32mTrue\u001b[0m\u001b[0;34m)\u001b[0m\u001b[0;34m\u001b[0m\u001b[0;34m\u001b[0m\u001b[0m\n\u001b[0m\u001b[1;32m   1202\u001b[0m \u001b[0;34m\u001b[0m\u001b[0m\n\u001b[1;32m   1203\u001b[0m     \u001b[0;32mreturn\u001b[0m \u001b[0marr\u001b[0m\u001b[0;34m.\u001b[0m\u001b[0mastype\u001b[0m\u001b[0;34m(\u001b[0m\u001b[0mdtype\u001b[0m\u001b[0;34m,\u001b[0m \u001b[0mcopy\u001b[0m\u001b[0;34m=\u001b[0m\u001b[0mcopy\u001b[0m\u001b[0;34m)\u001b[0m\u001b[0;34m\u001b[0m\u001b[0;34m\u001b[0m\u001b[0m\n",
      "\u001b[0;31mValueError\u001b[0m: could not convert string to float: 'Private'"
     ]
    }
   ],
   "source": [
    "df4 = df.astype(float)"
   ]
  },
  {
   "cell_type": "code",
   "execution_count": 111,
   "id": "a2dbbf8e-f717-4647-bb3d-f3c9d6d68abf",
   "metadata": {
    "tags": []
   },
   "outputs": [],
   "source": [
    "df3 = df[df['occupation'] == 'Armed-Forces']"
   ]
  },
  {
   "cell_type": "code",
   "execution_count": 113,
   "id": "863a76f3-149e-4c6b-bacf-5477ed5da5f2",
   "metadata": {
    "tags": []
   },
   "outputs": [
    {
     "data": {
      "text/plain": [
       "array(['Male'], dtype=object)"
      ]
     },
     "execution_count": 113,
     "metadata": {},
     "output_type": "execute_result"
    }
   ],
   "source": [
    "df3['gender'].unique()"
   ]
  },
  {
   "cell_type": "code",
   "execution_count": 130,
   "id": "cf21efe7-b4ac-4494-98a0-5aa238aac853",
   "metadata": {
    "tags": []
   },
   "outputs": [
    {
     "name": "stdout",
     "output_type": "stream",
     "text": [
      "(46033, 13)\n",
      "True\n",
      "['age', 'capital_gain', 'capital_loss', 'hours_per_week', 'workclass_Private', 'workclass_Local-gov', 'workclass_Self-emp-not-inc', 'workclass_Federal-gov', 'workclass_State-gov', 'workclass_Self-emp-inc', 'workclass_Without-pay', 'education_11th', 'education_HS-grad', 'education_Assoc-acdm', 'education_Some-college', 'education_10th', 'education_Prof-school', 'education_7th-8th', 'education_Bachelors', 'education_Masters', 'education_Doctorate', 'education_5th-6th', 'education_Assoc-voc', 'education_9th', 'education_12th', 'education_1st-4th', 'education_Preschool', 'marital_status_Never-married', 'marital_status_Married-civ-spouse', 'marital_status_Widowed', 'marital_status_Separated', 'marital_status_Divorced', 'marital_status_Married-spouse-absent', 'marital_status_Married-AF-spouse', 'occupation_Machine-op-inspct', 'occupation_Farming-fishing', 'occupation_Protective-serv', 'occupation_Other-service', 'occupation_Prof-specialty', 'occupation_Craft-repair', 'occupation_Adm-clerical', 'occupation_Exec-managerial', 'occupation_Tech-support', 'occupation_Sales', 'occupation_Priv-house-serv', 'occupation_Transport-moving', 'occupation_Handlers-cleaners', 'occupation_Armed-Forces', 'relationship_Own-child', 'relationship_Husband', 'relationship_Not-in-family', 'relationship_Unmarried', 'relationship_Wife', 'relationship_Other-relative', 'race_Black', 'race_White', 'race_Asian-Pac-Islander', 'race_Other', 'race_Amer-Indian-Eskimo', 'gender', 'native_country_United-States', 'native_country_?', 'native_country_Peru', 'native_country_Guatemala', 'native_country_Mexico', 'native_country_Dominican-Republic', 'native_country_Ireland', 'native_country_Germany', 'native_country_Philippines', 'native_country_Thailand', 'native_country_Haiti', 'native_country_El-Salvador', 'native_country_Puerto-Rico', 'native_country_Vietnam', 'native_country_South', 'native_country_Columbia', 'native_country_Japan', 'native_country_India', 'native_country_Cambodia', 'native_country_Poland', 'native_country_Laos', 'native_country_England', 'native_country_Cuba', 'native_country_Taiwan', 'native_country_Italy', 'native_country_Canada', 'native_country_Portugal', 'native_country_China', 'native_country_Nicaragua', 'native_country_Honduras', 'native_country_Iran', 'native_country_Scotland', 'native_country_Jamaica', 'native_country_Ecuador', 'native_country_Yugoslavia', 'native_country_Hungary', 'native_country_Hong', 'native_country_Greece', 'native_country_Trinadad&Tobago', 'native_country_Outlying-US(Guam-USVI-etc)', 'native_country_France', 'native_country_Holand-Netherlands'] 102\n"
     ]
    }
   ],
   "source": [
    "X, y = utils.get_dataset('adult_income', return_dataframe=True)"
   ]
  },
  {
   "cell_type": "code",
   "execution_count": 133,
   "id": "ed8b519b-a317-4478-bb92-807928a673ff",
   "metadata": {
    "tags": []
   },
   "outputs": [
    {
     "data": {
      "text/plain": [
       "0        0\n",
       "1        0\n",
       "2        0\n",
       "3        0\n",
       "5        0\n",
       "        ..\n",
       "48837    1\n",
       "48838    0\n",
       "48839    1\n",
       "48840    0\n",
       "48841    1\n",
       "Name: gender, Length: 46033, dtype: int64"
      ]
     },
     "execution_count": 133,
     "metadata": {},
     "output_type": "execute_result"
    }
   ],
   "source": [
    "X['gender']"
   ]
  },
  {
   "cell_type": "code",
   "execution_count": 131,
   "id": "70c030c8-3079-4e5e-a4fc-4031076d829a",
   "metadata": {
    "tags": []
   },
   "outputs": [],
   "source": [
    "index = X['gender'] == 1"
   ]
  },
  {
   "cell_type": "code",
   "execution_count": 134,
   "id": "1f9159ee-beae-40ee-93f7-a1ba8f65305d",
   "metadata": {
    "tags": []
   },
   "outputs": [],
   "source": [
    "tt = X[index]"
   ]
  },
  {
   "cell_type": "code",
   "execution_count": 136,
   "id": "6ba274a6-fa05-4fdc-a003-3f0adbdb88a8",
   "metadata": {
    "tags": []
   },
   "outputs": [
    {
     "data": {
      "text/plain": [
       "0        False\n",
       "1        False\n",
       "2        False\n",
       "3        False\n",
       "5        False\n",
       "         ...  \n",
       "48837     True\n",
       "48838    False\n",
       "48839     True\n",
       "48840    False\n",
       "48841     True\n",
       "Name: gender, Length: 46033, dtype: bool"
      ]
     },
     "execution_count": 136,
     "metadata": {},
     "output_type": "execute_result"
    }
   ],
   "source": [
    "index"
   ]
  },
  {
   "cell_type": "code",
   "execution_count": null,
   "id": "c21edc7b-9a34-432d-98e1-ddd63705ceb0",
   "metadata": {},
   "outputs": [],
   "source": []
  },
  {
   "cell_type": "code",
   "execution_count": null,
   "id": "ca3a2f36-852b-4ad6-8c01-308e766ad25d",
   "metadata": {},
   "outputs": [],
   "source": []
  },
  {
   "cell_type": "code",
   "execution_count": 129,
   "id": "a06a54ba-9d88-4182-838a-a3828f2949ed",
   "metadata": {
    "tags": []
   },
   "outputs": [
    {
     "data": {
      "text/plain": [
       "array([0, 1])"
      ]
     },
     "execution_count": 129,
     "metadata": {},
     "output_type": "execute_result"
    }
   ],
   "source": [
    "X['gender'].unique()"
   ]
  },
  {
   "cell_type": "code",
   "execution_count": 132,
   "id": "8fc7b9e5-ec26-4ad8-bd4b-0604946aaa9f",
   "metadata": {
    "tags": []
   },
   "outputs": [
    {
     "data": {
      "text/plain": [
       "46033"
      ]
     },
     "execution_count": 132,
     "metadata": {},
     "output_type": "execute_result"
    }
   ],
   "source": [
    "len(index)"
   ]
  },
  {
   "cell_type": "code",
   "execution_count": 137,
   "id": "47afa545-6c64-444d-92a8-5cd35cbaeaf2",
   "metadata": {
    "tags": []
   },
   "outputs": [],
   "source": [
    "from utils import get_split_dataset"
   ]
  },
  {
   "cell_type": "code",
   "execution_count": 138,
   "id": "6d11682e-b7d5-4b24-9cd5-1553a504d612",
   "metadata": {
    "tags": []
   },
   "outputs": [
    {
     "name": "stdout",
     "output_type": "stream",
     "text": [
      "(46033, 13)\n",
      "True\n"
     ]
    }
   ],
   "source": [
    "tt = get_split_dataset('adult_income', 'gender')"
   ]
  },
  {
   "cell_type": "code",
   "execution_count": 139,
   "id": "fe67282c-475c-434e-b137-7cf2352e669e",
   "metadata": {
    "tags": []
   },
   "outputs": [
    {
     "data": {
      "text/plain": [
       "102"
      ]
     },
     "execution_count": 139,
     "metadata": {},
     "output_type": "execute_result"
    }
   ],
   "source": [
    "tt[4]"
   ]
  },
  {
   "cell_type": "code",
   "execution_count": 140,
   "id": "f7655bd0-27b1-4e78-bca0-7556450ae2d4",
   "metadata": {
    "tags": []
   },
   "outputs": [
    {
     "data": {
      "text/plain": [
       "2984"
      ]
     },
     "execution_count": 140,
     "metadata": {},
     "output_type": "execute_result"
    }
   ],
   "source": [
    "tt[3]"
   ]
  },
  {
   "cell_type": "code",
   "execution_count": 141,
   "id": "f20a1e64-43f0-4b03-86ab-ec8813f5a68d",
   "metadata": {
    "tags": []
   },
   "outputs": [
    {
     "data": {
      "text/plain": [
       "102"
      ]
     },
     "execution_count": 141,
     "metadata": {},
     "output_type": "execute_result"
    }
   ],
   "source": [
    "tt[-2]"
   ]
  },
  {
   "cell_type": "code",
   "execution_count": null,
   "id": "93d11ff2-3f45-4564-abc5-b77c66b49750",
   "metadata": {},
   "outputs": [],
   "source": []
  }
 ],
 "metadata": {
  "kernelspec": {
   "display_name": "Python 3 (ipykernel)",
   "language": "python",
   "name": "python3"
  },
  "language_info": {
   "codemirror_mode": {
    "name": "ipython",
    "version": 3
   },
   "file_extension": ".py",
   "mimetype": "text/x-python",
   "name": "python",
   "nbconvert_exporter": "python",
   "pygments_lexer": "ipython3",
   "version": "3.7.5"
  }
 },
 "nbformat": 4,
 "nbformat_minor": 5
}
