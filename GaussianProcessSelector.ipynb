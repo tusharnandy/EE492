{
 "cells": [
  {
   "cell_type": "code",
   "execution_count": 4,
   "id": "9638b04e-2dff-48aa-9af4-e89cba0ed080",
   "metadata": {
    "tags": []
   },
   "outputs": [],
   "source": [
    "import torch\n",
    "import torch.nn as nn\n",
    "import torch.nn.functional as F\n",
    "import sys\n",
    "import pandas as pd\n",
    "import urllib.request\n",
    "import math\n",
    "import gpytorch\n",
    "from matplotlib import pyplot as plt\n",
    "import random\n",
    "import numpy as np\n",
    "import urllib.request\n",
    "import os\n",
    "from math import floor\n",
    "from blackbox_models import *\n",
    "import tqdm\n",
    "import utils\n",
    "from vae_models import *"
   ]
  },
  {
   "cell_type": "code",
   "execution_count": 3,
   "id": "a14caa4d-f0f9-4b59-b12b-de08ab727d27",
   "metadata": {
    "tags": []
   },
   "outputs": [],
   "source": [
    "num_device = 0\n",
    "device = torch.device(f'cuda:{num_device}' if torch.cuda.is_available() else 'cpu')"
   ]
  },
  {
   "cell_type": "code",
   "execution_count": 5,
   "id": "10f116ad-b753-47e6-85b7-5683b496858f",
   "metadata": {
    "tags": []
   },
   "outputs": [],
   "source": [
    "vae = RelaxedBernoulliVAE(102, 64, 16).to(device)"
   ]
  },
  {
   "cell_type": "code",
   "execution_count": 9,
   "id": "47f77529-3062-4b61-966f-93b5f062a8ab",
   "metadata": {
    "tags": []
   },
   "outputs": [
    {
     "data": {
      "text/plain": [
       "RelaxedBernoulliVAE(\n",
       "  (enc1): Linear(in_features=102, out_features=64, bias=True)\n",
       "  (enc2): Linear(in_features=64, out_features=16, bias=True)\n",
       "  (dec1): Linear(in_features=16, out_features=64, bias=True)\n",
       "  (dec2): Linear(in_features=64, out_features=102, bias=True)\n",
       ")"
      ]
     },
     "execution_count": 9,
     "metadata": {},
     "output_type": "execute_result"
    }
   ],
   "source": [
    "vae.load_state_dict(torch.load('checkpoints/adult_income/rbvae/best.pt'))\n",
    "vae.eval()"
   ]
  },
  {
   "cell_type": "code",
   "execution_count": 10,
   "id": "229d991a-ad13-4532-b52d-ebef12cceaec",
   "metadata": {
    "tags": []
   },
   "outputs": [],
   "source": [
    "train, test = utils.get_dataset('adult_income', return_dataloader=False)"
   ]
  },
  {
   "cell_type": "code",
   "execution_count": 13,
   "id": "af7bd1ce-c372-41a1-88aa-822174354f35",
   "metadata": {
    "tags": []
   },
   "outputs": [
    {
     "data": {
      "text/plain": [
       "36826"
      ]
     },
     "execution_count": 13,
     "metadata": {},
     "output_type": "execute_result"
    }
   ],
   "source": [
    "len(train)"
   ]
  },
  {
   "cell_type": "code",
   "execution_count": null,
   "id": "0a6f0094-2561-4e3f-bbbd-5bb0f7783291",
   "metadata": {},
   "outputs": [],
   "source": []
  }
 ],
 "metadata": {
  "kernelspec": {
   "display_name": "Python 3 (ipykernel)",
   "language": "python",
   "name": "python3"
  },
  "language_info": {
   "codemirror_mode": {
    "name": "ipython",
    "version": 3
   },
   "file_extension": ".py",
   "mimetype": "text/x-python",
   "name": "python",
   "nbconvert_exporter": "python",
   "pygments_lexer": "ipython3",
   "version": "3.7.5"
  }
 },
 "nbformat": 4,
 "nbformat_minor": 5
}
