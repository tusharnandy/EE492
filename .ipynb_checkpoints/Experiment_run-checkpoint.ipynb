{
 "cells": [
  {
   "cell_type": "code",
   "execution_count": 1,
   "metadata": {},
   "outputs": [],
   "source": [
    "import torch\n",
    "import torch.nn as nn\n",
    "import torch.nn.functional as F\n",
    "import sys\n",
    "import pandas as pd\n",
    "import urllib.request\n",
    "import math\n",
    "import gpytorch\n",
    "from matplotlib import pyplot as plt\n",
    "import random\n",
    "import numpy as np\n",
    "import urllib.request\n",
    "import os\n",
    "from math import floor\n",
    "import black_box\n",
    "import tqdm"
   ]
  },
  {
   "cell_type": "code",
   "execution_count": 2,
   "metadata": {},
   "outputs": [],
   "source": [
    "data_dim = 102\n",
    "\n",
    "class FCN(torch.nn.Sequential):\n",
    "    def __init__(self):\n",
    "        super(FCN, self).__init__()\n",
    "        self.add_module('linear1', torch.nn.Linear(data_dim, 50))\n",
    "        self.add_module('relu1', torch.nn.ReLU())\n",
    "        self.add_module('linear2', torch.nn.Linear(50, 2))\n",
    "\n",
    "feature_extractor = FCN()\n",
    "\n",
    "class GPRegressionModel(gpytorch.models.ExactGP):\n",
    "        def __init__(self, train_x, train_y, likelihood):\n",
    "            super(GPRegressionModel, self).__init__(train_x, train_y, likelihood)\n",
    "            self.mean_module = gpytorch.means.ConstantMean()\n",
    "            self.covar_module = gpytorch.kernels.GridInterpolationKernel(\n",
    "                gpytorch.kernels.ScaleKernel(gpytorch.kernels.RBFKernel(ard_num_dims=2)),\n",
    "                num_dims=2, grid_size=100\n",
    "            )\n",
    "            self.feature_extractor = feature_extractor\n",
    "\n",
    "            # This module will scale the NN features so that they're nice values\n",
    "            self.scale_to_bounds = gpytorch.utils.grid.ScaleToBounds(-1., 1.)\n",
    "\n",
    "        def forward(self, x):\n",
    "            # We're first putting our data through a deep net (feature extractor)\n",
    "            projected_x = self.feature_extractor(x)\n",
    "            projected_x = self.scale_to_bounds(projected_x)  # Make the NN values \"nice\"\n",
    "\n",
    "            mean_x = self.mean_module(projected_x)\n",
    "            covar_x = self.covar_module(projected_x)\n",
    "            return gpytorch.distributions.MultivariateNormal(mean_x, covar_x)\n",
    "\n",
    "\n",
    "def train(train_x, train_y, num_device=0):\n",
    "    device = torch.device(f'cuda:{num_device}' if torch.cuda.is_available() else 'cpu')\n",
    "    likelihood = gpytorch.likelihoods.GaussianLikelihood()\n",
    "    model = GPRegressionModel(train_x, train_y, likelihood)\n",
    "\n",
    "    model.to(device)\n",
    "    likelihood.to(device)\n",
    "\n",
    "    training_iterations = 60\n",
    "\n",
    "    optimizer = torch.optim.Adam([\n",
    "    {'params': model.feature_extractor.parameters()},\n",
    "    {'params': model.covar_module.parameters()},\n",
    "    {'params': model.mean_module.parameters()},\n",
    "    {'params': model.likelihood.parameters()},], lr=0.01)\n",
    "    mll = gpytorch.mlls.ExactMarginalLogLikelihood(likelihood, model)\n",
    "\n",
    "    demo_parity = 0\n",
    "    iterator = range(training_iterations)\n",
    "    \n",
    "    model.train()\n",
    "    likelihood.train()\n",
    "    \n",
    "    best_loss = 10e5\n",
    "    penalty_count = 0\n",
    "    for i in tqdm.tqdm(range(training_iterations)):\n",
    "#         print(i)\n",
    "        # Zero backprop gradients\n",
    "        optimizer.zero_grad()\n",
    "        # Get output from model\n",
    "        output = model(train_x.to(device))\n",
    "\n",
    "        # Calc loss and backprop derivatives\n",
    "        loss = -mll(output, train_y.to(device))\n",
    "        \n",
    "        if loss >= best_loss:\n",
    "            penalty_count += 1\n",
    "        else:\n",
    "            penalty_count = 0\n",
    "            best_loss = loss\n",
    "        \n",
    "        if penalty_count == 5:\n",
    "            break\n",
    "        \n",
    "        loss.backward()\n",
    "        optimizer.step()\n",
    "\n",
    "\n",
    "        #     model.eval()\n",
    "        #     likelihood.eval()\n",
    "\n",
    "    return model, likelihood\n"
   ]
  },
  {
   "cell_type": "code",
   "execution_count": 3,
   "metadata": {},
   "outputs": [],
   "source": [
    "df_base = pd.read_csv(\"Data/data1.csv\")"
   ]
  },
  {
   "cell_type": "code",
   "execution_count": 4,
   "metadata": {},
   "outputs": [],
   "source": [
    "df_base.drop(['Unnamed: 0'], axis=1, inplace = True)\n",
    "df_base_pos = df_base[df_base['gender_Female'] > 0]\n",
    "df_base_neg = df_base[df_base['gender_Female'] <= 0]"
   ]
  },
  {
   "cell_type": "code",
   "execution_count": 5,
   "metadata": {},
   "outputs": [],
   "source": [
    "df_base_neg = df_base_neg.reset_index(drop=True)\n",
    "df_base_pos = df_base_pos.reset_index(drop=True)"
   ]
  },
  {
   "cell_type": "code",
   "execution_count": 6,
   "metadata": {},
   "outputs": [],
   "source": [
    "temp_pos = df_base_pos.sample(1000)\n",
    "temp_neg = df_base_neg.sample(1000)\n",
    "pos_queried, pos_labels = temp_pos.drop(columns='income').values, temp_pos['income'].values\n",
    "neg_queried, neg_labels = temp_neg.drop(columns='income').values, temp_neg['income'].values"
   ]
  },
  {
   "cell_type": "code",
   "execution_count": 7,
   "metadata": {},
   "outputs": [
    {
     "name": "stderr",
     "output_type": "stream",
     "text": [
      "100%|██████████| 60/60 [00:14<00:00,  4.14it/s]\n",
      "100%|██████████| 60/60 [00:16<00:00,  3.70it/s]\n"
     ]
    }
   ],
   "source": [
    "#### training the GPs ####\n",
    "model_pos, likelihood_pos = train(\n",
    "    torch.tensor(pos_queried.astype(np.float32)),\n",
    "    torch.tensor(pos_labels.astype(np.float32)),\n",
    "    num_device=0\n",
    ")\n",
    "\n",
    "model_neg, likelihood_neg = train(\n",
    "    torch.tensor(neg_queried.astype(np.float32)),\n",
    "    torch.tensor(neg_labels.astype(np.float32)),\n",
    "    num_device=0\n",
    ")\n"
   ]
  },
  {
   "cell_type": "code",
   "execution_count": 8,
   "metadata": {},
   "outputs": [
    {
     "data": {
      "text/plain": [
       "GaussianLikelihood(\n",
       "  (noise_covar): HomoskedasticNoise(\n",
       "    (raw_noise_constraint): GreaterThan(1.000E-04)\n",
       "  )\n",
       ")"
      ]
     },
     "execution_count": 8,
     "metadata": {},
     "output_type": "execute_result"
    }
   ],
   "source": [
    "model_pos.eval()\n",
    "likelihood_pos.eval()\n",
    "\n",
    "model_neg.eval()\n",
    "likelihood_neg.eval()"
   ]
  },
  {
   "cell_type": "code",
   "execution_count": 9,
   "metadata": {},
   "outputs": [],
   "source": [
    "from vae import VAE"
   ]
  },
  {
   "cell_type": "code",
   "execution_count": 10,
   "metadata": {},
   "outputs": [],
   "source": [
    "vae1 = VAE(102, 64, 16)\n",
    "checkpoint1 = torch.load('checkpoints/vae1.pth')\n",
    "\n",
    "vae0 = VAE(102, 64, 16)\n",
    "checkpoint0 = torch.load('checkpoints/vae0.pth')"
   ]
  },
  {
   "cell_type": "code",
   "execution_count": 11,
   "metadata": {},
   "outputs": [
    {
     "data": {
      "text/plain": [
       "VAE(\n",
       "  (encoder): Encoder(\n",
       "    (fc1): Linear(in_features=102, out_features=64, bias=True)\n",
       "    (fc2): Linear(in_features=64, out_features=64, bias=True)\n",
       "    (fc3): Linear(in_features=64, out_features=32, bias=True)\n",
       "  )\n",
       "  (decoder): Decoder(\n",
       "    (fc1): Linear(in_features=16, out_features=64, bias=True)\n",
       "    (fc2): Linear(in_features=64, out_features=64, bias=True)\n",
       "    (fc3): Linear(in_features=64, out_features=102, bias=True)\n",
       "  )\n",
       ")"
      ]
     },
     "execution_count": 11,
     "metadata": {},
     "output_type": "execute_result"
    }
   ],
   "source": [
    "vae0.load_state_dict(checkpoint0['model_state_dict'])\n",
    "vae0.eval()"
   ]
  },
  {
   "cell_type": "code",
   "execution_count": 12,
   "metadata": {},
   "outputs": [
    {
     "data": {
      "text/plain": [
       "VAE(\n",
       "  (encoder): Encoder(\n",
       "    (fc1): Linear(in_features=102, out_features=64, bias=True)\n",
       "    (fc2): Linear(in_features=64, out_features=64, bias=True)\n",
       "    (fc3): Linear(in_features=64, out_features=32, bias=True)\n",
       "  )\n",
       "  (decoder): Decoder(\n",
       "    (fc1): Linear(in_features=16, out_features=64, bias=True)\n",
       "    (fc2): Linear(in_features=64, out_features=64, bias=True)\n",
       "    (fc3): Linear(in_features=64, out_features=102, bias=True)\n",
       "  )\n",
       ")"
      ]
     },
     "execution_count": 12,
     "metadata": {},
     "output_type": "execute_result"
    }
   ],
   "source": [
    "vae1.load_state_dict(checkpoint1['model_state_dict'])\n",
    "vae1.eval()"
   ]
  },
  {
   "cell_type": "code",
   "execution_count": null,
   "metadata": {},
   "outputs": [
    {
     "name": "stdout",
     "output_type": "stream",
     "text": [
      "0\n"
     ]
    },
    {
     "name": "stderr",
     "output_type": "stream",
     "text": [
      " 26%|██▌       | 13/50 [00:01<00:03, 10.10it/s]\n",
      "100%|██████████| 60/60 [00:13<00:00,  4.39it/s]\n",
      "  2%|▏         | 1/50 [00:00<00:09,  5.31it/s]"
     ]
    },
    {
     "name": "stdout",
     "output_type": "stream",
     "text": [
      "tensor([0.4356], grad_fn=<ExpandBackward0>)\n",
      "tensor([0.4356], grad_fn=<ExpandBackward0>)\n",
      "tensor([0.4356], grad_fn=<ExpandBackward0>)\n"
     ]
    },
    {
     "name": "stderr",
     "output_type": "stream",
     "text": [
      "  8%|▊         | 4/50 [00:00<00:05,  8.99it/s]"
     ]
    },
    {
     "name": "stdout",
     "output_type": "stream",
     "text": [
      "tensor([0.4355], grad_fn=<ExpandBackward0>)\n",
      "tensor([0.4356], grad_fn=<ExpandBackward0>)\n",
      "tensor([0.4355], grad_fn=<ExpandBackward0>)\n"
     ]
    },
    {
     "name": "stderr",
     "output_type": "stream",
     "text": [
      " 14%|█▍        | 7/50 [00:00<00:04,  9.86it/s]"
     ]
    },
    {
     "name": "stdout",
     "output_type": "stream",
     "text": [
      "tensor([0.4355], grad_fn=<ExpandBackward0>)\n",
      "tensor([0.4355], grad_fn=<ExpandBackward0>)\n",
      "tensor([0.4356], grad_fn=<ExpandBackward0>)\n"
     ]
    },
    {
     "name": "stderr",
     "output_type": "stream",
     "text": [
      " 22%|██▏       | 11/50 [00:01<00:03, 10.37it/s]"
     ]
    },
    {
     "name": "stdout",
     "output_type": "stream",
     "text": [
      "tensor([0.4355], grad_fn=<ExpandBackward0>)\n",
      "tensor([0.4355], grad_fn=<ExpandBackward0>)\n",
      "tensor([0.4355], grad_fn=<ExpandBackward0>)\n"
     ]
    },
    {
     "name": "stderr",
     "output_type": "stream",
     "text": [
      "\r",
      " 26%|██▌       | 13/50 [00:01<00:03, 10.30it/s]"
     ]
    },
    {
     "name": "stdout",
     "output_type": "stream",
     "text": [
      "tensor([0.4355], grad_fn=<ExpandBackward0>)\n",
      "tensor([0.4355], grad_fn=<ExpandBackward0>)\n",
      "tensor([0.4355], grad_fn=<ExpandBackward0>)\n"
     ]
    },
    {
     "name": "stderr",
     "output_type": "stream",
     "text": [
      " 34%|███▍      | 17/50 [00:01<00:03, 10.56it/s]"
     ]
    },
    {
     "name": "stdout",
     "output_type": "stream",
     "text": [
      "tensor([0.4356], grad_fn=<ExpandBackward0>)\n",
      "tensor([0.4355], grad_fn=<ExpandBackward0>)\n",
      "tensor([0.4356], grad_fn=<ExpandBackward0>)\n"
     ]
    },
    {
     "name": "stderr",
     "output_type": "stream",
     "text": [
      "\r",
      " 38%|███▊      | 19/50 [00:01<00:02, 10.50it/s]"
     ]
    },
    {
     "name": "stdout",
     "output_type": "stream",
     "text": [
      "tensor([0.4355], grad_fn=<ExpandBackward0>)\n",
      "tensor([0.4355], grad_fn=<ExpandBackward0>)\n",
      "tensor([0.4356], grad_fn=<ExpandBackward0>)\n"
     ]
    },
    {
     "name": "stderr",
     "output_type": "stream",
     "text": [
      " 46%|████▌     | 23/50 [00:02<00:02, 10.14it/s]"
     ]
    },
    {
     "name": "stdout",
     "output_type": "stream",
     "text": [
      "tensor([0.4356], grad_fn=<ExpandBackward0>)\n",
      "tensor([0.4355], grad_fn=<ExpandBackward0>)\n"
     ]
    },
    {
     "name": "stderr",
     "output_type": "stream",
     "text": [
      "\r",
      " 50%|█████     | 25/50 [00:02<00:02, 10.18it/s]"
     ]
    },
    {
     "name": "stdout",
     "output_type": "stream",
     "text": [
      "tensor([0.4355], grad_fn=<ExpandBackward0>)\n",
      "tensor([0.4355], grad_fn=<ExpandBackward0>)\n",
      "tensor([0.4356], grad_fn=<ExpandBackward0>)\n"
     ]
    },
    {
     "name": "stderr",
     "output_type": "stream",
     "text": [
      "\r",
      " 54%|█████▍    | 27/50 [00:02<00:02, 10.10it/s]"
     ]
    },
    {
     "name": "stdout",
     "output_type": "stream",
     "text": [
      "tensor([0.4356], grad_fn=<ExpandBackward0>)\n",
      "tensor([0.4356], grad_fn=<ExpandBackward0>)\n",
      "tensor([0.4355], grad_fn=<ExpandBackward0>)\n"
     ]
    },
    {
     "name": "stderr",
     "output_type": "stream",
     "text": [
      " 62%|██████▏   | 31/50 [00:03<00:01,  9.79it/s]"
     ]
    },
    {
     "name": "stdout",
     "output_type": "stream",
     "text": [
      "tensor([0.4355], grad_fn=<ExpandBackward0>)\n",
      "tensor([0.4356], grad_fn=<ExpandBackward0>)\n"
     ]
    },
    {
     "name": "stderr",
     "output_type": "stream",
     "text": [
      " 66%|██████▌   | 33/50 [00:03<00:01,  9.51it/s]"
     ]
    },
    {
     "name": "stdout",
     "output_type": "stream",
     "text": [
      "tensor([0.4355], grad_fn=<ExpandBackward0>)\n",
      "tensor([0.4355], grad_fn=<ExpandBackward0>)\n",
      "tensor([0.4355], grad_fn=<ExpandBackward0>)\n",
      "tensor([0.4356], grad_fn=<ExpandBackward0>)\n"
     ]
    },
    {
     "name": "stderr",
     "output_type": "stream",
     "text": [
      " 72%|███████▏  | 36/50 [00:03<00:01,  7.60it/s]"
     ]
    },
    {
     "name": "stdout",
     "output_type": "stream",
     "text": [
      "tensor([0.4356], grad_fn=<ExpandBackward0>)\n",
      "tensor([0.4355], grad_fn=<ExpandBackward0>)\n",
      "tensor([0.4355], grad_fn=<ExpandBackward0>)\n"
     ]
    },
    {
     "name": "stderr",
     "output_type": "stream",
     "text": [
      " 80%|████████  | 40/50 [00:04<00:01,  8.97it/s]"
     ]
    },
    {
     "name": "stdout",
     "output_type": "stream",
     "text": [
      "tensor([0.4355], grad_fn=<ExpandBackward0>)\n",
      "tensor([0.4356], grad_fn=<ExpandBackward0>)\n"
     ]
    },
    {
     "name": "stderr",
     "output_type": "stream",
     "text": [
      "\r",
      " 82%|████████▏ | 41/50 [00:04<00:01,  8.85it/s]"
     ]
    },
    {
     "name": "stdout",
     "output_type": "stream",
     "text": [
      "tensor([0.4356], grad_fn=<ExpandBackward0>)\n",
      "tensor([0.4355], grad_fn=<ExpandBackward0>)\n"
     ]
    },
    {
     "name": "stderr",
     "output_type": "stream",
     "text": [
      " 88%|████████▊ | 44/50 [00:04<00:00,  9.23it/s]"
     ]
    },
    {
     "name": "stdout",
     "output_type": "stream",
     "text": [
      "tensor([0.4355], grad_fn=<ExpandBackward0>)\n",
      "tensor([0.4355], grad_fn=<ExpandBackward0>)\n"
     ]
    },
    {
     "name": "stderr",
     "output_type": "stream",
     "text": [
      "\r",
      " 90%|█████████ | 45/50 [00:04<00:00,  9.10it/s]"
     ]
    },
    {
     "name": "stdout",
     "output_type": "stream",
     "text": [
      "tensor([0.4356], grad_fn=<ExpandBackward0>)\n",
      "tensor([0.4356], grad_fn=<ExpandBackward0>)\n",
      "tensor([0.4356], grad_fn=<ExpandBackward0>)\n"
     ]
    },
    {
     "name": "stderr",
     "output_type": "stream",
     "text": [
      " 96%|█████████▌| 48/50 [00:04<00:00,  9.95it/s]"
     ]
    },
    {
     "name": "stdout",
     "output_type": "stream",
     "text": [
      "tensor([0.4355], grad_fn=<ExpandBackward0>)\n",
      "tensor([0.4355], grad_fn=<ExpandBackward0>)\n",
      "tensor([0.4355], grad_fn=<ExpandBackward0>)\n"
     ]
    },
    {
     "name": "stderr",
     "output_type": "stream",
     "text": [
      "100%|██████████| 50/50 [00:05<00:00,  9.69it/s]\n",
      "100%|██████████| 60/60 [00:17<00:00,  3.45it/s]\n"
     ]
    },
    {
     "name": "stdout",
     "output_type": "stream",
     "text": [
      "1\n"
     ]
    },
    {
     "name": "stderr",
     "output_type": "stream",
     "text": [
      " 14%|█▍        | 7/50 [00:00<00:04,  8.91it/s]\n",
      "100%|██████████| 60/60 [00:16<00:00,  3.74it/s]\n",
      "  4%|▍         | 2/50 [00:00<00:05,  8.38it/s]"
     ]
    },
    {
     "name": "stdout",
     "output_type": "stream",
     "text": [
      "tensor([0.4357], grad_fn=<ExpandBackward0>)\n",
      "tensor([0.4356], grad_fn=<ExpandBackward0>)\n",
      "tensor([0.4356], grad_fn=<ExpandBackward0>)\n"
     ]
    },
    {
     "name": "stderr",
     "output_type": "stream",
     "text": [
      "\r",
      "  8%|▊         | 4/50 [00:00<00:04, 10.00it/s]"
     ]
    },
    {
     "name": "stdout",
     "output_type": "stream",
     "text": [
      "tensor([0.4357], grad_fn=<ExpandBackward0>)\n",
      "tensor([0.4357], grad_fn=<ExpandBackward0>)\n",
      "tensor([0.4357], grad_fn=<ExpandBackward0>)\n"
     ]
    },
    {
     "name": "stderr",
     "output_type": "stream",
     "text": [
      " 16%|█▌        | 8/50 [00:00<00:03, 10.74it/s]"
     ]
    },
    {
     "name": "stdout",
     "output_type": "stream",
     "text": [
      "tensor([0.4356], grad_fn=<ExpandBackward0>)\n",
      "tensor([0.4356], grad_fn=<ExpandBackward0>)\n",
      "tensor([0.4356], grad_fn=<ExpandBackward0>)\n"
     ]
    },
    {
     "name": "stderr",
     "output_type": "stream",
     "text": [
      "\r",
      " 20%|██        | 10/50 [00:00<00:03, 10.30it/s]"
     ]
    },
    {
     "name": "stdout",
     "output_type": "stream",
     "text": [
      "tensor([0.4356], grad_fn=<ExpandBackward0>)\n",
      "tensor([0.4357], grad_fn=<ExpandBackward0>)\n",
      "tensor([0.4356], grad_fn=<ExpandBackward0>)\n"
     ]
    },
    {
     "name": "stderr",
     "output_type": "stream",
     "text": [
      " 28%|██▊       | 14/50 [00:01<00:03, 10.95it/s]"
     ]
    },
    {
     "name": "stdout",
     "output_type": "stream",
     "text": [
      "tensor([0.4357], grad_fn=<ExpandBackward0>)\n",
      "tensor([0.4357], grad_fn=<ExpandBackward0>)\n",
      "tensor([0.4357], grad_fn=<ExpandBackward0>)\n"
     ]
    },
    {
     "name": "stderr",
     "output_type": "stream",
     "text": [
      " 34%|███▍      | 17/50 [00:01<00:03,  9.55it/s]"
     ]
    },
    {
     "name": "stdout",
     "output_type": "stream",
     "text": [
      "tensor([0.4357], grad_fn=<ExpandBackward0>)\n",
      "tensor([0.4357], grad_fn=<ExpandBackward0>)\n"
     ]
    },
    {
     "name": "stderr",
     "output_type": "stream",
     "text": [
      "\r",
      " 36%|███▌      | 18/50 [00:01<00:03,  9.43it/s]"
     ]
    },
    {
     "name": "stdout",
     "output_type": "stream",
     "text": [
      "tensor([0.4357], grad_fn=<ExpandBackward0>)\n",
      "tensor([0.4357], grad_fn=<ExpandBackward0>)\n",
      "tensor([0.4357], grad_fn=<ExpandBackward0>)\n"
     ]
    },
    {
     "name": "stderr",
     "output_type": "stream",
     "text": [
      " 44%|████▍     | 22/50 [00:02<00:02, 10.56it/s]"
     ]
    },
    {
     "name": "stdout",
     "output_type": "stream",
     "text": [
      "tensor([0.4356], grad_fn=<ExpandBackward0>)\n",
      "tensor([0.4356], grad_fn=<ExpandBackward0>)\n",
      "tensor([0.4357], grad_fn=<ExpandBackward0>)\n"
     ]
    },
    {
     "name": "stderr",
     "output_type": "stream",
     "text": [
      "\r",
      " 48%|████▊     | 24/50 [00:02<00:02, 10.67it/s]"
     ]
    },
    {
     "name": "stdout",
     "output_type": "stream",
     "text": [
      "tensor([0.4356], grad_fn=<ExpandBackward0>)\n",
      "tensor([0.4356], grad_fn=<ExpandBackward0>)\n"
     ]
    },
    {
     "name": "stderr",
     "output_type": "stream",
     "text": [
      "\r",
      " 52%|█████▏    | 26/50 [00:02<00:02,  8.35it/s]"
     ]
    },
    {
     "name": "stdout",
     "output_type": "stream",
     "text": [
      "tensor([0.4356], grad_fn=<ExpandBackward0>)\n"
     ]
    },
    {
     "name": "stderr",
     "output_type": "stream",
     "text": [
      " 56%|█████▌    | 28/50 [00:02<00:02,  8.19it/s]"
     ]
    },
    {
     "name": "stdout",
     "output_type": "stream",
     "text": [
      "tensor([0.4357], grad_fn=<ExpandBackward0>)\n",
      "tensor([0.4356], grad_fn=<ExpandBackward0>)\n"
     ]
    },
    {
     "name": "stderr",
     "output_type": "stream",
     "text": [
      "\r",
      " 58%|█████▊    | 29/50 [00:03<00:03,  6.94it/s]"
     ]
    },
    {
     "name": "stdout",
     "output_type": "stream",
     "text": [
      "tensor([0.4356], grad_fn=<ExpandBackward0>)\n",
      "tensor([0.4357], grad_fn=<ExpandBackward0>)\n"
     ]
    },
    {
     "name": "stderr",
     "output_type": "stream",
     "text": [
      "\r",
      " 62%|██████▏   | 31/50 [00:03<00:02,  8.26it/s]"
     ]
    },
    {
     "name": "stdout",
     "output_type": "stream",
     "text": [
      "tensor([0.4357], grad_fn=<ExpandBackward0>)\n",
      "tensor([0.4357], grad_fn=<ExpandBackward0>)\n",
      "tensor([0.4357], grad_fn=<ExpandBackward0>)\n"
     ]
    },
    {
     "name": "stderr",
     "output_type": "stream",
     "text": [
      " 70%|███████   | 35/50 [00:03<00:01,  8.67it/s]"
     ]
    },
    {
     "name": "stdout",
     "output_type": "stream",
     "text": [
      "tensor([0.4357], grad_fn=<ExpandBackward0>)\n",
      "tensor([0.4356], grad_fn=<ExpandBackward0>)\n"
     ]
    },
    {
     "name": "stderr",
     "output_type": "stream",
     "text": [
      "\r",
      " 74%|███████▍  | 37/50 [00:03<00:01,  9.55it/s]"
     ]
    },
    {
     "name": "stdout",
     "output_type": "stream",
     "text": [
      "tensor([0.4357], grad_fn=<ExpandBackward0>)\n",
      "tensor([0.4356], grad_fn=<ExpandBackward0>)\n",
      "tensor([0.4356], grad_fn=<ExpandBackward0>)\n"
     ]
    },
    {
     "name": "stderr",
     "output_type": "stream",
     "text": [
      "\r",
      " 78%|███████▊  | 39/50 [00:04<00:01,  9.74it/s]"
     ]
    },
    {
     "name": "stdout",
     "output_type": "stream",
     "text": [
      "tensor([0.4357], grad_fn=<ExpandBackward0>)\n",
      "tensor([0.4357], grad_fn=<ExpandBackward0>)\n"
     ]
    },
    {
     "name": "stderr",
     "output_type": "stream",
     "text": [
      " 84%|████████▍ | 42/50 [00:04<00:00,  9.56it/s]"
     ]
    },
    {
     "name": "stdout",
     "output_type": "stream",
     "text": [
      "tensor([0.4357], grad_fn=<ExpandBackward0>)\n",
      "tensor([0.4357], grad_fn=<ExpandBackward0>)\n",
      "tensor([0.4356], grad_fn=<ExpandBackward0>)\n"
     ]
    },
    {
     "name": "stderr",
     "output_type": "stream",
     "text": [
      " 90%|█████████ | 45/50 [00:04<00:00, 10.29it/s]"
     ]
    },
    {
     "name": "stdout",
     "output_type": "stream",
     "text": [
      "tensor([0.4357], grad_fn=<ExpandBackward0>)\n",
      "tensor([0.4356], grad_fn=<ExpandBackward0>)\n",
      "tensor([0.4357], grad_fn=<ExpandBackward0>)\n"
     ]
    },
    {
     "name": "stderr",
     "output_type": "stream",
     "text": [
      "\r",
      " 94%|█████████▍| 47/50 [00:05<00:00,  9.16it/s]"
     ]
    },
    {
     "name": "stdout",
     "output_type": "stream",
     "text": [
      "tensor([0.4357], grad_fn=<ExpandBackward0>)\n",
      "tensor([0.4356], grad_fn=<ExpandBackward0>)\n",
      "tensor([0.4357], grad_fn=<ExpandBackward0>)\n"
     ]
    },
    {
     "name": "stderr",
     "output_type": "stream",
     "text": [
      "100%|██████████| 50/50 [00:05<00:00,  9.38it/s]\n"
     ]
    },
    {
     "name": "stdout",
     "output_type": "stream",
     "text": [
      "tensor([0.4356], grad_fn=<ExpandBackward0>)\n"
     ]
    },
    {
     "name": "stderr",
     "output_type": "stream",
     "text": [
      "100%|██████████| 60/60 [00:15<00:00,  3.95it/s]\n"
     ]
    },
    {
     "name": "stdout",
     "output_type": "stream",
     "text": [
      "2\n"
     ]
    },
    {
     "name": "stderr",
     "output_type": "stream",
     "text": [
      " 14%|█▍        | 7/50 [00:00<00:04,  9.44it/s]\n",
      "100%|██████████| 60/60 [00:13<00:00,  4.33it/s]\n",
      "  4%|▍         | 2/50 [00:00<00:05,  8.39it/s]"
     ]
    },
    {
     "name": "stdout",
     "output_type": "stream",
     "text": [
      "tensor([0.4355], grad_fn=<ExpandBackward0>)\n",
      "tensor([0.4355], grad_fn=<ExpandBackward0>)\n",
      "tensor([0.4355], grad_fn=<ExpandBackward0>)\n"
     ]
    },
    {
     "name": "stderr",
     "output_type": "stream",
     "text": [
      "\r",
      "  8%|▊         | 4/50 [00:00<00:04, 10.13it/s]"
     ]
    },
    {
     "name": "stdout",
     "output_type": "stream",
     "text": [
      "tensor([0.4355], grad_fn=<ExpandBackward0>)\n",
      "tensor([0.4355], grad_fn=<ExpandBackward0>)\n",
      "tensor([0.4355], grad_fn=<ExpandBackward0>)\n"
     ]
    },
    {
     "name": "stderr",
     "output_type": "stream",
     "text": [
      " 16%|█▌        | 8/50 [00:00<00:03, 10.95it/s]"
     ]
    },
    {
     "name": "stdout",
     "output_type": "stream",
     "text": [
      "tensor([0.4355], grad_fn=<ExpandBackward0>)\n",
      "tensor([0.4355], grad_fn=<ExpandBackward0>)\n",
      "tensor([0.4355], grad_fn=<ExpandBackward0>)\n"
     ]
    },
    {
     "name": "stderr",
     "output_type": "stream",
     "text": [
      "\r",
      " 20%|██        | 10/50 [00:00<00:03, 10.59it/s]"
     ]
    },
    {
     "name": "stdout",
     "output_type": "stream",
     "text": [
      "tensor([0.4355], grad_fn=<ExpandBackward0>)\n",
      "tensor([0.4355], grad_fn=<ExpandBackward0>)\n",
      "tensor([0.4355], grad_fn=<ExpandBackward0>)\n"
     ]
    },
    {
     "name": "stderr",
     "output_type": "stream",
     "text": [
      " 28%|██▊       | 14/50 [00:01<00:03, 11.30it/s]"
     ]
    },
    {
     "name": "stdout",
     "output_type": "stream",
     "text": [
      "tensor([0.4355], grad_fn=<ExpandBackward0>)\n",
      "tensor([0.4354], grad_fn=<ExpandBackward0>)\n",
      "tensor([0.4355], grad_fn=<ExpandBackward0>)\n"
     ]
    },
    {
     "name": "stderr",
     "output_type": "stream",
     "text": [
      "\r",
      " 32%|███▏      | 16/50 [00:01<00:03, 10.74it/s]"
     ]
    },
    {
     "name": "stdout",
     "output_type": "stream",
     "text": [
      "tensor([0.4355], grad_fn=<ExpandBackward0>)\n",
      "tensor([0.4355], grad_fn=<ExpandBackward0>)\n"
     ]
    },
    {
     "name": "stderr",
     "output_type": "stream",
     "text": [
      "\r",
      " 36%|███▌      | 18/50 [00:01<00:03,  9.18it/s]"
     ]
    },
    {
     "name": "stdout",
     "output_type": "stream",
     "text": [
      "tensor([0.4355], grad_fn=<ExpandBackward0>)\n",
      "tensor([0.4355], grad_fn=<ExpandBackward0>)\n",
      "tensor([0.4355], grad_fn=<ExpandBackward0>)\n"
     ]
    },
    {
     "name": "stderr",
     "output_type": "stream",
     "text": [
      " 44%|████▍     | 22/50 [00:02<00:02,  9.50it/s]"
     ]
    },
    {
     "name": "stdout",
     "output_type": "stream",
     "text": [
      "tensor([0.4355], grad_fn=<ExpandBackward0>)\n",
      "tensor([0.4355], grad_fn=<ExpandBackward0>)\n"
     ]
    },
    {
     "name": "stderr",
     "output_type": "stream",
     "text": [
      "\r",
      " 46%|████▌     | 23/50 [00:02<00:02,  9.42it/s]"
     ]
    },
    {
     "name": "stdout",
     "output_type": "stream",
     "text": [
      "tensor([0.4355], grad_fn=<ExpandBackward0>)\n",
      "tensor([0.4355], grad_fn=<ExpandBackward0>)\n",
      "tensor([0.4355], grad_fn=<ExpandBackward0>)\n"
     ]
    },
    {
     "name": "stderr",
     "output_type": "stream",
     "text": [
      " 54%|█████▍    | 27/50 [00:02<00:02,  9.35it/s]"
     ]
    },
    {
     "name": "stdout",
     "output_type": "stream",
     "text": [
      "tensor([0.4355], grad_fn=<ExpandBackward0>)\n",
      "tensor([0.4355], grad_fn=<ExpandBackward0>)\n"
     ]
    },
    {
     "name": "stderr",
     "output_type": "stream",
     "text": [
      "\r",
      " 58%|█████▊    | 29/50 [00:02<00:02,  9.70it/s]"
     ]
    },
    {
     "name": "stdout",
     "output_type": "stream",
     "text": [
      "tensor([0.4355], grad_fn=<ExpandBackward0>)\n",
      "tensor([0.4355], grad_fn=<ExpandBackward0>)\n"
     ]
    },
    {
     "name": "stderr",
     "output_type": "stream",
     "text": [
      " 62%|██████▏   | 31/50 [00:03<00:02,  8.77it/s]"
     ]
    },
    {
     "name": "stdout",
     "output_type": "stream",
     "text": [
      "tensor([0.4355], grad_fn=<ExpandBackward0>)\n",
      "tensor([0.4355], grad_fn=<ExpandBackward0>)\n"
     ]
    },
    {
     "name": "stderr",
     "output_type": "stream",
     "text": [
      "\r",
      " 64%|██████▍   | 32/50 [00:03<00:02,  7.79it/s]"
     ]
    },
    {
     "name": "stdout",
     "output_type": "stream",
     "text": [
      "tensor([0.4355], grad_fn=<ExpandBackward0>)\n",
      "tensor([0.4354], grad_fn=<ExpandBackward0>)\n"
     ]
    },
    {
     "name": "stderr",
     "output_type": "stream",
     "text": [
      " 70%|███████   | 35/50 [00:03<00:01,  8.29it/s]"
     ]
    },
    {
     "name": "stdout",
     "output_type": "stream",
     "text": [
      "tensor([0.4355], grad_fn=<ExpandBackward0>)\n",
      "tensor([0.4355], grad_fn=<ExpandBackward0>)\n"
     ]
    },
    {
     "name": "stderr",
     "output_type": "stream",
     "text": [
      "\r",
      " 74%|███████▍  | 37/50 [00:03<00:01,  9.04it/s]"
     ]
    },
    {
     "name": "stdout",
     "output_type": "stream",
     "text": [
      "tensor([0.4355], grad_fn=<ExpandBackward0>)\n",
      "tensor([0.4355], grad_fn=<ExpandBackward0>)\n",
      "tensor([0.4355], grad_fn=<ExpandBackward0>)\n"
     ]
    },
    {
     "name": "stderr",
     "output_type": "stream",
     "text": [
      "\r",
      " 78%|███████▊  | 39/50 [00:04<00:01,  9.04it/s]"
     ]
    },
    {
     "name": "stdout",
     "output_type": "stream",
     "text": [
      "tensor([0.4355], grad_fn=<ExpandBackward0>)\n",
      "tensor([0.4355], grad_fn=<ExpandBackward0>)\n",
      "tensor([0.4355], grad_fn=<ExpandBackward0>)\n"
     ]
    },
    {
     "name": "stderr",
     "output_type": "stream",
     "text": [
      " 86%|████████▌ | 43/50 [00:04<00:00,  9.10it/s]"
     ]
    },
    {
     "name": "stdout",
     "output_type": "stream",
     "text": [
      "tensor([0.4355], grad_fn=<ExpandBackward0>)\n",
      "tensor([0.4355], grad_fn=<ExpandBackward0>)\n"
     ]
    },
    {
     "name": "stderr",
     "output_type": "stream",
     "text": [
      "\r",
      " 90%|█████████ | 45/50 [00:04<00:00,  9.36it/s]"
     ]
    },
    {
     "name": "stdout",
     "output_type": "stream",
     "text": [
      "tensor([0.4355], grad_fn=<ExpandBackward0>)\n",
      "tensor([0.4355], grad_fn=<ExpandBackward0>)\n"
     ]
    },
    {
     "name": "stderr",
     "output_type": "stream",
     "text": [
      "\r",
      " 92%|█████████▏| 46/50 [00:04<00:00,  8.79it/s]"
     ]
    },
    {
     "name": "stdout",
     "output_type": "stream",
     "text": [
      "tensor([0.4355], grad_fn=<ExpandBackward0>)\n",
      "tensor([0.4355], grad_fn=<ExpandBackward0>)\n",
      "tensor([0.4355], grad_fn=<ExpandBackward0>)\n"
     ]
    },
    {
     "name": "stderr",
     "output_type": "stream",
     "text": [
      "100%|██████████| 50/50 [00:05<00:00,  9.43it/s]\n"
     ]
    },
    {
     "name": "stdout",
     "output_type": "stream",
     "text": [
      "tensor([0.4355], grad_fn=<ExpandBackward0>)\n",
      "tensor([0.4355], grad_fn=<ExpandBackward0>)\n"
     ]
    },
    {
     "name": "stderr",
     "output_type": "stream",
     "text": [
      "100%|██████████| 60/60 [00:13<00:00,  4.32it/s]\n"
     ]
    },
    {
     "name": "stdout",
     "output_type": "stream",
     "text": [
      "3\n"
     ]
    },
    {
     "name": "stderr",
     "output_type": "stream",
     "text": [
      " 30%|███       | 15/50 [00:01<00:03,  8.90it/s]\n",
      "100%|██████████| 60/60 [00:13<00:00,  4.29it/s]\n",
      "  4%|▍         | 2/50 [00:00<00:06,  7.33it/s]"
     ]
    },
    {
     "name": "stdout",
     "output_type": "stream",
     "text": [
      "tensor([0.4356], grad_fn=<ExpandBackward0>)\n",
      "tensor([0.4356], grad_fn=<ExpandBackward0>)\n"
     ]
    },
    {
     "name": "stderr",
     "output_type": "stream",
     "text": [
      "\r",
      "  8%|▊         | 4/50 [00:00<00:04,  9.26it/s]"
     ]
    },
    {
     "name": "stdout",
     "output_type": "stream",
     "text": [
      "tensor([0.4356], grad_fn=<ExpandBackward0>)\n",
      "tensor([0.4356], grad_fn=<ExpandBackward0>)\n",
      "tensor([0.4356], grad_fn=<ExpandBackward0>)\n"
     ]
    },
    {
     "name": "stderr",
     "output_type": "stream",
     "text": [
      "\r",
      " 12%|█▏        | 6/50 [00:00<00:04,  9.68it/s]"
     ]
    },
    {
     "name": "stdout",
     "output_type": "stream",
     "text": [
      "tensor([0.4356], grad_fn=<ExpandBackward0>)\n",
      "tensor([0.4356], grad_fn=<ExpandBackward0>)\n",
      "tensor([0.4356], grad_fn=<ExpandBackward0>)\n"
     ]
    },
    {
     "name": "stderr",
     "output_type": "stream",
     "text": [
      " 20%|██        | 10/50 [00:01<00:03, 10.41it/s]"
     ]
    },
    {
     "name": "stdout",
     "output_type": "stream",
     "text": [
      "tensor([0.4356], grad_fn=<ExpandBackward0>)\n",
      "tensor([0.4356], grad_fn=<ExpandBackward0>)\n",
      "tensor([0.4356], grad_fn=<ExpandBackward0>)\n"
     ]
    },
    {
     "name": "stderr",
     "output_type": "stream",
     "text": [
      "\r",
      " 24%|██▍       | 12/50 [00:01<00:03, 10.58it/s]"
     ]
    },
    {
     "name": "stdout",
     "output_type": "stream",
     "text": [
      "tensor([0.4356], grad_fn=<ExpandBackward0>)\n",
      "tensor([0.4356], grad_fn=<ExpandBackward0>)\n",
      "tensor([0.4356], grad_fn=<ExpandBackward0>)\n"
     ]
    },
    {
     "name": "stderr",
     "output_type": "stream",
     "text": [
      " 32%|███▏      | 16/50 [00:01<00:03, 10.54it/s]"
     ]
    },
    {
     "name": "stdout",
     "output_type": "stream",
     "text": [
      "tensor([0.4356], grad_fn=<ExpandBackward0>)\n",
      "tensor([0.4356], grad_fn=<ExpandBackward0>)\n",
      "tensor([0.4356], grad_fn=<ExpandBackward0>)\n"
     ]
    },
    {
     "name": "stderr",
     "output_type": "stream",
     "text": [
      "\r",
      " 36%|███▌      | 18/50 [00:01<00:03, 10.27it/s]"
     ]
    },
    {
     "name": "stdout",
     "output_type": "stream",
     "text": [
      "tensor([0.4356], grad_fn=<ExpandBackward0>)\n",
      "tensor([0.4356], grad_fn=<ExpandBackward0>)\n"
     ]
    },
    {
     "name": "stderr",
     "output_type": "stream",
     "text": [
      "\r",
      " 40%|████      | 20/50 [00:02<00:02, 10.15it/s]"
     ]
    },
    {
     "name": "stdout",
     "output_type": "stream",
     "text": [
      "tensor([0.4356], grad_fn=<ExpandBackward0>)\n",
      "tensor([0.4356], grad_fn=<ExpandBackward0>)\n",
      "tensor([0.4356], grad_fn=<ExpandBackward0>)\n"
     ]
    },
    {
     "name": "stderr",
     "output_type": "stream",
     "text": [
      " 48%|████▊     | 24/50 [00:02<00:02, 10.38it/s]"
     ]
    },
    {
     "name": "stdout",
     "output_type": "stream",
     "text": [
      "tensor([0.4356], grad_fn=<ExpandBackward0>)\n",
      "tensor([0.4356], grad_fn=<ExpandBackward0>)\n",
      "tensor([0.4356], grad_fn=<ExpandBackward0>)\n"
     ]
    },
    {
     "name": "stderr",
     "output_type": "stream",
     "text": [
      "\r",
      " 52%|█████▏    | 26/50 [00:02<00:02, 10.50it/s]"
     ]
    },
    {
     "name": "stdout",
     "output_type": "stream",
     "text": [
      "tensor([0.4356], grad_fn=<ExpandBackward0>)\n",
      "tensor([0.4356], grad_fn=<ExpandBackward0>)\n",
      "tensor([0.4356], grad_fn=<ExpandBackward0>)\n"
     ]
    },
    {
     "name": "stderr",
     "output_type": "stream",
     "text": [
      " 60%|██████    | 30/50 [00:02<00:01, 10.61it/s]"
     ]
    },
    {
     "name": "stdout",
     "output_type": "stream",
     "text": [
      "tensor([0.4356], grad_fn=<ExpandBackward0>)\n",
      "tensor([0.4356], grad_fn=<ExpandBackward0>)\n",
      "tensor([0.4356], grad_fn=<ExpandBackward0>)\n"
     ]
    },
    {
     "name": "stderr",
     "output_type": "stream",
     "text": [
      "\r",
      " 64%|██████▍   | 32/50 [00:03<00:01, 10.70it/s]"
     ]
    },
    {
     "name": "stdout",
     "output_type": "stream",
     "text": [
      "tensor([0.4356], grad_fn=<ExpandBackward0>)\n",
      "tensor([0.4356], grad_fn=<ExpandBackward0>)\n",
      "tensor([0.4356], grad_fn=<ExpandBackward0>)\n"
     ]
    },
    {
     "name": "stderr",
     "output_type": "stream",
     "text": [
      " 72%|███████▏  | 36/50 [00:03<00:01, 10.74it/s]"
     ]
    },
    {
     "name": "stdout",
     "output_type": "stream",
     "text": [
      "tensor([0.4356], grad_fn=<ExpandBackward0>)\n",
      "tensor([0.4356], grad_fn=<ExpandBackward0>)\n",
      "tensor([0.4356], grad_fn=<ExpandBackward0>)\n"
     ]
    },
    {
     "name": "stderr",
     "output_type": "stream",
     "text": [
      "\r",
      " 76%|███████▌  | 38/50 [00:03<00:01, 10.81it/s]"
     ]
    },
    {
     "name": "stdout",
     "output_type": "stream",
     "text": [
      "tensor([0.4356], grad_fn=<ExpandBackward0>)\n",
      "tensor([0.4356], grad_fn=<ExpandBackward0>)\n",
      "tensor([0.4356], grad_fn=<ExpandBackward0>)\n"
     ]
    },
    {
     "name": "stderr",
     "output_type": "stream",
     "text": [
      " 84%|████████▍ | 42/50 [00:04<00:00, 10.77it/s]"
     ]
    },
    {
     "name": "stdout",
     "output_type": "stream",
     "text": [
      "tensor([0.4356], grad_fn=<ExpandBackward0>)\n",
      "tensor([0.4356], grad_fn=<ExpandBackward0>)\n",
      "tensor([0.4356], grad_fn=<ExpandBackward0>)\n"
     ]
    },
    {
     "name": "stderr",
     "output_type": "stream",
     "text": [
      "\r",
      " 88%|████████▊ | 44/50 [00:04<00:00, 10.81it/s]"
     ]
    },
    {
     "name": "stdout",
     "output_type": "stream",
     "text": [
      "tensor([0.4356], grad_fn=<ExpandBackward0>)\n",
      "tensor([0.4356], grad_fn=<ExpandBackward0>)\n",
      "tensor([0.4356], grad_fn=<ExpandBackward0>)\n"
     ]
    },
    {
     "name": "stderr",
     "output_type": "stream",
     "text": [
      " 96%|█████████▌| 48/50 [00:04<00:00, 11.04it/s]"
     ]
    },
    {
     "name": "stdout",
     "output_type": "stream",
     "text": [
      "tensor([0.4356], grad_fn=<ExpandBackward0>)\n",
      "tensor([0.4356], grad_fn=<ExpandBackward0>)\n",
      "tensor([0.4356], grad_fn=<ExpandBackward0>)\n"
     ]
    },
    {
     "name": "stderr",
     "output_type": "stream",
     "text": [
      "100%|██████████| 50/50 [00:04<00:00, 10.44it/s]\n"
     ]
    },
    {
     "name": "stdout",
     "output_type": "stream",
     "text": [
      "tensor([0.4356], grad_fn=<ExpandBackward0>)\n"
     ]
    },
    {
     "name": "stderr",
     "output_type": "stream",
     "text": [
      "100%|██████████| 60/60 [00:13<00:00,  4.29it/s]\n"
     ]
    },
    {
     "name": "stdout",
     "output_type": "stream",
     "text": [
      "4\n"
     ]
    },
    {
     "name": "stderr",
     "output_type": "stream",
     "text": [
      " 36%|███▌      | 18/50 [00:02<00:03,  8.74it/s]\n",
      "100%|██████████| 60/60 [00:14<00:00,  4.13it/s]\n",
      "  4%|▍         | 2/50 [00:00<00:06,  7.30it/s]"
     ]
    },
    {
     "name": "stdout",
     "output_type": "stream",
     "text": [
      "tensor([0.4360], grad_fn=<ExpandBackward0>)\n",
      "tensor([0.4360], grad_fn=<ExpandBackward0>)\n"
     ]
    },
    {
     "name": "stderr",
     "output_type": "stream",
     "text": [
      "\r",
      "  6%|▌         | 3/50 [00:00<00:07,  6.64it/s]"
     ]
    },
    {
     "name": "stdout",
     "output_type": "stream",
     "text": [
      "tensor([0.4360], grad_fn=<ExpandBackward0>)\n",
      "tensor([0.4360], grad_fn=<ExpandBackward0>)\n",
      "tensor([0.4360], grad_fn=<ExpandBackward0>)\n"
     ]
    },
    {
     "name": "stderr",
     "output_type": "stream",
     "text": [
      " 12%|█▏        | 6/50 [00:00<00:06,  7.26it/s]"
     ]
    },
    {
     "name": "stdout",
     "output_type": "stream",
     "text": [
      "tensor([0.4360], grad_fn=<ExpandBackward0>)\n",
      "tensor([0.4360], grad_fn=<ExpandBackward0>)\n",
      "tensor([0.4360], grad_fn=<ExpandBackward0>)\n"
     ]
    },
    {
     "name": "stderr",
     "output_type": "stream",
     "text": [
      " 20%|██        | 10/50 [00:01<00:04,  8.77it/s]"
     ]
    },
    {
     "name": "stdout",
     "output_type": "stream",
     "text": [
      "tensor([0.4360], grad_fn=<ExpandBackward0>)\n",
      "tensor([0.4360], grad_fn=<ExpandBackward0>)\n"
     ]
    },
    {
     "name": "stderr",
     "output_type": "stream",
     "text": [
      "\r",
      " 22%|██▏       | 11/50 [00:01<00:04,  9.00it/s]"
     ]
    },
    {
     "name": "stdout",
     "output_type": "stream",
     "text": [
      "tensor([0.4360], grad_fn=<ExpandBackward0>)\n",
      "tensor([0.4360], grad_fn=<ExpandBackward0>)\n",
      "tensor([0.4360], grad_fn=<ExpandBackward0>)\n"
     ]
    },
    {
     "name": "stderr",
     "output_type": "stream",
     "text": [
      " 28%|██▊       | 14/50 [00:01<00:04,  8.09it/s]"
     ]
    },
    {
     "name": "stdout",
     "output_type": "stream",
     "text": [
      "tensor([0.4360], grad_fn=<ExpandBackward0>)\n"
     ]
    },
    {
     "name": "stderr",
     "output_type": "stream",
     "text": [
      " 32%|███▏      | 16/50 [00:01<00:04,  7.93it/s]"
     ]
    },
    {
     "name": "stdout",
     "output_type": "stream",
     "text": [
      "tensor([0.4360], grad_fn=<ExpandBackward0>)\n",
      "tensor([0.4360], grad_fn=<ExpandBackward0>)\n",
      "tensor([0.4360], grad_fn=<ExpandBackward0>)\n"
     ]
    },
    {
     "name": "stderr",
     "output_type": "stream",
     "text": [
      " 36%|███▌      | 18/50 [00:02<00:04,  7.73it/s]"
     ]
    },
    {
     "name": "stdout",
     "output_type": "stream",
     "text": [
      "tensor([0.4360], grad_fn=<ExpandBackward0>)\n"
     ]
    },
    {
     "name": "stderr",
     "output_type": "stream",
     "text": [
      "\r",
      " 38%|███▊      | 19/50 [00:02<00:06,  4.78it/s]"
     ]
    },
    {
     "name": "stdout",
     "output_type": "stream",
     "text": [
      "tensor([0.4360], grad_fn=<ExpandBackward0>)\n"
     ]
    },
    {
     "name": "stderr",
     "output_type": "stream",
     "text": [
      " 42%|████▏     | 21/50 [00:02<00:05,  5.47it/s]"
     ]
    },
    {
     "name": "stdout",
     "output_type": "stream",
     "text": [
      "tensor([0.4360], grad_fn=<ExpandBackward0>)\n",
      "tensor([0.4360], grad_fn=<ExpandBackward0>)\n"
     ]
    },
    {
     "name": "stderr",
     "output_type": "stream",
     "text": [
      " 46%|████▌     | 23/50 [00:03<00:03,  6.79it/s]"
     ]
    },
    {
     "name": "stdout",
     "output_type": "stream",
     "text": [
      "tensor([0.4360], grad_fn=<ExpandBackward0>)\n",
      "tensor([0.4360], grad_fn=<ExpandBackward0>)\n"
     ]
    },
    {
     "name": "stderr",
     "output_type": "stream",
     "text": [
      "\r",
      " 48%|████▊     | 24/50 [00:03<00:04,  5.61it/s]"
     ]
    },
    {
     "name": "stdout",
     "output_type": "stream",
     "text": [
      "tensor([0.4360], grad_fn=<ExpandBackward0>)\n"
     ]
    },
    {
     "name": "stderr",
     "output_type": "stream",
     "text": [
      "\r",
      " 50%|█████     | 25/50 [00:03<00:05,  4.92it/s]"
     ]
    },
    {
     "name": "stdout",
     "output_type": "stream",
     "text": [
      "tensor([0.4360], grad_fn=<ExpandBackward0>)\n"
     ]
    },
    {
     "name": "stderr",
     "output_type": "stream",
     "text": [
      "\r",
      " 52%|█████▏    | 26/50 [00:03<00:04,  4.98it/s]"
     ]
    },
    {
     "name": "stdout",
     "output_type": "stream",
     "text": [
      "tensor([0.4360], grad_fn=<ExpandBackward0>)\n",
      "tensor([0.4360], grad_fn=<ExpandBackward0>)\n",
      "tensor([0.4360], grad_fn=<ExpandBackward0>)\n"
     ]
    },
    {
     "name": "stderr",
     "output_type": "stream",
     "text": [
      " 58%|█████▊    | 29/50 [00:04<00:03,  5.61it/s]"
     ]
    },
    {
     "name": "stdout",
     "output_type": "stream",
     "text": [
      "tensor([0.4360], grad_fn=<ExpandBackward0>)\n"
     ]
    },
    {
     "name": "stderr",
     "output_type": "stream",
     "text": [
      " 62%|██████▏   | 31/50 [00:04<00:02,  6.66it/s]"
     ]
    },
    {
     "name": "stdout",
     "output_type": "stream",
     "text": [
      "tensor([0.4360], grad_fn=<ExpandBackward0>)\n",
      "tensor([0.4360], grad_fn=<ExpandBackward0>)\n"
     ]
    },
    {
     "name": "stderr",
     "output_type": "stream",
     "text": [
      "\r",
      " 64%|██████▍   | 32/50 [00:04<00:02,  6.82it/s]"
     ]
    },
    {
     "name": "stdout",
     "output_type": "stream",
     "text": [
      "tensor([0.4360], grad_fn=<ExpandBackward0>)\n"
     ]
    },
    {
     "name": "stderr",
     "output_type": "stream",
     "text": [
      "\r",
      " 66%|██████▌   | 33/50 [00:05<00:03,  4.84it/s]"
     ]
    },
    {
     "name": "stdout",
     "output_type": "stream",
     "text": [
      "tensor([0.4360], grad_fn=<ExpandBackward0>)\n"
     ]
    },
    {
     "name": "stderr",
     "output_type": "stream",
     "text": [
      " 70%|███████   | 35/50 [00:05<00:02,  6.22it/s]"
     ]
    },
    {
     "name": "stdout",
     "output_type": "stream",
     "text": [
      "tensor([0.4360], grad_fn=<ExpandBackward0>)\n",
      "tensor([0.4360], grad_fn=<ExpandBackward0>)\n"
     ]
    },
    {
     "name": "stderr",
     "output_type": "stream",
     "text": [
      "\r",
      " 72%|███████▏  | 36/50 [00:05<00:02,  6.88it/s]"
     ]
    },
    {
     "name": "stdout",
     "output_type": "stream",
     "text": [
      "tensor([0.4360], grad_fn=<ExpandBackward0>)\n"
     ]
    },
    {
     "name": "stderr",
     "output_type": "stream",
     "text": [
      "\r",
      " 74%|███████▍  | 37/50 [00:05<00:02,  4.70it/s]"
     ]
    },
    {
     "name": "stdout",
     "output_type": "stream",
     "text": [
      "tensor([0.4360], grad_fn=<ExpandBackward0>)\n"
     ]
    },
    {
     "name": "stderr",
     "output_type": "stream",
     "text": [
      "\r",
      " 76%|███████▌  | 38/50 [00:05<00:02,  5.28it/s]"
     ]
    },
    {
     "name": "stdout",
     "output_type": "stream",
     "text": [
      "tensor([0.4360], grad_fn=<ExpandBackward0>)\n",
      "tensor([0.4360], grad_fn=<ExpandBackward0>)\n",
      "tensor([0.4360], grad_fn=<ExpandBackward0>)\n"
     ]
    },
    {
     "name": "stderr",
     "output_type": "stream",
     "text": [
      " 82%|████████▏ | 41/50 [00:06<00:01,  7.45it/s]"
     ]
    },
    {
     "name": "stdout",
     "output_type": "stream",
     "text": [
      "tensor([0.4360], grad_fn=<ExpandBackward0>)\n",
      "tensor([0.4360], grad_fn=<ExpandBackward0>)\n",
      "tensor([0.4360], grad_fn=<ExpandBackward0>)\n"
     ]
    },
    {
     "name": "stderr",
     "output_type": "stream",
     "text": [
      " 90%|█████████ | 45/50 [00:06<00:00,  8.61it/s]"
     ]
    },
    {
     "name": "stdout",
     "output_type": "stream",
     "text": [
      "tensor([0.4360], grad_fn=<ExpandBackward0>)\n",
      "tensor([0.4360], grad_fn=<ExpandBackward0>)\n"
     ]
    },
    {
     "name": "stderr",
     "output_type": "stream",
     "text": [
      "\r",
      " 92%|█████████▏| 46/50 [00:06<00:00,  8.73it/s]"
     ]
    },
    {
     "name": "stdout",
     "output_type": "stream",
     "text": [
      "tensor([0.4360], grad_fn=<ExpandBackward0>)\n",
      "tensor([0.4360], grad_fn=<ExpandBackward0>)\n"
     ]
    },
    {
     "name": "stderr",
     "output_type": "stream",
     "text": [
      " 96%|█████████▌| 48/50 [00:07<00:00,  7.34it/s]"
     ]
    },
    {
     "name": "stdout",
     "output_type": "stream",
     "text": [
      "tensor([0.4360], grad_fn=<ExpandBackward0>)\n",
      "tensor([0.4360], grad_fn=<ExpandBackward0>)\n"
     ]
    },
    {
     "name": "stderr",
     "output_type": "stream",
     "text": [
      "100%|██████████| 50/50 [00:07<00:00,  6.82it/s]\n"
     ]
    },
    {
     "name": "stdout",
     "output_type": "stream",
     "text": [
      "tensor([0.4360], grad_fn=<ExpandBackward0>)\n"
     ]
    },
    {
     "name": "stderr",
     "output_type": "stream",
     "text": [
      "100%|██████████| 60/60 [00:14<00:00,  4.14it/s]\n"
     ]
    },
    {
     "name": "stdout",
     "output_type": "stream",
     "text": [
      "5\n"
     ]
    },
    {
     "name": "stderr",
     "output_type": "stream",
     "text": [
      " 16%|█▌        | 8/50 [00:00<00:04,  8.98it/s]\n",
      "100%|██████████| 60/60 [00:14<00:00,  4.07it/s]\n",
      "  4%|▍         | 2/50 [00:00<00:06,  7.73it/s]"
     ]
    },
    {
     "name": "stdout",
     "output_type": "stream",
     "text": [
      "tensor([0.4358], grad_fn=<ExpandBackward0>)\n",
      "tensor([0.4358], grad_fn=<ExpandBackward0>)\n"
     ]
    },
    {
     "name": "stderr",
     "output_type": "stream",
     "text": [
      "\r",
      "  6%|▌         | 3/50 [00:00<00:05,  7.92it/s]"
     ]
    },
    {
     "name": "stdout",
     "output_type": "stream",
     "text": [
      "tensor([0.4358], grad_fn=<ExpandBackward0>)\n",
      "tensor([0.4358], grad_fn=<ExpandBackward0>)\n",
      "tensor([0.4358], grad_fn=<ExpandBackward0>)\n"
     ]
    },
    {
     "name": "stderr",
     "output_type": "stream",
     "text": [
      " 14%|█▍        | 7/50 [00:00<00:04, 10.35it/s]"
     ]
    },
    {
     "name": "stdout",
     "output_type": "stream",
     "text": [
      "tensor([0.4358], grad_fn=<ExpandBackward0>)\n",
      "tensor([0.4358], grad_fn=<ExpandBackward0>)\n"
     ]
    },
    {
     "name": "stderr",
     "output_type": "stream",
     "text": [
      "\r",
      " 18%|█▊        | 9/50 [00:01<00:04,  8.72it/s]"
     ]
    },
    {
     "name": "stdout",
     "output_type": "stream",
     "text": [
      "tensor([0.4358], grad_fn=<ExpandBackward0>)\n",
      "tensor([0.4358], grad_fn=<ExpandBackward0>)\n"
     ]
    },
    {
     "name": "stderr",
     "output_type": "stream",
     "text": [
      "\r",
      " 20%|██        | 10/50 [00:01<00:04,  8.94it/s]"
     ]
    },
    {
     "name": "stdout",
     "output_type": "stream",
     "text": [
      "tensor([0.4358], grad_fn=<ExpandBackward0>)\n",
      "tensor([0.4358], grad_fn=<ExpandBackward0>)\n",
      "tensor([0.4358], grad_fn=<ExpandBackward0>)\n"
     ]
    },
    {
     "name": "stderr",
     "output_type": "stream",
     "text": [
      " 26%|██▌       | 13/50 [00:01<00:03,  9.49it/s]"
     ]
    },
    {
     "name": "stdout",
     "output_type": "stream",
     "text": [
      "tensor([0.4358], grad_fn=<ExpandBackward0>)\n",
      "tensor([0.4358], grad_fn=<ExpandBackward0>)\n"
     ]
    },
    {
     "name": "stderr",
     "output_type": "stream",
     "text": [
      "\r",
      " 30%|███       | 15/50 [00:01<00:04,  7.96it/s]"
     ]
    },
    {
     "name": "stdout",
     "output_type": "stream",
     "text": [
      "tensor([0.4358], grad_fn=<ExpandBackward0>)\n",
      "tensor([0.4358], grad_fn=<ExpandBackward0>)\n"
     ]
    },
    {
     "name": "stderr",
     "output_type": "stream",
     "text": [
      "\r",
      " 34%|███▍      | 17/50 [00:01<00:03,  8.85it/s]"
     ]
    },
    {
     "name": "stdout",
     "output_type": "stream",
     "text": [
      "tensor([0.4358], grad_fn=<ExpandBackward0>)\n",
      "tensor([0.4358], grad_fn=<ExpandBackward0>)\n",
      "tensor([0.4358], grad_fn=<ExpandBackward0>)\n"
     ]
    },
    {
     "name": "stderr",
     "output_type": "stream",
     "text": [
      " 40%|████      | 20/50 [00:02<00:04,  6.69it/s]"
     ]
    },
    {
     "name": "stdout",
     "output_type": "stream",
     "text": [
      "tensor([0.4358], grad_fn=<ExpandBackward0>)\n"
     ]
    },
    {
     "name": "stderr",
     "output_type": "stream",
     "text": [
      "\r",
      " 42%|████▏     | 21/50 [00:02<00:04,  5.89it/s]"
     ]
    },
    {
     "name": "stdout",
     "output_type": "stream",
     "text": [
      "tensor([0.4358], grad_fn=<ExpandBackward0>)\n",
      "tensor([0.4358], grad_fn=<ExpandBackward0>)\n"
     ]
    },
    {
     "name": "stderr",
     "output_type": "stream",
     "text": [
      " 46%|████▌     | 23/50 [00:03<00:04,  5.97it/s]"
     ]
    },
    {
     "name": "stdout",
     "output_type": "stream",
     "text": [
      "tensor([0.4358], grad_fn=<ExpandBackward0>)\n",
      "tensor([0.4358], grad_fn=<ExpandBackward0>)\n"
     ]
    },
    {
     "name": "stderr",
     "output_type": "stream",
     "text": [
      " 52%|█████▏    | 26/50 [00:03<00:03,  7.73it/s]"
     ]
    },
    {
     "name": "stdout",
     "output_type": "stream",
     "text": [
      "tensor([0.4358], grad_fn=<ExpandBackward0>)\n",
      "tensor([0.4358], grad_fn=<ExpandBackward0>)\n"
     ]
    },
    {
     "name": "stderr",
     "output_type": "stream",
     "text": [
      "\r",
      " 54%|█████▍    | 27/50 [00:03<00:02,  8.25it/s]"
     ]
    },
    {
     "name": "stdout",
     "output_type": "stream",
     "text": [
      "tensor([0.4358], grad_fn=<ExpandBackward0>)\n",
      "tensor([0.4358], grad_fn=<ExpandBackward0>)\n"
     ]
    },
    {
     "name": "stderr",
     "output_type": "stream",
     "text": [
      "\r",
      " 58%|█████▊    | 29/50 [00:03<00:02,  7.52it/s]"
     ]
    },
    {
     "name": "stdout",
     "output_type": "stream",
     "text": [
      "tensor([0.4358], grad_fn=<ExpandBackward0>)\n"
     ]
    },
    {
     "name": "stderr",
     "output_type": "stream",
     "text": [
      "\r",
      " 60%|██████    | 30/50 [00:03<00:02,  7.26it/s]"
     ]
    },
    {
     "name": "stdout",
     "output_type": "stream",
     "text": [
      "tensor([0.4358], grad_fn=<ExpandBackward0>)\n",
      "tensor([0.4358], grad_fn=<ExpandBackward0>)\n"
     ]
    },
    {
     "name": "stderr",
     "output_type": "stream",
     "text": [
      " 64%|██████▍   | 32/50 [00:04<00:02,  6.73it/s]"
     ]
    },
    {
     "name": "stdout",
     "output_type": "stream",
     "text": [
      "tensor([0.4358], grad_fn=<ExpandBackward0>)\n",
      "tensor([0.4358], grad_fn=<ExpandBackward0>)\n"
     ]
    },
    {
     "name": "stderr",
     "output_type": "stream",
     "text": [
      " 68%|██████▊   | 34/50 [00:04<00:02,  6.75it/s]"
     ]
    },
    {
     "name": "stdout",
     "output_type": "stream",
     "text": [
      "tensor([0.4358], grad_fn=<ExpandBackward0>)\n",
      "tensor([0.4358], grad_fn=<ExpandBackward0>)\n",
      "tensor([0.4358], grad_fn=<ExpandBackward0>)\n"
     ]
    },
    {
     "name": "stderr",
     "output_type": "stream",
     "text": [
      " 74%|███████▍  | 37/50 [00:04<00:01,  7.34it/s]"
     ]
    },
    {
     "name": "stdout",
     "output_type": "stream",
     "text": [
      "tensor([0.4358], grad_fn=<ExpandBackward0>)\n",
      "tensor([0.4358], grad_fn=<ExpandBackward0>)\n"
     ]
    },
    {
     "name": "stderr",
     "output_type": "stream",
     "text": [
      "\r",
      " 78%|███████▊  | 39/50 [00:05<00:01,  7.44it/s]"
     ]
    },
    {
     "name": "stdout",
     "output_type": "stream",
     "text": [
      "tensor([0.4358], grad_fn=<ExpandBackward0>)\n",
      "tensor([0.4358], grad_fn=<ExpandBackward0>)\n"
     ]
    },
    {
     "name": "stderr",
     "output_type": "stream",
     "text": [
      "\r",
      " 82%|████████▏ | 41/50 [00:05<00:01,  7.15it/s]"
     ]
    },
    {
     "name": "stdout",
     "output_type": "stream",
     "text": [
      "tensor([0.4358], grad_fn=<ExpandBackward0>)\n"
     ]
    },
    {
     "name": "stderr",
     "output_type": "stream",
     "text": [
      "\r",
      " 84%|████████▍ | 42/50 [00:05<00:01,  6.79it/s]"
     ]
    },
    {
     "name": "stdout",
     "output_type": "stream",
     "text": [
      "tensor([0.4358], grad_fn=<ExpandBackward0>)\n",
      "tensor([0.4358], grad_fn=<ExpandBackward0>)\n"
     ]
    },
    {
     "name": "stderr",
     "output_type": "stream",
     "text": [
      " 90%|█████████ | 45/50 [00:06<00:00,  6.68it/s]"
     ]
    },
    {
     "name": "stdout",
     "output_type": "stream",
     "text": [
      "tensor([0.4358], grad_fn=<ExpandBackward0>)\n",
      "tensor([0.4358], grad_fn=<ExpandBackward0>)\n"
     ]
    },
    {
     "name": "stderr",
     "output_type": "stream",
     "text": [
      "\r",
      " 92%|█████████▏| 46/50 [00:06<00:00,  6.51it/s]"
     ]
    },
    {
     "name": "stdout",
     "output_type": "stream",
     "text": [
      "tensor([0.4358], grad_fn=<ExpandBackward0>)\n",
      "tensor([0.4358], grad_fn=<ExpandBackward0>)\n"
     ]
    },
    {
     "name": "stderr",
     "output_type": "stream",
     "text": [
      "\r",
      " 96%|█████████▌| 48/50 [00:06<00:00,  7.90it/s]"
     ]
    },
    {
     "name": "stdout",
     "output_type": "stream",
     "text": [
      "tensor([0.4358], grad_fn=<ExpandBackward0>)\n",
      "tensor([0.4358], grad_fn=<ExpandBackward0>)\n"
     ]
    },
    {
     "name": "stderr",
     "output_type": "stream",
     "text": [
      "100%|██████████| 50/50 [00:06<00:00,  7.44it/s]\n"
     ]
    },
    {
     "name": "stdout",
     "output_type": "stream",
     "text": [
      "tensor([0.4358], grad_fn=<ExpandBackward0>)\n"
     ]
    },
    {
     "name": "stderr",
     "output_type": "stream",
     "text": [
      "100%|██████████| 60/60 [00:15<00:00,  3.93it/s]\n"
     ]
    },
    {
     "name": "stdout",
     "output_type": "stream",
     "text": [
      "6\n"
     ]
    },
    {
     "name": "stderr",
     "output_type": "stream",
     "text": [
      " 12%|█▏        | 6/50 [00:00<00:05,  8.33it/s]\n",
      "100%|██████████| 60/60 [00:14<00:00,  4.16it/s]\n",
      "  4%|▍         | 2/50 [00:00<00:06,  7.34it/s]"
     ]
    },
    {
     "name": "stdout",
     "output_type": "stream",
     "text": [
      "tensor([0.4363], grad_fn=<ExpandBackward0>)\n",
      "tensor([0.4363], grad_fn=<ExpandBackward0>)\n"
     ]
    },
    {
     "name": "stderr",
     "output_type": "stream",
     "text": [
      "  8%|▊         | 4/50 [00:00<00:05,  8.35it/s]"
     ]
    },
    {
     "name": "stdout",
     "output_type": "stream",
     "text": [
      "tensor([0.4363], grad_fn=<ExpandBackward0>)\n",
      "tensor([0.4363], grad_fn=<ExpandBackward0>)\n"
     ]
    },
    {
     "name": "stderr",
     "output_type": "stream",
     "text": [
      "\r",
      " 12%|█▏        | 6/50 [00:00<00:04,  9.65it/s]"
     ]
    },
    {
     "name": "stdout",
     "output_type": "stream",
     "text": [
      "tensor([0.4362], grad_fn=<ExpandBackward0>)\n",
      "tensor([0.4363], grad_fn=<ExpandBackward0>)\n",
      "tensor([0.4362], grad_fn=<ExpandBackward0>)\n"
     ]
    },
    {
     "name": "stderr",
     "output_type": "stream",
     "text": [
      "\r",
      " 16%|█▌        | 8/50 [00:00<00:04,  9.86it/s]"
     ]
    },
    {
     "name": "stdout",
     "output_type": "stream",
     "text": [
      "tensor([0.4363], grad_fn=<ExpandBackward0>)\n",
      "tensor([0.4363], grad_fn=<ExpandBackward0>)\n",
      "tensor([0.4363], grad_fn=<ExpandBackward0>)\n"
     ]
    },
    {
     "name": "stderr",
     "output_type": "stream",
     "text": [
      " 24%|██▍       | 12/50 [00:01<00:03, 10.64it/s]"
     ]
    },
    {
     "name": "stdout",
     "output_type": "stream",
     "text": [
      "tensor([0.4363], grad_fn=<ExpandBackward0>)\n",
      "tensor([0.4363], grad_fn=<ExpandBackward0>)\n",
      "tensor([0.4363], grad_fn=<ExpandBackward0>)\n"
     ]
    },
    {
     "name": "stderr",
     "output_type": "stream",
     "text": [
      "\r",
      " 28%|██▊       | 14/50 [00:01<00:03, 10.29it/s]"
     ]
    },
    {
     "name": "stdout",
     "output_type": "stream",
     "text": [
      "tensor([0.4363], grad_fn=<ExpandBackward0>)\n",
      "tensor([0.4363], grad_fn=<ExpandBackward0>)\n"
     ]
    },
    {
     "name": "stderr",
     "output_type": "stream",
     "text": [
      "\r",
      " 32%|███▏      | 16/50 [00:01<00:03, 10.02it/s]"
     ]
    },
    {
     "name": "stdout",
     "output_type": "stream",
     "text": [
      "tensor([0.4363], grad_fn=<ExpandBackward0>)\n",
      "tensor([0.4363], grad_fn=<ExpandBackward0>)\n",
      "tensor([0.4362], grad_fn=<ExpandBackward0>)\n"
     ]
    },
    {
     "name": "stderr",
     "output_type": "stream",
     "text": [
      " 40%|████      | 20/50 [00:02<00:02, 10.14it/s]"
     ]
    },
    {
     "name": "stdout",
     "output_type": "stream",
     "text": [
      "tensor([0.4363], grad_fn=<ExpandBackward0>)\n",
      "tensor([0.4363], grad_fn=<ExpandBackward0>)\n",
      "tensor([0.4363], grad_fn=<ExpandBackward0>)\n"
     ]
    },
    {
     "name": "stderr",
     "output_type": "stream",
     "text": [
      "\r",
      " 44%|████▍     | 22/50 [00:02<00:02,  9.99it/s]"
     ]
    },
    {
     "name": "stdout",
     "output_type": "stream",
     "text": [
      "tensor([0.4363], grad_fn=<ExpandBackward0>)\n",
      "tensor([0.4363], grad_fn=<ExpandBackward0>)\n",
      "tensor([0.4363], grad_fn=<ExpandBackward0>)\n"
     ]
    },
    {
     "name": "stderr",
     "output_type": "stream",
     "text": [
      " 52%|█████▏    | 26/50 [00:02<00:02, 10.70it/s]"
     ]
    },
    {
     "name": "stdout",
     "output_type": "stream",
     "text": [
      "tensor([0.4363], grad_fn=<ExpandBackward0>)\n",
      "tensor([0.4363], grad_fn=<ExpandBackward0>)\n",
      "tensor([0.4362], grad_fn=<ExpandBackward0>)\n"
     ]
    },
    {
     "name": "stderr",
     "output_type": "stream",
     "text": [
      "\r",
      " 56%|█████▌    | 28/50 [00:02<00:02, 10.61it/s]"
     ]
    },
    {
     "name": "stdout",
     "output_type": "stream",
     "text": [
      "tensor([0.4363], grad_fn=<ExpandBackward0>)\n",
      "tensor([0.4362], grad_fn=<ExpandBackward0>)\n",
      "tensor([0.4363], grad_fn=<ExpandBackward0>)\n"
     ]
    },
    {
     "name": "stderr",
     "output_type": "stream",
     "text": [
      " 64%|██████▍   | 32/50 [00:03<00:01, 10.73it/s]"
     ]
    },
    {
     "name": "stdout",
     "output_type": "stream",
     "text": [
      "tensor([0.4363], grad_fn=<ExpandBackward0>)\n",
      "tensor([0.4363], grad_fn=<ExpandBackward0>)\n",
      "tensor([0.4363], grad_fn=<ExpandBackward0>)\n"
     ]
    },
    {
     "name": "stderr",
     "output_type": "stream",
     "text": [
      "\r",
      " 68%|██████▊   | 34/50 [00:03<00:01, 10.77it/s]"
     ]
    },
    {
     "name": "stdout",
     "output_type": "stream",
     "text": [
      "tensor([0.4363], grad_fn=<ExpandBackward0>)\n",
      "tensor([0.4362], grad_fn=<ExpandBackward0>)\n",
      "tensor([0.4363], grad_fn=<ExpandBackward0>)\n"
     ]
    },
    {
     "name": "stderr",
     "output_type": "stream",
     "text": [
      " 76%|███████▌  | 38/50 [00:03<00:01, 10.66it/s]"
     ]
    },
    {
     "name": "stdout",
     "output_type": "stream",
     "text": [
      "tensor([0.4363], grad_fn=<ExpandBackward0>)\n",
      "tensor([0.4363], grad_fn=<ExpandBackward0>)\n",
      "tensor([0.4363], grad_fn=<ExpandBackward0>)\n"
     ]
    },
    {
     "name": "stderr",
     "output_type": "stream",
     "text": [
      "\r",
      " 80%|████████  | 40/50 [00:03<00:00, 10.76it/s]"
     ]
    },
    {
     "name": "stdout",
     "output_type": "stream",
     "text": [
      "tensor([0.4363], grad_fn=<ExpandBackward0>)\n",
      "tensor([0.4363], grad_fn=<ExpandBackward0>)\n",
      "tensor([0.4363], grad_fn=<ExpandBackward0>)\n"
     ]
    },
    {
     "name": "stderr",
     "output_type": "stream",
     "text": [
      " 88%|████████▊ | 44/50 [00:04<00:00, 10.54it/s]"
     ]
    },
    {
     "name": "stdout",
     "output_type": "stream",
     "text": [
      "tensor([0.4363], grad_fn=<ExpandBackward0>)\n",
      "tensor([0.4363], grad_fn=<ExpandBackward0>)\n",
      "tensor([0.4363], grad_fn=<ExpandBackward0>)\n"
     ]
    },
    {
     "name": "stderr",
     "output_type": "stream",
     "text": [
      "\r",
      " 92%|█████████▏| 46/50 [00:04<00:00, 10.47it/s]"
     ]
    },
    {
     "name": "stdout",
     "output_type": "stream",
     "text": [
      "tensor([0.4363], grad_fn=<ExpandBackward0>)\n",
      "tensor([0.4363], grad_fn=<ExpandBackward0>)\n",
      "tensor([0.4363], grad_fn=<ExpandBackward0>)\n"
     ]
    },
    {
     "name": "stderr",
     "output_type": "stream",
     "text": [
      "100%|██████████| 50/50 [00:04<00:00, 10.27it/s]\n"
     ]
    },
    {
     "name": "stdout",
     "output_type": "stream",
     "text": [
      "tensor([0.4363], grad_fn=<ExpandBackward0>)\n",
      "tensor([0.4363], grad_fn=<ExpandBackward0>)\n"
     ]
    },
    {
     "name": "stderr",
     "output_type": "stream",
     "text": [
      "100%|██████████| 60/60 [00:14<00:00,  4.28it/s]\n"
     ]
    },
    {
     "name": "stdout",
     "output_type": "stream",
     "text": [
      "7\n"
     ]
    },
    {
     "name": "stderr",
     "output_type": "stream",
     "text": [
      " 18%|█▊        | 9/50 [00:00<00:04,  9.96it/s]\n",
      "100%|██████████| 60/60 [00:14<00:00,  4.24it/s]\n",
      "  4%|▍         | 2/50 [00:00<00:06,  7.68it/s]"
     ]
    },
    {
     "name": "stdout",
     "output_type": "stream",
     "text": [
      "tensor([0.4357], grad_fn=<ExpandBackward0>)\n",
      "tensor([0.4357], grad_fn=<ExpandBackward0>)\n"
     ]
    },
    {
     "name": "stderr",
     "output_type": "stream",
     "text": [
      "\r",
      "  6%|▌         | 3/50 [00:00<00:05,  8.57it/s]"
     ]
    },
    {
     "name": "stdout",
     "output_type": "stream",
     "text": [
      "tensor([0.4357], grad_fn=<ExpandBackward0>)\n",
      "tensor([0.4357], grad_fn=<ExpandBackward0>)\n",
      "tensor([0.4357], grad_fn=<ExpandBackward0>)\n"
     ]
    },
    {
     "name": "stderr",
     "output_type": "stream",
     "text": [
      " 14%|█▍        | 7/50 [00:00<00:04, 10.46it/s]"
     ]
    },
    {
     "name": "stdout",
     "output_type": "stream",
     "text": [
      "tensor([0.4357], grad_fn=<ExpandBackward0>)\n",
      "tensor([0.4357], grad_fn=<ExpandBackward0>)\n",
      "tensor([0.4357], grad_fn=<ExpandBackward0>)\n"
     ]
    },
    {
     "name": "stderr",
     "output_type": "stream",
     "text": [
      "\r",
      " 18%|█▊        | 9/50 [00:00<00:03, 10.62it/s]"
     ]
    },
    {
     "name": "stdout",
     "output_type": "stream",
     "text": [
      "tensor([0.4357], grad_fn=<ExpandBackward0>)\n",
      "tensor([0.4357], grad_fn=<ExpandBackward0>)\n",
      "tensor([0.4357], grad_fn=<ExpandBackward0>)\n"
     ]
    },
    {
     "name": "stderr",
     "output_type": "stream",
     "text": [
      " 26%|██▌       | 13/50 [00:01<00:03, 10.87it/s]"
     ]
    },
    {
     "name": "stdout",
     "output_type": "stream",
     "text": [
      "tensor([0.4357], grad_fn=<ExpandBackward0>)\n",
      "tensor([0.4357], grad_fn=<ExpandBackward0>)\n",
      "tensor([0.4357], grad_fn=<ExpandBackward0>)\n"
     ]
    },
    {
     "name": "stderr",
     "output_type": "stream",
     "text": [
      "\r",
      " 30%|███       | 15/50 [00:01<00:03, 10.73it/s]"
     ]
    },
    {
     "name": "stdout",
     "output_type": "stream",
     "text": [
      "tensor([0.4357], grad_fn=<ExpandBackward0>)\n",
      "tensor([0.4357], grad_fn=<ExpandBackward0>)\n"
     ]
    },
    {
     "name": "stderr",
     "output_type": "stream",
     "text": [
      "\r",
      " 34%|███▍      | 17/50 [00:01<00:03, 10.33it/s]"
     ]
    },
    {
     "name": "stdout",
     "output_type": "stream",
     "text": [
      "tensor([0.4357], grad_fn=<ExpandBackward0>)\n",
      "tensor([0.4357], grad_fn=<ExpandBackward0>)\n",
      "tensor([0.4357], grad_fn=<ExpandBackward0>)\n"
     ]
    },
    {
     "name": "stderr",
     "output_type": "stream",
     "text": [
      " 42%|████▏     | 21/50 [00:02<00:02, 10.62it/s]"
     ]
    },
    {
     "name": "stdout",
     "output_type": "stream",
     "text": [
      "tensor([0.4357], grad_fn=<ExpandBackward0>)\n",
      "tensor([0.4357], grad_fn=<ExpandBackward0>)\n",
      "tensor([0.4357], grad_fn=<ExpandBackward0>)\n"
     ]
    },
    {
     "name": "stderr",
     "output_type": "stream",
     "text": [
      "\r",
      " 46%|████▌     | 23/50 [00:02<00:02, 10.43it/s]"
     ]
    },
    {
     "name": "stdout",
     "output_type": "stream",
     "text": [
      "tensor([0.4357], grad_fn=<ExpandBackward0>)\n",
      "tensor([0.4357], grad_fn=<ExpandBackward0>)\n",
      "tensor([0.4357], grad_fn=<ExpandBackward0>)\n"
     ]
    },
    {
     "name": "stderr",
     "output_type": "stream",
     "text": [
      " 54%|█████▍    | 27/50 [00:02<00:02, 10.73it/s]"
     ]
    },
    {
     "name": "stdout",
     "output_type": "stream",
     "text": [
      "tensor([0.4357], grad_fn=<ExpandBackward0>)\n",
      "tensor([0.4357], grad_fn=<ExpandBackward0>)\n",
      "tensor([0.4357], grad_fn=<ExpandBackward0>)\n"
     ]
    },
    {
     "name": "stderr",
     "output_type": "stream",
     "text": [
      "\r",
      " 58%|█████▊    | 29/50 [00:02<00:01, 10.77it/s]"
     ]
    },
    {
     "name": "stdout",
     "output_type": "stream",
     "text": [
      "tensor([0.4357], grad_fn=<ExpandBackward0>)\n",
      "tensor([0.4357], grad_fn=<ExpandBackward0>)\n",
      "tensor([0.4357], grad_fn=<ExpandBackward0>)\n"
     ]
    },
    {
     "name": "stderr",
     "output_type": "stream",
     "text": [
      " 66%|██████▌   | 33/50 [00:03<00:01, 11.08it/s]"
     ]
    },
    {
     "name": "stdout",
     "output_type": "stream",
     "text": [
      "tensor([0.4357], grad_fn=<ExpandBackward0>)\n",
      "tensor([0.4357], grad_fn=<ExpandBackward0>)\n",
      "tensor([0.4357], grad_fn=<ExpandBackward0>)\n"
     ]
    },
    {
     "name": "stderr",
     "output_type": "stream",
     "text": [
      "\r",
      " 70%|███████   | 35/50 [00:03<00:01, 10.90it/s]"
     ]
    },
    {
     "name": "stdout",
     "output_type": "stream",
     "text": [
      "tensor([0.4357], grad_fn=<ExpandBackward0>)\n",
      "tensor([0.4357], grad_fn=<ExpandBackward0>)\n",
      "tensor([0.4357], grad_fn=<ExpandBackward0>)\n"
     ]
    },
    {
     "name": "stderr",
     "output_type": "stream",
     "text": [
      " 78%|███████▊  | 39/50 [00:03<00:01, 10.88it/s]"
     ]
    },
    {
     "name": "stdout",
     "output_type": "stream",
     "text": [
      "tensor([0.4357], grad_fn=<ExpandBackward0>)\n",
      "tensor([0.4357], grad_fn=<ExpandBackward0>)\n",
      "tensor([0.4357], grad_fn=<ExpandBackward0>)\n"
     ]
    },
    {
     "name": "stderr",
     "output_type": "stream",
     "text": [
      "\r",
      " 82%|████████▏ | 41/50 [00:03<00:00, 11.03it/s]"
     ]
    },
    {
     "name": "stdout",
     "output_type": "stream",
     "text": [
      "tensor([0.4357], grad_fn=<ExpandBackward0>)\n",
      "tensor([0.4357], grad_fn=<ExpandBackward0>)\n",
      "tensor([0.4357], grad_fn=<ExpandBackward0>)\n"
     ]
    },
    {
     "name": "stderr",
     "output_type": "stream",
     "text": [
      " 90%|█████████ | 45/50 [00:04<00:00, 10.85it/s]"
     ]
    },
    {
     "name": "stdout",
     "output_type": "stream",
     "text": [
      "tensor([0.4357], grad_fn=<ExpandBackward0>)\n",
      "tensor([0.4357], grad_fn=<ExpandBackward0>)\n",
      "tensor([0.4357], grad_fn=<ExpandBackward0>)\n"
     ]
    },
    {
     "name": "stderr",
     "output_type": "stream",
     "text": [
      "\r",
      " 94%|█████████▍| 47/50 [00:04<00:00, 10.89it/s]"
     ]
    },
    {
     "name": "stdout",
     "output_type": "stream",
     "text": [
      "tensor([0.4357], grad_fn=<ExpandBackward0>)\n",
      "tensor([0.4357], grad_fn=<ExpandBackward0>)\n",
      "tensor([0.4357], grad_fn=<ExpandBackward0>)\n"
     ]
    },
    {
     "name": "stderr",
     "output_type": "stream",
     "text": [
      "100%|██████████| 50/50 [00:04<00:00, 10.66it/s]\n"
     ]
    },
    {
     "name": "stdout",
     "output_type": "stream",
     "text": [
      "tensor([0.4357], grad_fn=<ExpandBackward0>)\n"
     ]
    },
    {
     "name": "stderr",
     "output_type": "stream",
     "text": [
      "100%|██████████| 60/60 [00:16<00:00,  3.66it/s]\n"
     ]
    },
    {
     "name": "stdout",
     "output_type": "stream",
     "text": [
      "8\n"
     ]
    },
    {
     "name": "stderr",
     "output_type": "stream",
     "text": [
      " 18%|█▊        | 9/50 [00:00<00:04,  9.80it/s]\n",
      "100%|██████████| 60/60 [00:14<00:00,  4.28it/s]\n",
      "  2%|▏         | 1/50 [00:00<00:08,  6.11it/s]"
     ]
    },
    {
     "name": "stdout",
     "output_type": "stream",
     "text": [
      "tensor([0.4356], grad_fn=<ExpandBackward0>)\n",
      "tensor([0.4356], grad_fn=<ExpandBackward0>)\n",
      "tensor([0.4356], grad_fn=<ExpandBackward0>)\n"
     ]
    },
    {
     "name": "stderr",
     "output_type": "stream",
     "text": [
      " 10%|█         | 5/50 [00:00<00:04, 10.08it/s]"
     ]
    },
    {
     "name": "stdout",
     "output_type": "stream",
     "text": [
      "tensor([0.4356], grad_fn=<ExpandBackward0>)\n",
      "tensor([0.4356], grad_fn=<ExpandBackward0>)\n",
      "tensor([0.4356], grad_fn=<ExpandBackward0>)\n"
     ]
    },
    {
     "name": "stderr",
     "output_type": "stream",
     "text": [
      "\r",
      " 14%|█▍        | 7/50 [00:00<00:04, 10.18it/s]"
     ]
    },
    {
     "name": "stdout",
     "output_type": "stream",
     "text": [
      "tensor([0.4356], grad_fn=<ExpandBackward0>)\n",
      "tensor([0.4356], grad_fn=<ExpandBackward0>)\n",
      "tensor([0.4356], grad_fn=<ExpandBackward0>)\n"
     ]
    },
    {
     "name": "stderr",
     "output_type": "stream",
     "text": [
      " 22%|██▏       | 11/50 [00:01<00:03, 10.73it/s]"
     ]
    },
    {
     "name": "stdout",
     "output_type": "stream",
     "text": [
      "tensor([0.4356], grad_fn=<ExpandBackward0>)\n",
      "tensor([0.4356], grad_fn=<ExpandBackward0>)\n",
      "tensor([0.4356], grad_fn=<ExpandBackward0>)\n"
     ]
    },
    {
     "name": "stderr",
     "output_type": "stream",
     "text": [
      "\r",
      " 26%|██▌       | 13/50 [00:01<00:03, 10.62it/s]"
     ]
    },
    {
     "name": "stdout",
     "output_type": "stream",
     "text": [
      "tensor([0.4356], grad_fn=<ExpandBackward0>)\n",
      "tensor([0.4356], grad_fn=<ExpandBackward0>)\n",
      "tensor([0.4356], grad_fn=<ExpandBackward0>)\n"
     ]
    },
    {
     "name": "stderr",
     "output_type": "stream",
     "text": [
      " 34%|███▍      | 17/50 [00:01<00:03, 10.75it/s]"
     ]
    },
    {
     "name": "stdout",
     "output_type": "stream",
     "text": [
      "tensor([0.4356], grad_fn=<ExpandBackward0>)\n",
      "tensor([0.4356], grad_fn=<ExpandBackward0>)\n",
      "tensor([0.4356], grad_fn=<ExpandBackward0>)\n"
     ]
    },
    {
     "name": "stderr",
     "output_type": "stream",
     "text": [
      "\r",
      " 38%|███▊      | 19/50 [00:01<00:02, 10.41it/s]"
     ]
    },
    {
     "name": "stdout",
     "output_type": "stream",
     "text": [
      "tensor([0.4356], grad_fn=<ExpandBackward0>)\n",
      "tensor([0.4356], grad_fn=<ExpandBackward0>)\n",
      "tensor([0.4356], grad_fn=<ExpandBackward0>)\n"
     ]
    },
    {
     "name": "stderr",
     "output_type": "stream",
     "text": [
      " 46%|████▌     | 23/50 [00:02<00:02, 10.85it/s]"
     ]
    },
    {
     "name": "stdout",
     "output_type": "stream",
     "text": [
      "tensor([0.4356], grad_fn=<ExpandBackward0>)\n",
      "tensor([0.4356], grad_fn=<ExpandBackward0>)\n",
      "tensor([0.4356], grad_fn=<ExpandBackward0>)\n"
     ]
    },
    {
     "name": "stderr",
     "output_type": "stream",
     "text": [
      "\r",
      " 50%|█████     | 25/50 [00:02<00:02, 10.30it/s]"
     ]
    },
    {
     "name": "stdout",
     "output_type": "stream",
     "text": [
      "tensor([0.4356], grad_fn=<ExpandBackward0>)\n",
      "tensor([0.4356], grad_fn=<ExpandBackward0>)\n",
      "tensor([0.4356], grad_fn=<ExpandBackward0>)\n"
     ]
    },
    {
     "name": "stderr",
     "output_type": "stream",
     "text": [
      " 58%|█████▊    | 29/50 [00:02<00:01, 10.56it/s]"
     ]
    },
    {
     "name": "stdout",
     "output_type": "stream",
     "text": [
      "tensor([0.4356], grad_fn=<ExpandBackward0>)\n",
      "tensor([0.4356], grad_fn=<ExpandBackward0>)\n",
      "tensor([0.4356], grad_fn=<ExpandBackward0>)\n"
     ]
    },
    {
     "name": "stderr",
     "output_type": "stream",
     "text": [
      "\r",
      " 62%|██████▏   | 31/50 [00:02<00:01, 10.52it/s]"
     ]
    },
    {
     "name": "stdout",
     "output_type": "stream",
     "text": [
      "tensor([0.4356], grad_fn=<ExpandBackward0>)\n",
      "tensor([0.4356], grad_fn=<ExpandBackward0>)\n",
      "tensor([0.4356], grad_fn=<ExpandBackward0>)\n"
     ]
    },
    {
     "name": "stderr",
     "output_type": "stream",
     "text": [
      " 70%|███████   | 35/50 [00:03<00:01, 10.76it/s]"
     ]
    },
    {
     "name": "stdout",
     "output_type": "stream",
     "text": [
      "tensor([0.4356], grad_fn=<ExpandBackward0>)\n",
      "tensor([0.4356], grad_fn=<ExpandBackward0>)\n",
      "tensor([0.4356], grad_fn=<ExpandBackward0>)\n"
     ]
    },
    {
     "name": "stderr",
     "output_type": "stream",
     "text": [
      "\r",
      " 74%|███████▍  | 37/50 [00:03<00:01, 10.59it/s]"
     ]
    },
    {
     "name": "stdout",
     "output_type": "stream",
     "text": [
      "tensor([0.4356], grad_fn=<ExpandBackward0>)\n",
      "tensor([0.4356], grad_fn=<ExpandBackward0>)\n",
      "tensor([0.4356], grad_fn=<ExpandBackward0>)\n"
     ]
    },
    {
     "name": "stderr",
     "output_type": "stream",
     "text": [
      " 82%|████████▏ | 41/50 [00:03<00:00, 10.94it/s]"
     ]
    },
    {
     "name": "stdout",
     "output_type": "stream",
     "text": [
      "tensor([0.4356], grad_fn=<ExpandBackward0>)\n",
      "tensor([0.4356], grad_fn=<ExpandBackward0>)\n",
      "tensor([0.4356], grad_fn=<ExpandBackward0>)\n"
     ]
    },
    {
     "name": "stderr",
     "output_type": "stream",
     "text": [
      "\r",
      " 86%|████████▌ | 43/50 [00:04<00:00, 10.61it/s]"
     ]
    },
    {
     "name": "stdout",
     "output_type": "stream",
     "text": [
      "tensor([0.4356], grad_fn=<ExpandBackward0>)\n",
      "tensor([0.4356], grad_fn=<ExpandBackward0>)\n",
      "tensor([0.4356], grad_fn=<ExpandBackward0>)\n"
     ]
    },
    {
     "name": "stderr",
     "output_type": "stream",
     "text": [
      " 94%|█████████▍| 47/50 [00:04<00:00, 10.75it/s]"
     ]
    },
    {
     "name": "stdout",
     "output_type": "stream",
     "text": [
      "tensor([0.4356], grad_fn=<ExpandBackward0>)\n",
      "tensor([0.4356], grad_fn=<ExpandBackward0>)\n",
      "tensor([0.4356], grad_fn=<ExpandBackward0>)\n"
     ]
    },
    {
     "name": "stderr",
     "output_type": "stream",
     "text": [
      "100%|██████████| 50/50 [00:04<00:00, 10.50it/s]\n"
     ]
    },
    {
     "name": "stdout",
     "output_type": "stream",
     "text": [
      "tensor([0.4356], grad_fn=<ExpandBackward0>)\n",
      "tensor([0.4356], grad_fn=<ExpandBackward0>)\n"
     ]
    },
    {
     "name": "stderr",
     "output_type": "stream",
     "text": [
      "100%|██████████| 60/60 [00:14<00:00,  4.25it/s]\n"
     ]
    },
    {
     "name": "stdout",
     "output_type": "stream",
     "text": [
      "9\n"
     ]
    },
    {
     "name": "stderr",
     "output_type": "stream",
     "text": [
      " 14%|█▍        | 7/50 [00:00<00:04,  8.73it/s]\n",
      "100%|██████████| 60/60 [00:14<00:00,  4.28it/s]\n",
      "  4%|▍         | 2/50 [00:00<00:06,  7.40it/s]"
     ]
    },
    {
     "name": "stdout",
     "output_type": "stream",
     "text": [
      "tensor([0.4360], grad_fn=<ExpandBackward0>)\n",
      "tensor([0.4360], grad_fn=<ExpandBackward0>)\n"
     ]
    },
    {
     "name": "stderr",
     "output_type": "stream",
     "text": [
      "\r",
      "  8%|▊         | 4/50 [00:00<00:04,  9.47it/s]"
     ]
    },
    {
     "name": "stdout",
     "output_type": "stream",
     "text": [
      "tensor([0.4360], grad_fn=<ExpandBackward0>)\n",
      "tensor([0.4361], grad_fn=<ExpandBackward0>)\n",
      "tensor([0.4361], grad_fn=<ExpandBackward0>)\n"
     ]
    },
    {
     "name": "stderr",
     "output_type": "stream",
     "text": [
      " 14%|█▍        | 7/50 [00:00<00:04,  9.86it/s]"
     ]
    },
    {
     "name": "stdout",
     "output_type": "stream",
     "text": [
      "tensor([0.4361], grad_fn=<ExpandBackward0>)\n",
      "tensor([0.4360], grad_fn=<ExpandBackward0>)\n"
     ]
    },
    {
     "name": "stderr",
     "output_type": "stream",
     "text": [
      " 18%|█▊        | 9/50 [00:00<00:04,  9.63it/s]"
     ]
    },
    {
     "name": "stdout",
     "output_type": "stream",
     "text": [
      "tensor([0.4361], grad_fn=<ExpandBackward0>)\n",
      "tensor([0.4361], grad_fn=<ExpandBackward0>)\n"
     ]
    },
    {
     "name": "stderr",
     "output_type": "stream",
     "text": [
      "\r",
      " 20%|██        | 10/50 [00:01<00:04,  9.38it/s]"
     ]
    },
    {
     "name": "stdout",
     "output_type": "stream",
     "text": [
      "tensor([0.4360], grad_fn=<ExpandBackward0>)\n",
      "tensor([0.4360], grad_fn=<ExpandBackward0>)\n",
      "tensor([0.4361], grad_fn=<ExpandBackward0>)\n"
     ]
    },
    {
     "name": "stderr",
     "output_type": "stream",
     "text": [
      " 28%|██▊       | 14/50 [00:01<00:03, 10.75it/s]"
     ]
    },
    {
     "name": "stdout",
     "output_type": "stream",
     "text": [
      "tensor([0.4360], grad_fn=<ExpandBackward0>)\n",
      "tensor([0.4360], grad_fn=<ExpandBackward0>)\n",
      "tensor([0.4360], grad_fn=<ExpandBackward0>)\n"
     ]
    },
    {
     "name": "stderr",
     "output_type": "stream",
     "text": [
      "\r",
      " 32%|███▏      | 16/50 [00:01<00:03, 10.73it/s]"
     ]
    },
    {
     "name": "stdout",
     "output_type": "stream",
     "text": [
      "tensor([0.4361], grad_fn=<ExpandBackward0>)\n",
      "tensor([0.4361], grad_fn=<ExpandBackward0>)\n",
      "tensor([0.4361], grad_fn=<ExpandBackward0>)\n"
     ]
    },
    {
     "name": "stderr",
     "output_type": "stream",
     "text": [
      " 40%|████      | 20/50 [00:01<00:02, 10.88it/s]"
     ]
    },
    {
     "name": "stdout",
     "output_type": "stream",
     "text": [
      "tensor([0.4361], grad_fn=<ExpandBackward0>)\n",
      "tensor([0.4361], grad_fn=<ExpandBackward0>)\n",
      "tensor([0.4361], grad_fn=<ExpandBackward0>)\n"
     ]
    },
    {
     "name": "stderr",
     "output_type": "stream",
     "text": [
      "\r",
      " 44%|████▍     | 22/50 [00:02<00:02, 10.84it/s]"
     ]
    },
    {
     "name": "stdout",
     "output_type": "stream",
     "text": [
      "tensor([0.4361], grad_fn=<ExpandBackward0>)\n",
      "tensor([0.4361], grad_fn=<ExpandBackward0>)\n",
      "tensor([0.4360], grad_fn=<ExpandBackward0>)\n"
     ]
    },
    {
     "name": "stderr",
     "output_type": "stream",
     "text": [
      " 52%|█████▏    | 26/50 [00:02<00:02, 11.21it/s]"
     ]
    },
    {
     "name": "stdout",
     "output_type": "stream",
     "text": [
      "tensor([0.4360], grad_fn=<ExpandBackward0>)\n",
      "tensor([0.4361], grad_fn=<ExpandBackward0>)\n",
      "tensor([0.4361], grad_fn=<ExpandBackward0>)\n"
     ]
    },
    {
     "name": "stderr",
     "output_type": "stream",
     "text": [
      "\r",
      " 56%|█████▌    | 28/50 [00:02<00:01, 11.18it/s]"
     ]
    },
    {
     "name": "stdout",
     "output_type": "stream",
     "text": [
      "tensor([0.4361], grad_fn=<ExpandBackward0>)\n",
      "tensor([0.4360], grad_fn=<ExpandBackward0>)\n",
      "tensor([0.4360], grad_fn=<ExpandBackward0>)\n"
     ]
    },
    {
     "name": "stderr",
     "output_type": "stream",
     "text": [
      " 64%|██████▍   | 32/50 [00:03<00:01, 11.05it/s]"
     ]
    },
    {
     "name": "stdout",
     "output_type": "stream",
     "text": [
      "tensor([0.4361], grad_fn=<ExpandBackward0>)\n",
      "tensor([0.4360], grad_fn=<ExpandBackward0>)\n",
      "tensor([0.4360], grad_fn=<ExpandBackward0>)\n"
     ]
    },
    {
     "name": "stderr",
     "output_type": "stream",
     "text": [
      "\r",
      " 68%|██████▊   | 34/50 [00:03<00:01, 10.99it/s]"
     ]
    },
    {
     "name": "stdout",
     "output_type": "stream",
     "text": [
      "tensor([0.4360], grad_fn=<ExpandBackward0>)\n",
      "tensor([0.4361], grad_fn=<ExpandBackward0>)\n",
      "tensor([0.4360], grad_fn=<ExpandBackward0>)\n"
     ]
    },
    {
     "name": "stderr",
     "output_type": "stream",
     "text": [
      " 76%|███████▌  | 38/50 [00:03<00:01, 11.06it/s]"
     ]
    },
    {
     "name": "stdout",
     "output_type": "stream",
     "text": [
      "tensor([0.4361], grad_fn=<ExpandBackward0>)\n",
      "tensor([0.4361], grad_fn=<ExpandBackward0>)\n",
      "tensor([0.4361], grad_fn=<ExpandBackward0>)\n"
     ]
    },
    {
     "name": "stderr",
     "output_type": "stream",
     "text": [
      "\r",
      " 80%|████████  | 40/50 [00:03<00:00, 11.13it/s]"
     ]
    },
    {
     "name": "stdout",
     "output_type": "stream",
     "text": [
      "tensor([0.4361], grad_fn=<ExpandBackward0>)\n",
      "tensor([0.4361], grad_fn=<ExpandBackward0>)\n",
      "tensor([0.4360], grad_fn=<ExpandBackward0>)\n"
     ]
    },
    {
     "name": "stderr",
     "output_type": "stream",
     "text": [
      " 88%|████████▊ | 44/50 [00:04<00:00, 11.03it/s]"
     ]
    },
    {
     "name": "stdout",
     "output_type": "stream",
     "text": [
      "tensor([0.4361], grad_fn=<ExpandBackward0>)\n",
      "tensor([0.4361], grad_fn=<ExpandBackward0>)\n",
      "tensor([0.4361], grad_fn=<ExpandBackward0>)\n"
     ]
    },
    {
     "name": "stderr",
     "output_type": "stream",
     "text": [
      "\r",
      " 92%|█████████▏| 46/50 [00:04<00:00, 10.78it/s]"
     ]
    },
    {
     "name": "stdout",
     "output_type": "stream",
     "text": [
      "tensor([0.4361], grad_fn=<ExpandBackward0>)\n",
      "tensor([0.4361], grad_fn=<ExpandBackward0>)\n",
      "tensor([0.4361], grad_fn=<ExpandBackward0>)\n"
     ]
    },
    {
     "name": "stderr",
     "output_type": "stream",
     "text": [
      "100%|██████████| 50/50 [00:04<00:00, 10.65it/s]\n"
     ]
    },
    {
     "name": "stdout",
     "output_type": "stream",
     "text": [
      "tensor([0.4360], grad_fn=<ExpandBackward0>)\n",
      "tensor([0.4361], grad_fn=<ExpandBackward0>)\n"
     ]
    },
    {
     "name": "stderr",
     "output_type": "stream",
     "text": [
      "100%|██████████| 60/60 [00:14<00:00,  4.16it/s]\n"
     ]
    },
    {
     "name": "stdout",
     "output_type": "stream",
     "text": [
      "10\n"
     ]
    },
    {
     "name": "stderr",
     "output_type": "stream",
     "text": [
      " 10%|█         | 5/50 [00:00<00:05,  8.12it/s]\n",
      "100%|██████████| 60/60 [00:14<00:00,  4.07it/s]\n",
      "  4%|▍         | 2/50 [00:00<00:06,  7.65it/s]"
     ]
    },
    {
     "name": "stdout",
     "output_type": "stream",
     "text": [
      "tensor([0.4354], grad_fn=<ExpandBackward0>)\n",
      "tensor([0.4354], grad_fn=<ExpandBackward0>)\n"
     ]
    },
    {
     "name": "stderr",
     "output_type": "stream",
     "text": [
      "  8%|▊         | 4/50 [00:00<00:05,  8.86it/s]"
     ]
    },
    {
     "name": "stdout",
     "output_type": "stream",
     "text": [
      "tensor([0.4354], grad_fn=<ExpandBackward0>)\n",
      "tensor([0.4354], grad_fn=<ExpandBackward0>)\n"
     ]
    },
    {
     "name": "stderr",
     "output_type": "stream",
     "text": [
      "\r",
      " 10%|█         | 5/50 [00:00<00:04,  9.04it/s]"
     ]
    },
    {
     "name": "stdout",
     "output_type": "stream",
     "text": [
      "tensor([0.4354], grad_fn=<ExpandBackward0>)\n",
      "tensor([0.4354], grad_fn=<ExpandBackward0>)\n",
      "tensor([0.4354], grad_fn=<ExpandBackward0>)\n"
     ]
    },
    {
     "name": "stderr",
     "output_type": "stream",
     "text": [
      " 16%|█▌        | 8/50 [00:00<00:04,  9.76it/s]"
     ]
    },
    {
     "name": "stdout",
     "output_type": "stream",
     "text": [
      "tensor([0.4354], grad_fn=<ExpandBackward0>)\n",
      "tensor([0.4354], grad_fn=<ExpandBackward0>)\n",
      "tensor([0.4354], grad_fn=<ExpandBackward0>)\n"
     ]
    },
    {
     "name": "stderr",
     "output_type": "stream",
     "text": [
      " 24%|██▍       | 12/50 [00:01<00:03, 10.58it/s]"
     ]
    },
    {
     "name": "stdout",
     "output_type": "stream",
     "text": [
      "tensor([0.4354], grad_fn=<ExpandBackward0>)\n",
      "tensor([0.4354], grad_fn=<ExpandBackward0>)\n",
      "tensor([0.4354], grad_fn=<ExpandBackward0>)\n"
     ]
    },
    {
     "name": "stderr",
     "output_type": "stream",
     "text": [
      "\r",
      " 28%|██▊       | 14/50 [00:01<00:03, 10.58it/s]"
     ]
    },
    {
     "name": "stdout",
     "output_type": "stream",
     "text": [
      "tensor([0.4354], grad_fn=<ExpandBackward0>)\n",
      "tensor([0.4354], grad_fn=<ExpandBackward0>)\n",
      "tensor([0.4354], grad_fn=<ExpandBackward0>)\n"
     ]
    },
    {
     "name": "stderr",
     "output_type": "stream",
     "text": [
      " 36%|███▌      | 18/50 [00:01<00:02, 10.76it/s]"
     ]
    },
    {
     "name": "stdout",
     "output_type": "stream",
     "text": [
      "tensor([0.4354], grad_fn=<ExpandBackward0>)\n",
      "tensor([0.4354], grad_fn=<ExpandBackward0>)\n",
      "tensor([0.4354], grad_fn=<ExpandBackward0>)\n"
     ]
    },
    {
     "name": "stderr",
     "output_type": "stream",
     "text": [
      "\r",
      " 40%|████      | 20/50 [00:01<00:02, 10.60it/s]"
     ]
    },
    {
     "name": "stdout",
     "output_type": "stream",
     "text": [
      "tensor([0.4354], grad_fn=<ExpandBackward0>)\n",
      "tensor([0.4354], grad_fn=<ExpandBackward0>)\n",
      "tensor([0.4354], grad_fn=<ExpandBackward0>)\n"
     ]
    },
    {
     "name": "stderr",
     "output_type": "stream",
     "text": [
      " 48%|████▊     | 24/50 [00:02<00:02, 10.53it/s]"
     ]
    },
    {
     "name": "stdout",
     "output_type": "stream",
     "text": [
      "tensor([0.4354], grad_fn=<ExpandBackward0>)\n",
      "tensor([0.4354], grad_fn=<ExpandBackward0>)\n",
      "tensor([0.4354], grad_fn=<ExpandBackward0>)\n"
     ]
    },
    {
     "name": "stderr",
     "output_type": "stream",
     "text": [
      "\r",
      " 52%|█████▏    | 26/50 [00:02<00:02, 10.65it/s]"
     ]
    },
    {
     "name": "stdout",
     "output_type": "stream",
     "text": [
      "tensor([0.4354], grad_fn=<ExpandBackward0>)\n",
      "tensor([0.4354], grad_fn=<ExpandBackward0>)\n",
      "tensor([0.4354], grad_fn=<ExpandBackward0>)\n"
     ]
    },
    {
     "name": "stderr",
     "output_type": "stream",
     "text": [
      " 60%|██████    | 30/50 [00:02<00:01, 10.68it/s]"
     ]
    },
    {
     "name": "stdout",
     "output_type": "stream",
     "text": [
      "tensor([0.4354], grad_fn=<ExpandBackward0>)\n",
      "tensor([0.4354], grad_fn=<ExpandBackward0>)\n",
      "tensor([0.4354], grad_fn=<ExpandBackward0>)\n"
     ]
    },
    {
     "name": "stderr",
     "output_type": "stream",
     "text": [
      "\r",
      " 64%|██████▍   | 32/50 [00:03<00:01, 10.66it/s]"
     ]
    },
    {
     "name": "stdout",
     "output_type": "stream",
     "text": [
      "tensor([0.4354], grad_fn=<ExpandBackward0>)\n",
      "tensor([0.4354], grad_fn=<ExpandBackward0>)\n",
      "tensor([0.4354], grad_fn=<ExpandBackward0>)\n"
     ]
    },
    {
     "name": "stderr",
     "output_type": "stream",
     "text": [
      " 72%|███████▏  | 36/50 [00:03<00:01, 10.52it/s]"
     ]
    },
    {
     "name": "stdout",
     "output_type": "stream",
     "text": [
      "tensor([0.4354], grad_fn=<ExpandBackward0>)\n",
      "tensor([0.4354], grad_fn=<ExpandBackward0>)\n",
      "tensor([0.4354], grad_fn=<ExpandBackward0>)\n"
     ]
    },
    {
     "name": "stderr",
     "output_type": "stream",
     "text": [
      "\r",
      " 76%|███████▌  | 38/50 [00:03<00:01, 10.35it/s]"
     ]
    },
    {
     "name": "stdout",
     "output_type": "stream",
     "text": [
      "tensor([0.4354], grad_fn=<ExpandBackward0>)\n",
      "tensor([0.4354], grad_fn=<ExpandBackward0>)\n",
      "tensor([0.4354], grad_fn=<ExpandBackward0>)\n"
     ]
    },
    {
     "name": "stderr",
     "output_type": "stream",
     "text": [
      " 84%|████████▍ | 42/50 [00:04<00:00, 10.35it/s]"
     ]
    },
    {
     "name": "stdout",
     "output_type": "stream",
     "text": [
      "tensor([0.4354], grad_fn=<ExpandBackward0>)\n",
      "tensor([0.4354], grad_fn=<ExpandBackward0>)\n",
      "tensor([0.4354], grad_fn=<ExpandBackward0>)\n"
     ]
    },
    {
     "name": "stderr",
     "output_type": "stream",
     "text": [
      "\r",
      " 88%|████████▊ | 44/50 [00:04<00:00, 10.57it/s]"
     ]
    },
    {
     "name": "stdout",
     "output_type": "stream",
     "text": [
      "tensor([0.4354], grad_fn=<ExpandBackward0>)\n",
      "tensor([0.4354], grad_fn=<ExpandBackward0>)\n",
      "tensor([0.4354], grad_fn=<ExpandBackward0>)\n"
     ]
    },
    {
     "name": "stderr",
     "output_type": "stream",
     "text": [
      " 96%|█████████▌| 48/50 [00:04<00:00, 10.58it/s]"
     ]
    },
    {
     "name": "stdout",
     "output_type": "stream",
     "text": [
      "tensor([0.4354], grad_fn=<ExpandBackward0>)\n",
      "tensor([0.4354], grad_fn=<ExpandBackward0>)\n",
      "tensor([0.4354], grad_fn=<ExpandBackward0>)\n"
     ]
    },
    {
     "name": "stderr",
     "output_type": "stream",
     "text": [
      "100%|██████████| 50/50 [00:04<00:00, 10.32it/s]\n"
     ]
    },
    {
     "name": "stdout",
     "output_type": "stream",
     "text": [
      "tensor([0.4354], grad_fn=<ExpandBackward0>)\n"
     ]
    },
    {
     "name": "stderr",
     "output_type": "stream",
     "text": [
      "100%|██████████| 60/60 [00:14<00:00,  4.20it/s]\n"
     ]
    },
    {
     "name": "stdout",
     "output_type": "stream",
     "text": [
      "11\n"
     ]
    },
    {
     "name": "stderr",
     "output_type": "stream",
     "text": [
      " 12%|█▏        | 6/50 [00:00<00:05,  8.67it/s]\n",
      "100%|██████████| 60/60 [00:14<00:00,  4.16it/s]\n",
      "  4%|▍         | 2/50 [00:00<00:06,  7.34it/s]"
     ]
    },
    {
     "name": "stdout",
     "output_type": "stream",
     "text": [
      "tensor([0.4358], grad_fn=<ExpandBackward0>)\n",
      "tensor([0.4358], grad_fn=<ExpandBackward0>)\n"
     ]
    },
    {
     "name": "stderr",
     "output_type": "stream",
     "text": [
      "\r",
      "  6%|▌         | 3/50 [00:00<00:05,  8.01it/s]"
     ]
    },
    {
     "name": "stdout",
     "output_type": "stream",
     "text": [
      "tensor([0.4358], grad_fn=<ExpandBackward0>)\n",
      "tensor([0.4358], grad_fn=<ExpandBackward0>)\n",
      "tensor([0.4358], grad_fn=<ExpandBackward0>)\n"
     ]
    },
    {
     "name": "stderr",
     "output_type": "stream",
     "text": [
      " 12%|█▏        | 6/50 [00:00<00:05,  8.15it/s]"
     ]
    },
    {
     "name": "stdout",
     "output_type": "stream",
     "text": [
      "tensor([0.4358], grad_fn=<ExpandBackward0>)\n",
      "tensor([0.4358], grad_fn=<ExpandBackward0>)\n",
      "tensor([0.4358], grad_fn=<ExpandBackward0>)\n"
     ]
    },
    {
     "name": "stderr",
     "output_type": "stream",
     "text": [
      " 18%|█▊        | 9/50 [00:01<00:04,  9.13it/s]"
     ]
    },
    {
     "name": "stdout",
     "output_type": "stream",
     "text": [
      "tensor([0.4358], grad_fn=<ExpandBackward0>)\n",
      "tensor([0.4358], grad_fn=<ExpandBackward0>)\n",
      "tensor([0.4358], grad_fn=<ExpandBackward0>)\n"
     ]
    },
    {
     "name": "stderr",
     "output_type": "stream",
     "text": [
      " 24%|██▍       | 12/50 [00:01<00:03,  9.62it/s]"
     ]
    },
    {
     "name": "stdout",
     "output_type": "stream",
     "text": [
      "tensor([0.4358], grad_fn=<ExpandBackward0>)\n",
      "tensor([0.4358], grad_fn=<ExpandBackward0>)\n",
      "tensor([0.4358], grad_fn=<ExpandBackward0>)\n"
     ]
    },
    {
     "name": "stderr",
     "output_type": "stream",
     "text": [
      " 32%|███▏      | 16/50 [00:01<00:03, 10.30it/s]"
     ]
    },
    {
     "name": "stdout",
     "output_type": "stream",
     "text": [
      "tensor([0.4358], grad_fn=<ExpandBackward0>)\n",
      "tensor([0.4358], grad_fn=<ExpandBackward0>)\n",
      "tensor([0.4358], grad_fn=<ExpandBackward0>)\n"
     ]
    },
    {
     "name": "stderr",
     "output_type": "stream",
     "text": [
      "\r",
      " 36%|███▌      | 18/50 [00:01<00:03, 10.65it/s]"
     ]
    },
    {
     "name": "stdout",
     "output_type": "stream",
     "text": [
      "tensor([0.4358], grad_fn=<ExpandBackward0>)\n",
      "tensor([0.4358], grad_fn=<ExpandBackward0>)\n",
      "tensor([0.4358], grad_fn=<ExpandBackward0>)\n"
     ]
    },
    {
     "name": "stderr",
     "output_type": "stream",
     "text": [
      " 44%|████▍     | 22/50 [00:02<00:02, 10.73it/s]"
     ]
    },
    {
     "name": "stdout",
     "output_type": "stream",
     "text": [
      "tensor([0.4358], grad_fn=<ExpandBackward0>)\n",
      "tensor([0.4358], grad_fn=<ExpandBackward0>)\n",
      "tensor([0.4358], grad_fn=<ExpandBackward0>)\n"
     ]
    },
    {
     "name": "stderr",
     "output_type": "stream",
     "text": [
      "\r",
      " 48%|████▊     | 24/50 [00:02<00:02, 10.91it/s]"
     ]
    },
    {
     "name": "stdout",
     "output_type": "stream",
     "text": [
      "tensor([0.4358], grad_fn=<ExpandBackward0>)\n",
      "tensor([0.4358], grad_fn=<ExpandBackward0>)\n",
      "tensor([0.4358], grad_fn=<ExpandBackward0>)\n"
     ]
    },
    {
     "name": "stderr",
     "output_type": "stream",
     "text": [
      " 56%|█████▌    | 28/50 [00:02<00:02, 10.70it/s]"
     ]
    },
    {
     "name": "stdout",
     "output_type": "stream",
     "text": [
      "tensor([0.4358], grad_fn=<ExpandBackward0>)\n",
      "tensor([0.4358], grad_fn=<ExpandBackward0>)\n",
      "tensor([0.4358], grad_fn=<ExpandBackward0>)\n"
     ]
    },
    {
     "name": "stderr",
     "output_type": "stream",
     "text": [
      "\r",
      " 60%|██████    | 30/50 [00:02<00:01, 10.76it/s]"
     ]
    },
    {
     "name": "stdout",
     "output_type": "stream",
     "text": [
      "tensor([0.4358], grad_fn=<ExpandBackward0>)\n",
      "tensor([0.4358], grad_fn=<ExpandBackward0>)\n",
      "tensor([0.4358], grad_fn=<ExpandBackward0>)\n"
     ]
    },
    {
     "name": "stderr",
     "output_type": "stream",
     "text": [
      " 68%|██████▊   | 34/50 [00:03<00:01, 10.27it/s]"
     ]
    },
    {
     "name": "stdout",
     "output_type": "stream",
     "text": [
      "tensor([0.4358], grad_fn=<ExpandBackward0>)\n",
      "tensor([0.4358], grad_fn=<ExpandBackward0>)\n"
     ]
    },
    {
     "name": "stderr",
     "output_type": "stream",
     "text": [
      "\r",
      " 72%|███████▏  | 36/50 [00:03<00:01, 10.23it/s]"
     ]
    },
    {
     "name": "stdout",
     "output_type": "stream",
     "text": [
      "tensor([0.4358], grad_fn=<ExpandBackward0>)\n",
      "tensor([0.4358], grad_fn=<ExpandBackward0>)\n",
      "tensor([0.4358], grad_fn=<ExpandBackward0>)\n"
     ]
    },
    {
     "name": "stderr",
     "output_type": "stream",
     "text": [
      "\r",
      " 76%|███████▌  | 38/50 [00:03<00:01, 10.06it/s]"
     ]
    },
    {
     "name": "stdout",
     "output_type": "stream",
     "text": [
      "tensor([0.4358], grad_fn=<ExpandBackward0>)\n",
      "tensor([0.4358], grad_fn=<ExpandBackward0>)\n",
      "tensor([0.4358], grad_fn=<ExpandBackward0>)\n"
     ]
    },
    {
     "name": "stderr",
     "output_type": "stream",
     "text": [
      " 84%|████████▍ | 42/50 [00:04<00:00, 10.62it/s]"
     ]
    },
    {
     "name": "stdout",
     "output_type": "stream",
     "text": [
      "tensor([0.4358], grad_fn=<ExpandBackward0>)\n",
      "tensor([0.4358], grad_fn=<ExpandBackward0>)\n",
      "tensor([0.4358], grad_fn=<ExpandBackward0>)\n"
     ]
    },
    {
     "name": "stderr",
     "output_type": "stream",
     "text": [
      "\r",
      " 88%|████████▊ | 44/50 [00:04<00:00, 10.43it/s]"
     ]
    },
    {
     "name": "stdout",
     "output_type": "stream",
     "text": [
      "tensor([0.4358], grad_fn=<ExpandBackward0>)\n",
      "tensor([0.4358], grad_fn=<ExpandBackward0>)\n",
      "tensor([0.4358], grad_fn=<ExpandBackward0>)\n"
     ]
    },
    {
     "name": "stderr",
     "output_type": "stream",
     "text": [
      " 96%|█████████▌| 48/50 [00:04<00:00, 10.77it/s]"
     ]
    },
    {
     "name": "stdout",
     "output_type": "stream",
     "text": [
      "tensor([0.4358], grad_fn=<ExpandBackward0>)\n",
      "tensor([0.4358], grad_fn=<ExpandBackward0>)\n",
      "tensor([0.4358], grad_fn=<ExpandBackward0>)\n"
     ]
    },
    {
     "name": "stderr",
     "output_type": "stream",
     "text": [
      "100%|██████████| 50/50 [00:04<00:00, 10.17it/s]\n"
     ]
    },
    {
     "name": "stdout",
     "output_type": "stream",
     "text": [
      "tensor([0.4358], grad_fn=<ExpandBackward0>)\n"
     ]
    },
    {
     "name": "stderr",
     "output_type": "stream",
     "text": [
      "100%|██████████| 60/60 [00:13<00:00,  4.36it/s]\n"
     ]
    },
    {
     "name": "stdout",
     "output_type": "stream",
     "text": [
      "12\n"
     ]
    },
    {
     "name": "stderr",
     "output_type": "stream",
     "text": [
      " 10%|█         | 5/50 [00:00<00:05,  8.89it/s]\n",
      "100%|██████████| 60/60 [00:14<00:00,  4.27it/s]\n",
      "  2%|▏         | 1/50 [00:00<00:08,  5.57it/s]"
     ]
    },
    {
     "name": "stdout",
     "output_type": "stream",
     "text": [
      "tensor([0.4360], grad_fn=<ExpandBackward0>)\n",
      "tensor([0.4360], grad_fn=<ExpandBackward0>)\n",
      "tensor([0.4359], grad_fn=<ExpandBackward0>)\n"
     ]
    },
    {
     "name": "stderr",
     "output_type": "stream",
     "text": [
      " 10%|█         | 5/50 [00:00<00:04,  9.92it/s]"
     ]
    },
    {
     "name": "stdout",
     "output_type": "stream",
     "text": [
      "tensor([0.4360], grad_fn=<ExpandBackward0>)\n",
      "tensor([0.4359], grad_fn=<ExpandBackward0>)\n",
      "tensor([0.4360], grad_fn=<ExpandBackward0>)\n"
     ]
    },
    {
     "name": "stderr",
     "output_type": "stream",
     "text": [
      " 14%|█▍        | 7/50 [00:00<00:04,  9.62it/s]"
     ]
    },
    {
     "name": "stdout",
     "output_type": "stream",
     "text": [
      "tensor([0.4360], grad_fn=<ExpandBackward0>)\n",
      "tensor([0.4360], grad_fn=<ExpandBackward0>)\n",
      "tensor([0.4360], grad_fn=<ExpandBackward0>)\n"
     ]
    },
    {
     "name": "stderr",
     "output_type": "stream",
     "text": [
      " 22%|██▏       | 11/50 [00:01<00:03, 10.63it/s]"
     ]
    },
    {
     "name": "stdout",
     "output_type": "stream",
     "text": [
      "tensor([0.4360], grad_fn=<ExpandBackward0>)\n",
      "tensor([0.4360], grad_fn=<ExpandBackward0>)\n",
      "tensor([0.4360], grad_fn=<ExpandBackward0>)\n"
     ]
    },
    {
     "name": "stderr",
     "output_type": "stream",
     "text": [
      "\r",
      " 26%|██▌       | 13/50 [00:01<00:03, 10.80it/s]"
     ]
    },
    {
     "name": "stdout",
     "output_type": "stream",
     "text": [
      "tensor([0.4360], grad_fn=<ExpandBackward0>)\n",
      "tensor([0.4359], grad_fn=<ExpandBackward0>)\n",
      "tensor([0.4360], grad_fn=<ExpandBackward0>)\n"
     ]
    },
    {
     "name": "stderr",
     "output_type": "stream",
     "text": [
      " 34%|███▍      | 17/50 [00:01<00:03, 10.78it/s]"
     ]
    },
    {
     "name": "stdout",
     "output_type": "stream",
     "text": [
      "tensor([0.4360], grad_fn=<ExpandBackward0>)\n",
      "tensor([0.4360], grad_fn=<ExpandBackward0>)\n",
      "tensor([0.4360], grad_fn=<ExpandBackward0>)\n"
     ]
    },
    {
     "name": "stderr",
     "output_type": "stream",
     "text": [
      "\r",
      " 38%|███▊      | 19/50 [00:01<00:02, 10.90it/s]"
     ]
    },
    {
     "name": "stdout",
     "output_type": "stream",
     "text": [
      "tensor([0.4360], grad_fn=<ExpandBackward0>)\n",
      "tensor([0.4360], grad_fn=<ExpandBackward0>)\n",
      "tensor([0.4360], grad_fn=<ExpandBackward0>)\n"
     ]
    },
    {
     "name": "stderr",
     "output_type": "stream",
     "text": [
      " 46%|████▌     | 23/50 [00:02<00:02, 10.98it/s]"
     ]
    },
    {
     "name": "stdout",
     "output_type": "stream",
     "text": [
      "tensor([0.4360], grad_fn=<ExpandBackward0>)\n",
      "tensor([0.4360], grad_fn=<ExpandBackward0>)\n",
      "tensor([0.4360], grad_fn=<ExpandBackward0>)\n"
     ]
    },
    {
     "name": "stderr",
     "output_type": "stream",
     "text": [
      "\r",
      " 50%|█████     | 25/50 [00:02<00:02, 10.74it/s]"
     ]
    },
    {
     "name": "stdout",
     "output_type": "stream",
     "text": [
      "tensor([0.4360], grad_fn=<ExpandBackward0>)\n",
      "tensor([0.4360], grad_fn=<ExpandBackward0>)\n",
      "tensor([0.4360], grad_fn=<ExpandBackward0>)\n"
     ]
    },
    {
     "name": "stderr",
     "output_type": "stream",
     "text": [
      " 58%|█████▊    | 29/50 [00:02<00:01, 11.01it/s]"
     ]
    },
    {
     "name": "stdout",
     "output_type": "stream",
     "text": [
      "tensor([0.4360], grad_fn=<ExpandBackward0>)\n",
      "tensor([0.4359], grad_fn=<ExpandBackward0>)\n",
      "tensor([0.4360], grad_fn=<ExpandBackward0>)\n"
     ]
    },
    {
     "name": "stderr",
     "output_type": "stream",
     "text": [
      "\r",
      " 62%|██████▏   | 31/50 [00:02<00:01, 10.61it/s]"
     ]
    },
    {
     "name": "stdout",
     "output_type": "stream",
     "text": [
      "tensor([0.4360], grad_fn=<ExpandBackward0>)\n",
      "tensor([0.4360], grad_fn=<ExpandBackward0>)\n",
      "tensor([0.4360], grad_fn=<ExpandBackward0>)\n"
     ]
    },
    {
     "name": "stderr",
     "output_type": "stream",
     "text": [
      " 70%|███████   | 35/50 [00:03<00:01, 10.94it/s]"
     ]
    },
    {
     "name": "stdout",
     "output_type": "stream",
     "text": [
      "tensor([0.4360], grad_fn=<ExpandBackward0>)\n",
      "tensor([0.4360], grad_fn=<ExpandBackward0>)\n",
      "tensor([0.4360], grad_fn=<ExpandBackward0>)\n"
     ]
    },
    {
     "name": "stderr",
     "output_type": "stream",
     "text": [
      "\r",
      " 74%|███████▍  | 37/50 [00:03<00:01, 10.83it/s]"
     ]
    },
    {
     "name": "stdout",
     "output_type": "stream",
     "text": [
      "tensor([0.4360], grad_fn=<ExpandBackward0>)\n",
      "tensor([0.4360], grad_fn=<ExpandBackward0>)\n",
      "tensor([0.4360], grad_fn=<ExpandBackward0>)\n"
     ]
    },
    {
     "name": "stderr",
     "output_type": "stream",
     "text": [
      " 82%|████████▏ | 41/50 [00:03<00:00, 10.56it/s]"
     ]
    },
    {
     "name": "stdout",
     "output_type": "stream",
     "text": [
      "tensor([0.4360], grad_fn=<ExpandBackward0>)\n",
      "tensor([0.4360], grad_fn=<ExpandBackward0>)\n",
      "tensor([0.4360], grad_fn=<ExpandBackward0>)\n"
     ]
    },
    {
     "name": "stderr",
     "output_type": "stream",
     "text": [
      "\r",
      " 86%|████████▌ | 43/50 [00:04<00:00, 10.74it/s]"
     ]
    },
    {
     "name": "stdout",
     "output_type": "stream",
     "text": [
      "tensor([0.4360], grad_fn=<ExpandBackward0>)\n",
      "tensor([0.4360], grad_fn=<ExpandBackward0>)\n",
      "tensor([0.4360], grad_fn=<ExpandBackward0>)\n"
     ]
    },
    {
     "name": "stderr",
     "output_type": "stream",
     "text": [
      " 94%|█████████▍| 47/50 [00:04<00:00, 10.90it/s]"
     ]
    },
    {
     "name": "stdout",
     "output_type": "stream",
     "text": [
      "tensor([0.4360], grad_fn=<ExpandBackward0>)\n",
      "tensor([0.4360], grad_fn=<ExpandBackward0>)\n",
      "tensor([0.4359], grad_fn=<ExpandBackward0>)\n"
     ]
    },
    {
     "name": "stderr",
     "output_type": "stream",
     "text": [
      "100%|██████████| 50/50 [00:04<00:00, 10.59it/s]\n"
     ]
    },
    {
     "name": "stdout",
     "output_type": "stream",
     "text": [
      "tensor([0.4360], grad_fn=<ExpandBackward0>)\n",
      "tensor([0.4360], grad_fn=<ExpandBackward0>)\n"
     ]
    },
    {
     "name": "stderr",
     "output_type": "stream",
     "text": [
      "100%|██████████| 60/60 [00:14<00:00,  4.26it/s]\n"
     ]
    },
    {
     "name": "stdout",
     "output_type": "stream",
     "text": [
      "13\n"
     ]
    },
    {
     "name": "stderr",
     "output_type": "stream",
     "text": [
      " 20%|██        | 10/50 [00:01<00:04,  9.68it/s]\n",
      "100%|██████████| 60/60 [00:16<00:00,  3.61it/s]\n",
      "  4%|▍         | 2/50 [00:00<00:06,  7.84it/s]"
     ]
    },
    {
     "name": "stdout",
     "output_type": "stream",
     "text": [
      "tensor([0.4360], grad_fn=<ExpandBackward0>)\n",
      "tensor([0.4360], grad_fn=<ExpandBackward0>)\n"
     ]
    },
    {
     "name": "stderr",
     "output_type": "stream",
     "text": [
      "\r",
      "  8%|▊         | 4/50 [00:00<00:04,  9.72it/s]"
     ]
    },
    {
     "name": "stdout",
     "output_type": "stream",
     "text": [
      "tensor([0.4360], grad_fn=<ExpandBackward0>)\n",
      "tensor([0.4360], grad_fn=<ExpandBackward0>)\n",
      "tensor([0.4359], grad_fn=<ExpandBackward0>)\n"
     ]
    },
    {
     "name": "stderr",
     "output_type": "stream",
     "text": [
      " 14%|█▍        | 7/50 [00:00<00:04,  9.70it/s]"
     ]
    },
    {
     "name": "stdout",
     "output_type": "stream",
     "text": [
      "tensor([0.4360], grad_fn=<ExpandBackward0>)\n",
      "tensor([0.4359], grad_fn=<ExpandBackward0>)\n",
      "tensor([0.4360], grad_fn=<ExpandBackward0>)\n"
     ]
    },
    {
     "name": "stderr",
     "output_type": "stream",
     "text": [
      "\r",
      " 18%|█▊        | 9/50 [00:00<00:04, 10.07it/s]"
     ]
    },
    {
     "name": "stdout",
     "output_type": "stream",
     "text": [
      "tensor([0.4360], grad_fn=<ExpandBackward0>)\n",
      "tensor([0.4360], grad_fn=<ExpandBackward0>)\n",
      "tensor([0.4360], grad_fn=<ExpandBackward0>)\n"
     ]
    },
    {
     "name": "stderr",
     "output_type": "stream",
     "text": [
      " 26%|██▌       | 13/50 [00:01<00:03, 10.84it/s]"
     ]
    },
    {
     "name": "stdout",
     "output_type": "stream",
     "text": [
      "tensor([0.4360], grad_fn=<ExpandBackward0>)\n",
      "tensor([0.4360], grad_fn=<ExpandBackward0>)\n",
      "tensor([0.4360], grad_fn=<ExpandBackward0>)\n"
     ]
    },
    {
     "name": "stderr",
     "output_type": "stream",
     "text": [
      "\r",
      " 30%|███       | 15/50 [00:01<00:03, 10.43it/s]"
     ]
    },
    {
     "name": "stdout",
     "output_type": "stream",
     "text": [
      "tensor([0.4360], grad_fn=<ExpandBackward0>)\n",
      "tensor([0.4360], grad_fn=<ExpandBackward0>)\n",
      "tensor([0.4359], grad_fn=<ExpandBackward0>)\n"
     ]
    },
    {
     "name": "stderr",
     "output_type": "stream",
     "text": [
      " 38%|███▊      | 19/50 [00:01<00:02, 10.90it/s]"
     ]
    },
    {
     "name": "stdout",
     "output_type": "stream",
     "text": [
      "tensor([0.4360], grad_fn=<ExpandBackward0>)\n",
      "tensor([0.4360], grad_fn=<ExpandBackward0>)\n",
      "tensor([0.4360], grad_fn=<ExpandBackward0>)\n"
     ]
    },
    {
     "name": "stderr",
     "output_type": "stream",
     "text": [
      "\r",
      " 42%|████▏     | 21/50 [00:02<00:02, 10.90it/s]"
     ]
    },
    {
     "name": "stdout",
     "output_type": "stream",
     "text": [
      "tensor([0.4360], grad_fn=<ExpandBackward0>)\n",
      "tensor([0.4360], grad_fn=<ExpandBackward0>)\n",
      "tensor([0.4360], grad_fn=<ExpandBackward0>)\n"
     ]
    },
    {
     "name": "stderr",
     "output_type": "stream",
     "text": [
      " 50%|█████     | 25/50 [00:02<00:02, 10.65it/s]"
     ]
    },
    {
     "name": "stdout",
     "output_type": "stream",
     "text": [
      "tensor([0.4360], grad_fn=<ExpandBackward0>)\n",
      "tensor([0.4360], grad_fn=<ExpandBackward0>)\n",
      "tensor([0.4360], grad_fn=<ExpandBackward0>)\n"
     ]
    },
    {
     "name": "stderr",
     "output_type": "stream",
     "text": [
      "\r",
      " 54%|█████▍    | 27/50 [00:02<00:02, 10.78it/s]"
     ]
    },
    {
     "name": "stdout",
     "output_type": "stream",
     "text": [
      "tensor([0.4359], grad_fn=<ExpandBackward0>)\n",
      "tensor([0.4359], grad_fn=<ExpandBackward0>)\n",
      "tensor([0.4360], grad_fn=<ExpandBackward0>)\n"
     ]
    },
    {
     "name": "stderr",
     "output_type": "stream",
     "text": [
      " 62%|██████▏   | 31/50 [00:02<00:01, 10.99it/s]"
     ]
    },
    {
     "name": "stdout",
     "output_type": "stream",
     "text": [
      "tensor([0.4360], grad_fn=<ExpandBackward0>)\n",
      "tensor([0.4360], grad_fn=<ExpandBackward0>)\n",
      "tensor([0.4360], grad_fn=<ExpandBackward0>)\n"
     ]
    },
    {
     "name": "stderr",
     "output_type": "stream",
     "text": [
      "\r",
      " 66%|██████▌   | 33/50 [00:03<00:01, 11.10it/s]"
     ]
    },
    {
     "name": "stdout",
     "output_type": "stream",
     "text": [
      "tensor([0.4360], grad_fn=<ExpandBackward0>)\n",
      "tensor([0.4360], grad_fn=<ExpandBackward0>)\n",
      "tensor([0.4360], grad_fn=<ExpandBackward0>)\n"
     ]
    },
    {
     "name": "stderr",
     "output_type": "stream",
     "text": [
      " 74%|███████▍  | 37/50 [00:03<00:01, 10.78it/s]"
     ]
    },
    {
     "name": "stdout",
     "output_type": "stream",
     "text": [
      "tensor([0.4360], grad_fn=<ExpandBackward0>)\n",
      "tensor([0.4360], grad_fn=<ExpandBackward0>)\n",
      "tensor([0.4359], grad_fn=<ExpandBackward0>)\n"
     ]
    },
    {
     "name": "stderr",
     "output_type": "stream",
     "text": [
      "\r",
      " 78%|███████▊  | 39/50 [00:03<00:01, 10.92it/s]"
     ]
    },
    {
     "name": "stdout",
     "output_type": "stream",
     "text": [
      "tensor([0.4360], grad_fn=<ExpandBackward0>)\n",
      "tensor([0.4360], grad_fn=<ExpandBackward0>)\n",
      "tensor([0.4360], grad_fn=<ExpandBackward0>)\n"
     ]
    },
    {
     "name": "stderr",
     "output_type": "stream",
     "text": [
      " 86%|████████▌ | 43/50 [00:04<00:00, 10.90it/s]"
     ]
    },
    {
     "name": "stdout",
     "output_type": "stream",
     "text": [
      "tensor([0.4360], grad_fn=<ExpandBackward0>)\n",
      "tensor([0.4360], grad_fn=<ExpandBackward0>)\n",
      "tensor([0.4360], grad_fn=<ExpandBackward0>)\n"
     ]
    },
    {
     "name": "stderr",
     "output_type": "stream",
     "text": [
      "\r",
      " 90%|█████████ | 45/50 [00:04<00:00, 10.76it/s]"
     ]
    },
    {
     "name": "stdout",
     "output_type": "stream",
     "text": [
      "tensor([0.4360], grad_fn=<ExpandBackward0>)\n",
      "tensor([0.4359], grad_fn=<ExpandBackward0>)\n",
      "tensor([0.4360], grad_fn=<ExpandBackward0>)\n"
     ]
    },
    {
     "name": "stderr",
     "output_type": "stream",
     "text": [
      " 98%|█████████▊| 49/50 [00:04<00:00, 10.98it/s]"
     ]
    },
    {
     "name": "stdout",
     "output_type": "stream",
     "text": [
      "tensor([0.4360], grad_fn=<ExpandBackward0>)\n",
      "tensor([0.4360], grad_fn=<ExpandBackward0>)\n",
      "tensor([0.4360], grad_fn=<ExpandBackward0>)\n"
     ]
    },
    {
     "name": "stderr",
     "output_type": "stream",
     "text": [
      "100%|██████████| 50/50 [00:04<00:00, 10.61it/s]\n",
      "100%|██████████| 60/60 [00:14<00:00,  4.26it/s]\n"
     ]
    },
    {
     "name": "stdout",
     "output_type": "stream",
     "text": [
      "14\n"
     ]
    },
    {
     "name": "stderr",
     "output_type": "stream",
     "text": [
      " 28%|██▊       | 14/50 [00:01<00:04,  8.80it/s]\n",
      "100%|██████████| 60/60 [00:14<00:00,  4.26it/s]\n",
      "  4%|▍         | 2/50 [00:00<00:06,  7.73it/s]"
     ]
    },
    {
     "name": "stdout",
     "output_type": "stream",
     "text": [
      "tensor([0.4354], grad_fn=<ExpandBackward0>)\n",
      "tensor([0.4354], grad_fn=<ExpandBackward0>)\n"
     ]
    },
    {
     "name": "stderr",
     "output_type": "stream",
     "text": [
      "  8%|▊         | 4/50 [00:00<00:05,  8.87it/s]"
     ]
    },
    {
     "name": "stdout",
     "output_type": "stream",
     "text": [
      "tensor([0.4354], grad_fn=<ExpandBackward0>)\n",
      "tensor([0.4354], grad_fn=<ExpandBackward0>)\n"
     ]
    },
    {
     "name": "stderr",
     "output_type": "stream",
     "text": [
      "\r",
      " 12%|█▏        | 6/50 [00:00<00:04, 10.13it/s]"
     ]
    },
    {
     "name": "stdout",
     "output_type": "stream",
     "text": [
      "tensor([0.4354], grad_fn=<ExpandBackward0>)\n",
      "tensor([0.4354], grad_fn=<ExpandBackward0>)\n",
      "tensor([0.4354], grad_fn=<ExpandBackward0>)\n"
     ]
    },
    {
     "name": "stderr",
     "output_type": "stream",
     "text": [
      "\r",
      " 16%|█▌        | 8/50 [00:00<00:04, 10.23it/s]"
     ]
    },
    {
     "name": "stdout",
     "output_type": "stream",
     "text": [
      "tensor([0.4354], grad_fn=<ExpandBackward0>)\n",
      "tensor([0.4354], grad_fn=<ExpandBackward0>)\n",
      "tensor([0.4354], grad_fn=<ExpandBackward0>)\n"
     ]
    },
    {
     "name": "stderr",
     "output_type": "stream",
     "text": [
      " 24%|██▍       | 12/50 [00:01<00:03, 10.25it/s]"
     ]
    },
    {
     "name": "stdout",
     "output_type": "stream",
     "text": [
      "tensor([0.4354], grad_fn=<ExpandBackward0>)\n",
      "tensor([0.4354], grad_fn=<ExpandBackward0>)\n",
      "tensor([0.4354], grad_fn=<ExpandBackward0>)\n"
     ]
    },
    {
     "name": "stderr",
     "output_type": "stream",
     "text": [
      "\r",
      " 28%|██▊       | 14/50 [00:01<00:03, 10.26it/s]"
     ]
    },
    {
     "name": "stdout",
     "output_type": "stream",
     "text": [
      "tensor([0.4354], grad_fn=<ExpandBackward0>)\n",
      "tensor([0.4354], grad_fn=<ExpandBackward0>)\n",
      "tensor([0.4354], grad_fn=<ExpandBackward0>)\n"
     ]
    },
    {
     "name": "stderr",
     "output_type": "stream",
     "text": [
      " 36%|███▌      | 18/50 [00:01<00:03, 10.34it/s]"
     ]
    },
    {
     "name": "stdout",
     "output_type": "stream",
     "text": [
      "tensor([0.4354], grad_fn=<ExpandBackward0>)\n",
      "tensor([0.4354], grad_fn=<ExpandBackward0>)\n"
     ]
    },
    {
     "name": "stderr",
     "output_type": "stream",
     "text": [
      "\r",
      " 40%|████      | 20/50 [00:01<00:02, 10.54it/s]"
     ]
    },
    {
     "name": "stdout",
     "output_type": "stream",
     "text": [
      "tensor([0.4354], grad_fn=<ExpandBackward0>)\n",
      "tensor([0.4354], grad_fn=<ExpandBackward0>)\n",
      "tensor([0.4354], grad_fn=<ExpandBackward0>)\n"
     ]
    },
    {
     "name": "stderr",
     "output_type": "stream",
     "text": [
      "\r",
      " 44%|████▍     | 22/50 [00:02<00:02, 10.71it/s]"
     ]
    },
    {
     "name": "stdout",
     "output_type": "stream",
     "text": [
      "tensor([0.4354], grad_fn=<ExpandBackward0>)\n",
      "tensor([0.4354], grad_fn=<ExpandBackward0>)\n",
      "tensor([0.4354], grad_fn=<ExpandBackward0>)\n"
     ]
    },
    {
     "name": "stderr",
     "output_type": "stream",
     "text": [
      " 52%|█████▏    | 26/50 [00:02<00:02, 10.82it/s]"
     ]
    },
    {
     "name": "stdout",
     "output_type": "stream",
     "text": [
      "tensor([0.4354], grad_fn=<ExpandBackward0>)\n",
      "tensor([0.4354], grad_fn=<ExpandBackward0>)\n",
      "tensor([0.4354], grad_fn=<ExpandBackward0>)\n"
     ]
    },
    {
     "name": "stderr",
     "output_type": "stream",
     "text": [
      "\r",
      " 56%|█████▌    | 28/50 [00:02<00:02, 10.54it/s]"
     ]
    },
    {
     "name": "stdout",
     "output_type": "stream",
     "text": [
      "tensor([0.4354], grad_fn=<ExpandBackward0>)\n",
      "tensor([0.4354], grad_fn=<ExpandBackward0>)\n",
      "tensor([0.4354], grad_fn=<ExpandBackward0>)\n"
     ]
    },
    {
     "name": "stderr",
     "output_type": "stream",
     "text": [
      " 64%|██████▍   | 32/50 [00:03<00:01, 10.69it/s]"
     ]
    },
    {
     "name": "stdout",
     "output_type": "stream",
     "text": [
      "tensor([0.4354], grad_fn=<ExpandBackward0>)\n",
      "tensor([0.4354], grad_fn=<ExpandBackward0>)\n",
      "tensor([0.4354], grad_fn=<ExpandBackward0>)\n"
     ]
    },
    {
     "name": "stderr",
     "output_type": "stream",
     "text": [
      "\r",
      " 68%|██████▊   | 34/50 [00:03<00:01, 10.57it/s]"
     ]
    },
    {
     "name": "stdout",
     "output_type": "stream",
     "text": [
      "tensor([0.4354], grad_fn=<ExpandBackward0>)\n",
      "tensor([0.4354], grad_fn=<ExpandBackward0>)\n",
      "tensor([0.4354], grad_fn=<ExpandBackward0>)\n"
     ]
    },
    {
     "name": "stderr",
     "output_type": "stream",
     "text": [
      " 76%|███████▌  | 38/50 [00:03<00:01, 10.65it/s]"
     ]
    },
    {
     "name": "stdout",
     "output_type": "stream",
     "text": [
      "tensor([0.4354], grad_fn=<ExpandBackward0>)\n",
      "tensor([0.4354], grad_fn=<ExpandBackward0>)\n",
      "tensor([0.4354], grad_fn=<ExpandBackward0>)\n"
     ]
    },
    {
     "name": "stderr",
     "output_type": "stream",
     "text": [
      "\r",
      " 80%|████████  | 40/50 [00:03<00:00, 10.21it/s]"
     ]
    },
    {
     "name": "stdout",
     "output_type": "stream",
     "text": [
      "tensor([0.4354], grad_fn=<ExpandBackward0>)\n",
      "tensor([0.4354], grad_fn=<ExpandBackward0>)\n",
      "tensor([0.4354], grad_fn=<ExpandBackward0>)\n"
     ]
    },
    {
     "name": "stderr",
     "output_type": "stream",
     "text": [
      " 88%|████████▊ | 44/50 [00:04<00:00, 10.56it/s]"
     ]
    },
    {
     "name": "stdout",
     "output_type": "stream",
     "text": [
      "tensor([0.4355], grad_fn=<ExpandBackward0>)\n",
      "tensor([0.4354], grad_fn=<ExpandBackward0>)\n",
      "tensor([0.4354], grad_fn=<ExpandBackward0>)\n"
     ]
    },
    {
     "name": "stderr",
     "output_type": "stream",
     "text": [
      "\r",
      " 92%|█████████▏| 46/50 [00:04<00:00, 10.50it/s]"
     ]
    },
    {
     "name": "stdout",
     "output_type": "stream",
     "text": [
      "tensor([0.4354], grad_fn=<ExpandBackward0>)\n",
      "tensor([0.4354], grad_fn=<ExpandBackward0>)\n",
      "tensor([0.4354], grad_fn=<ExpandBackward0>)\n"
     ]
    },
    {
     "name": "stderr",
     "output_type": "stream",
     "text": [
      "100%|██████████| 50/50 [00:04<00:00, 10.41it/s]\n"
     ]
    },
    {
     "name": "stdout",
     "output_type": "stream",
     "text": [
      "tensor([0.4354], grad_fn=<ExpandBackward0>)\n",
      "tensor([0.4354], grad_fn=<ExpandBackward0>)\n"
     ]
    },
    {
     "name": "stderr",
     "output_type": "stream",
     "text": [
      "100%|██████████| 60/60 [00:14<00:00,  4.14it/s]\n"
     ]
    },
    {
     "name": "stdout",
     "output_type": "stream",
     "text": [
      "15\n"
     ]
    },
    {
     "name": "stderr",
     "output_type": "stream",
     "text": [
      " 10%|█         | 5/50 [00:00<00:05,  8.10it/s]\n",
      "100%|██████████| 60/60 [00:15<00:00,  3.94it/s]\n",
      "  4%|▍         | 2/50 [00:00<00:06,  7.56it/s]"
     ]
    },
    {
     "name": "stdout",
     "output_type": "stream",
     "text": [
      "tensor([0.4356], grad_fn=<ExpandBackward0>)\n",
      "tensor([0.4356], grad_fn=<ExpandBackward0>)\n"
     ]
    },
    {
     "name": "stderr",
     "output_type": "stream",
     "text": [
      "  8%|▊         | 4/50 [00:00<00:05,  8.69it/s]"
     ]
    },
    {
     "name": "stdout",
     "output_type": "stream",
     "text": [
      "tensor([0.4356], grad_fn=<ExpandBackward0>)\n",
      "tensor([0.4356], grad_fn=<ExpandBackward0>)\n"
     ]
    },
    {
     "name": "stderr",
     "output_type": "stream",
     "text": [
      "\r",
      " 10%|█         | 5/50 [00:00<00:05,  8.74it/s]"
     ]
    },
    {
     "name": "stdout",
     "output_type": "stream",
     "text": [
      "tensor([0.4356], grad_fn=<ExpandBackward0>)\n",
      "tensor([0.4356], grad_fn=<ExpandBackward0>)\n",
      "tensor([0.4356], grad_fn=<ExpandBackward0>)\n"
     ]
    },
    {
     "name": "stderr",
     "output_type": "stream",
     "text": [
      " 18%|█▊        | 9/50 [00:00<00:03, 10.26it/s]"
     ]
    },
    {
     "name": "stdout",
     "output_type": "stream",
     "text": [
      "tensor([0.4356], grad_fn=<ExpandBackward0>)\n",
      "tensor([0.4356], grad_fn=<ExpandBackward0>)\n",
      "tensor([0.4356], grad_fn=<ExpandBackward0>)\n"
     ]
    },
    {
     "name": "stderr",
     "output_type": "stream",
     "text": [
      "\r",
      " 22%|██▏       | 11/50 [00:01<00:03, 10.49it/s]"
     ]
    },
    {
     "name": "stdout",
     "output_type": "stream",
     "text": [
      "tensor([0.4356], grad_fn=<ExpandBackward0>)\n",
      "tensor([0.4356], grad_fn=<ExpandBackward0>)\n",
      "tensor([0.4356], grad_fn=<ExpandBackward0>)\n"
     ]
    },
    {
     "name": "stderr",
     "output_type": "stream",
     "text": [
      " 30%|███       | 15/50 [00:01<00:03, 10.44it/s]"
     ]
    },
    {
     "name": "stdout",
     "output_type": "stream",
     "text": [
      "tensor([0.4356], grad_fn=<ExpandBackward0>)\n",
      "tensor([0.4356], grad_fn=<ExpandBackward0>)\n",
      "tensor([0.4356], grad_fn=<ExpandBackward0>)\n"
     ]
    },
    {
     "name": "stderr",
     "output_type": "stream",
     "text": [
      "\r",
      " 34%|███▍      | 17/50 [00:01<00:03, 10.66it/s]"
     ]
    },
    {
     "name": "stdout",
     "output_type": "stream",
     "text": [
      "tensor([0.4356], grad_fn=<ExpandBackward0>)\n",
      "tensor([0.4356], grad_fn=<ExpandBackward0>)\n",
      "tensor([0.4356], grad_fn=<ExpandBackward0>)\n"
     ]
    },
    {
     "name": "stderr",
     "output_type": "stream",
     "text": [
      " 42%|████▏     | 21/50 [00:02<00:02, 10.42it/s]"
     ]
    },
    {
     "name": "stdout",
     "output_type": "stream",
     "text": [
      "tensor([0.4356], grad_fn=<ExpandBackward0>)\n",
      "tensor([0.4356], grad_fn=<ExpandBackward0>)\n"
     ]
    },
    {
     "name": "stderr",
     "output_type": "stream",
     "text": [
      "\r",
      " 46%|████▌     | 23/50 [00:02<00:02, 10.00it/s]"
     ]
    },
    {
     "name": "stdout",
     "output_type": "stream",
     "text": [
      "tensor([0.4356], grad_fn=<ExpandBackward0>)\n",
      "tensor([0.4356], grad_fn=<ExpandBackward0>)\n"
     ]
    },
    {
     "name": "stderr",
     "output_type": "stream",
     "text": [
      "\r",
      " 50%|█████     | 25/50 [00:02<00:02,  9.85it/s]"
     ]
    },
    {
     "name": "stdout",
     "output_type": "stream",
     "text": [
      "tensor([0.4356], grad_fn=<ExpandBackward0>)\n",
      "tensor([0.4356], grad_fn=<ExpandBackward0>)\n"
     ]
    },
    {
     "name": "stderr",
     "output_type": "stream",
     "text": [
      " 54%|█████▍    | 27/50 [00:02<00:02,  9.52it/s]"
     ]
    },
    {
     "name": "stdout",
     "output_type": "stream",
     "text": [
      "tensor([0.4356], grad_fn=<ExpandBackward0>)\n",
      "tensor([0.4356], grad_fn=<ExpandBackward0>)\n"
     ]
    },
    {
     "name": "stderr",
     "output_type": "stream",
     "text": [
      " 58%|█████▊    | 29/50 [00:02<00:02,  9.44it/s]"
     ]
    },
    {
     "name": "stdout",
     "output_type": "stream",
     "text": [
      "tensor([0.4356], grad_fn=<ExpandBackward0>)\n",
      "tensor([0.4356], grad_fn=<ExpandBackward0>)\n"
     ]
    },
    {
     "name": "stderr",
     "output_type": "stream",
     "text": [
      " 62%|██████▏   | 31/50 [00:03<00:02,  9.28it/s]"
     ]
    },
    {
     "name": "stdout",
     "output_type": "stream",
     "text": [
      "tensor([0.4356], grad_fn=<ExpandBackward0>)\n",
      "tensor([0.4356], grad_fn=<ExpandBackward0>)\n"
     ]
    },
    {
     "name": "stderr",
     "output_type": "stream",
     "text": [
      "\r",
      " 66%|██████▌   | 33/50 [00:03<00:01,  9.97it/s]"
     ]
    },
    {
     "name": "stdout",
     "output_type": "stream",
     "text": [
      "tensor([0.4356], grad_fn=<ExpandBackward0>)\n",
      "tensor([0.4356], grad_fn=<ExpandBackward0>)\n",
      "tensor([0.4356], grad_fn=<ExpandBackward0>)\n"
     ]
    },
    {
     "name": "stderr",
     "output_type": "stream",
     "text": [
      "\r",
      " 70%|███████   | 35/50 [00:03<00:01, 10.22it/s]"
     ]
    },
    {
     "name": "stdout",
     "output_type": "stream",
     "text": [
      "tensor([0.4356], grad_fn=<ExpandBackward0>)\n",
      "tensor([0.4356], grad_fn=<ExpandBackward0>)\n",
      "tensor([0.4356], grad_fn=<ExpandBackward0>)\n"
     ]
    },
    {
     "name": "stderr",
     "output_type": "stream",
     "text": [
      " 78%|███████▊  | 39/50 [00:03<00:01, 10.61it/s]"
     ]
    },
    {
     "name": "stdout",
     "output_type": "stream",
     "text": [
      "tensor([0.4356], grad_fn=<ExpandBackward0>)\n",
      "tensor([0.4356], grad_fn=<ExpandBackward0>)\n",
      "tensor([0.4356], grad_fn=<ExpandBackward0>)\n"
     ]
    },
    {
     "name": "stderr",
     "output_type": "stream",
     "text": [
      "\r",
      " 82%|████████▏ | 41/50 [00:04<00:00, 10.22it/s]"
     ]
    },
    {
     "name": "stdout",
     "output_type": "stream",
     "text": [
      "tensor([0.4356], grad_fn=<ExpandBackward0>)\n",
      "tensor([0.4356], grad_fn=<ExpandBackward0>)\n",
      "tensor([0.4356], grad_fn=<ExpandBackward0>)\n"
     ]
    },
    {
     "name": "stderr",
     "output_type": "stream",
     "text": [
      " 90%|█████████ | 45/50 [00:04<00:00, 10.64it/s]"
     ]
    },
    {
     "name": "stdout",
     "output_type": "stream",
     "text": [
      "tensor([0.4356], grad_fn=<ExpandBackward0>)\n",
      "tensor([0.4356], grad_fn=<ExpandBackward0>)\n",
      "tensor([0.4356], grad_fn=<ExpandBackward0>)\n"
     ]
    },
    {
     "name": "stderr",
     "output_type": "stream",
     "text": [
      "\r",
      " 94%|█████████▍| 47/50 [00:04<00:00, 10.38it/s]"
     ]
    },
    {
     "name": "stdout",
     "output_type": "stream",
     "text": [
      "tensor([0.4356], grad_fn=<ExpandBackward0>)\n",
      "tensor([0.4356], grad_fn=<ExpandBackward0>)\n",
      "tensor([0.4356], grad_fn=<ExpandBackward0>)\n"
     ]
    },
    {
     "name": "stderr",
     "output_type": "stream",
     "text": [
      "100%|██████████| 50/50 [00:04<00:00, 10.02it/s]\n"
     ]
    },
    {
     "name": "stdout",
     "output_type": "stream",
     "text": [
      "tensor([0.4356], grad_fn=<ExpandBackward0>)\n"
     ]
    },
    {
     "name": "stderr",
     "output_type": "stream",
     "text": [
      "100%|██████████| 60/60 [00:14<00:00,  4.21it/s]\n"
     ]
    },
    {
     "name": "stdout",
     "output_type": "stream",
     "text": [
      "16\n"
     ]
    },
    {
     "name": "stderr",
     "output_type": "stream",
     "text": [
      " 12%|█▏        | 6/50 [00:00<00:04,  9.07it/s]\n",
      "100%|██████████| 60/60 [00:14<00:00,  4.28it/s]\n",
      "  4%|▍         | 2/50 [00:00<00:06,  7.34it/s]"
     ]
    },
    {
     "name": "stdout",
     "output_type": "stream",
     "text": [
      "tensor([0.4353], grad_fn=<ExpandBackward0>)\n",
      "tensor([0.4353], grad_fn=<ExpandBackward0>)\n"
     ]
    },
    {
     "name": "stderr",
     "output_type": "stream",
     "text": [
      "  8%|▊         | 4/50 [00:00<00:05,  8.60it/s]"
     ]
    },
    {
     "name": "stdout",
     "output_type": "stream",
     "text": [
      "tensor([0.4353], grad_fn=<ExpandBackward0>)\n",
      "tensor([0.4353], grad_fn=<ExpandBackward0>)\n"
     ]
    },
    {
     "name": "stderr",
     "output_type": "stream",
     "text": [
      " 12%|█▏        | 6/50 [00:00<00:04,  9.06it/s]"
     ]
    },
    {
     "name": "stdout",
     "output_type": "stream",
     "text": [
      "tensor([0.4353], grad_fn=<ExpandBackward0>)\n",
      "tensor([0.4353], grad_fn=<ExpandBackward0>)\n"
     ]
    },
    {
     "name": "stderr",
     "output_type": "stream",
     "text": [
      "\r",
      " 14%|█▍        | 7/50 [00:00<00:04,  9.33it/s]"
     ]
    },
    {
     "name": "stdout",
     "output_type": "stream",
     "text": [
      "tensor([0.4353], grad_fn=<ExpandBackward0>)\n",
      "tensor([0.4353], grad_fn=<ExpandBackward0>)\n",
      "tensor([0.4353], grad_fn=<ExpandBackward0>)\n"
     ]
    },
    {
     "name": "stderr",
     "output_type": "stream",
     "text": [
      " 22%|██▏       | 11/50 [00:01<00:03, 10.53it/s]"
     ]
    },
    {
     "name": "stdout",
     "output_type": "stream",
     "text": [
      "tensor([0.4353], grad_fn=<ExpandBackward0>)\n",
      "tensor([0.4353], grad_fn=<ExpandBackward0>)\n",
      "tensor([0.4353], grad_fn=<ExpandBackward0>)\n"
     ]
    },
    {
     "name": "stderr",
     "output_type": "stream",
     "text": [
      "\r",
      " 26%|██▌       | 13/50 [00:01<00:03, 10.32it/s]"
     ]
    },
    {
     "name": "stdout",
     "output_type": "stream",
     "text": [
      "tensor([0.4353], grad_fn=<ExpandBackward0>)\n",
      "tensor([0.4353], grad_fn=<ExpandBackward0>)\n",
      "tensor([0.4353], grad_fn=<ExpandBackward0>)\n"
     ]
    },
    {
     "name": "stderr",
     "output_type": "stream",
     "text": [
      " 34%|███▍      | 17/50 [00:01<00:03, 10.14it/s]"
     ]
    },
    {
     "name": "stdout",
     "output_type": "stream",
     "text": [
      "tensor([0.4353], grad_fn=<ExpandBackward0>)\n",
      "tensor([0.4353], grad_fn=<ExpandBackward0>)\n",
      "tensor([0.4353], grad_fn=<ExpandBackward0>)\n"
     ]
    },
    {
     "name": "stderr",
     "output_type": "stream",
     "text": [
      "\r",
      " 38%|███▊      | 19/50 [00:01<00:02, 10.35it/s]"
     ]
    },
    {
     "name": "stdout",
     "output_type": "stream",
     "text": [
      "tensor([0.4353], grad_fn=<ExpandBackward0>)\n",
      "tensor([0.4353], grad_fn=<ExpandBackward0>)\n",
      "tensor([0.4353], grad_fn=<ExpandBackward0>)\n"
     ]
    },
    {
     "name": "stderr",
     "output_type": "stream",
     "text": [
      " 46%|████▌     | 23/50 [00:02<00:02, 10.28it/s]"
     ]
    },
    {
     "name": "stdout",
     "output_type": "stream",
     "text": [
      "tensor([0.4353], grad_fn=<ExpandBackward0>)\n",
      "tensor([0.4353], grad_fn=<ExpandBackward0>)\n"
     ]
    },
    {
     "name": "stderr",
     "output_type": "stream",
     "text": [
      "\r",
      " 50%|█████     | 25/50 [00:02<00:02, 10.27it/s]"
     ]
    },
    {
     "name": "stdout",
     "output_type": "stream",
     "text": [
      "tensor([0.4353], grad_fn=<ExpandBackward0>)\n",
      "tensor([0.4353], grad_fn=<ExpandBackward0>)\n",
      "tensor([0.4353], grad_fn=<ExpandBackward0>)\n"
     ]
    },
    {
     "name": "stderr",
     "output_type": "stream",
     "text": [
      "\r",
      " 54%|█████▍    | 27/50 [00:02<00:02, 10.30it/s]"
     ]
    },
    {
     "name": "stdout",
     "output_type": "stream",
     "text": [
      "tensor([0.4353], grad_fn=<ExpandBackward0>)\n",
      "tensor([0.4353], grad_fn=<ExpandBackward0>)\n",
      "tensor([0.4353], grad_fn=<ExpandBackward0>)\n"
     ]
    },
    {
     "name": "stderr",
     "output_type": "stream",
     "text": [
      " 62%|██████▏   | 31/50 [00:03<00:01, 10.59it/s]"
     ]
    },
    {
     "name": "stdout",
     "output_type": "stream",
     "text": [
      "tensor([0.4353], grad_fn=<ExpandBackward0>)\n",
      "tensor([0.4353], grad_fn=<ExpandBackward0>)\n",
      "tensor([0.4353], grad_fn=<ExpandBackward0>)\n"
     ]
    },
    {
     "name": "stderr",
     "output_type": "stream",
     "text": [
      "\r",
      " 66%|██████▌   | 33/50 [00:03<00:01, 10.19it/s]"
     ]
    },
    {
     "name": "stdout",
     "output_type": "stream",
     "text": [
      "tensor([0.4353], grad_fn=<ExpandBackward0>)\n",
      "tensor([0.4353], grad_fn=<ExpandBackward0>)\n",
      "tensor([0.4353], grad_fn=<ExpandBackward0>)\n"
     ]
    },
    {
     "name": "stderr",
     "output_type": "stream",
     "text": [
      " 74%|███████▍  | 37/50 [00:03<00:01, 10.55it/s]"
     ]
    },
    {
     "name": "stdout",
     "output_type": "stream",
     "text": [
      "tensor([0.4353], grad_fn=<ExpandBackward0>)\n",
      "tensor([0.4353], grad_fn=<ExpandBackward0>)\n",
      "tensor([0.4353], grad_fn=<ExpandBackward0>)\n"
     ]
    },
    {
     "name": "stderr",
     "output_type": "stream",
     "text": [
      "\r",
      " 78%|███████▊  | 39/50 [00:03<00:01, 10.69it/s]"
     ]
    },
    {
     "name": "stdout",
     "output_type": "stream",
     "text": [
      "tensor([0.4353], grad_fn=<ExpandBackward0>)\n",
      "tensor([0.4353], grad_fn=<ExpandBackward0>)\n",
      "tensor([0.4353], grad_fn=<ExpandBackward0>)\n"
     ]
    },
    {
     "name": "stderr",
     "output_type": "stream",
     "text": [
      " 86%|████████▌ | 43/50 [00:04<00:00, 10.98it/s]"
     ]
    },
    {
     "name": "stdout",
     "output_type": "stream",
     "text": [
      "tensor([0.4353], grad_fn=<ExpandBackward0>)\n",
      "tensor([0.4353], grad_fn=<ExpandBackward0>)\n",
      "tensor([0.4353], grad_fn=<ExpandBackward0>)\n"
     ]
    },
    {
     "name": "stderr",
     "output_type": "stream",
     "text": [
      "\r",
      " 90%|█████████ | 45/50 [00:04<00:00, 11.01it/s]"
     ]
    },
    {
     "name": "stdout",
     "output_type": "stream",
     "text": [
      "tensor([0.4353], grad_fn=<ExpandBackward0>)\n",
      "tensor([0.4353], grad_fn=<ExpandBackward0>)\n",
      "tensor([0.4353], grad_fn=<ExpandBackward0>)\n"
     ]
    },
    {
     "name": "stderr",
     "output_type": "stream",
     "text": [
      " 98%|█████████▊| 49/50 [00:04<00:00, 11.05it/s]"
     ]
    },
    {
     "name": "stdout",
     "output_type": "stream",
     "text": [
      "tensor([0.4353], grad_fn=<ExpandBackward0>)\n",
      "tensor([0.4353], grad_fn=<ExpandBackward0>)\n",
      "tensor([0.4353], grad_fn=<ExpandBackward0>)\n"
     ]
    },
    {
     "name": "stderr",
     "output_type": "stream",
     "text": [
      "100%|██████████| 50/50 [00:04<00:00, 10.28it/s]\n",
      "100%|██████████| 60/60 [00:14<00:00,  4.13it/s]\n"
     ]
    },
    {
     "name": "stdout",
     "output_type": "stream",
     "text": [
      "17\n"
     ]
    },
    {
     "name": "stderr",
     "output_type": "stream",
     "text": [
      " 24%|██▍       | 12/50 [00:01<00:04,  9.20it/s]\n",
      "100%|██████████| 60/60 [00:14<00:00,  4.21it/s]\n",
      "  2%|▏         | 1/50 [00:00<00:07,  6.29it/s]"
     ]
    },
    {
     "name": "stdout",
     "output_type": "stream",
     "text": [
      "tensor([0.4360], grad_fn=<ExpandBackward0>)\n",
      "tensor([0.4360], grad_fn=<ExpandBackward0>)\n",
      "tensor([0.4360], grad_fn=<ExpandBackward0>)\n"
     ]
    },
    {
     "name": "stderr",
     "output_type": "stream",
     "text": [
      " 10%|█         | 5/50 [00:00<00:04, 10.15it/s]"
     ]
    },
    {
     "name": "stdout",
     "output_type": "stream",
     "text": [
      "tensor([0.4360], grad_fn=<ExpandBackward0>)\n",
      "tensor([0.4360], grad_fn=<ExpandBackward0>)\n",
      "tensor([0.4360], grad_fn=<ExpandBackward0>)\n"
     ]
    },
    {
     "name": "stderr",
     "output_type": "stream",
     "text": [
      "\r",
      " 14%|█▍        | 7/50 [00:00<00:04, 10.18it/s]"
     ]
    },
    {
     "name": "stdout",
     "output_type": "stream",
     "text": [
      "tensor([0.4360], grad_fn=<ExpandBackward0>)\n",
      "tensor([0.4360], grad_fn=<ExpandBackward0>)\n",
      "tensor([0.4360], grad_fn=<ExpandBackward0>)\n"
     ]
    },
    {
     "name": "stderr",
     "output_type": "stream",
     "text": [
      " 22%|██▏       | 11/50 [00:01<00:03, 10.09it/s]"
     ]
    },
    {
     "name": "stdout",
     "output_type": "stream",
     "text": [
      "tensor([0.4360], grad_fn=<ExpandBackward0>)\n",
      "tensor([0.4360], grad_fn=<ExpandBackward0>)\n",
      "tensor([0.4360], grad_fn=<ExpandBackward0>)\n"
     ]
    },
    {
     "name": "stderr",
     "output_type": "stream",
     "text": [
      "\r",
      " 26%|██▌       | 13/50 [00:01<00:03, 10.43it/s]"
     ]
    },
    {
     "name": "stdout",
     "output_type": "stream",
     "text": [
      "tensor([0.4360], grad_fn=<ExpandBackward0>)\n",
      "tensor([0.4360], grad_fn=<ExpandBackward0>)\n",
      "tensor([0.4360], grad_fn=<ExpandBackward0>)\n"
     ]
    },
    {
     "name": "stderr",
     "output_type": "stream",
     "text": [
      " 34%|███▍      | 17/50 [00:01<00:03, 10.68it/s]"
     ]
    },
    {
     "name": "stdout",
     "output_type": "stream",
     "text": [
      "tensor([0.4360], grad_fn=<ExpandBackward0>)\n",
      "tensor([0.4360], grad_fn=<ExpandBackward0>)\n",
      "tensor([0.4360], grad_fn=<ExpandBackward0>)\n"
     ]
    },
    {
     "name": "stderr",
     "output_type": "stream",
     "text": [
      "\r",
      " 38%|███▊      | 19/50 [00:01<00:02, 10.66it/s]"
     ]
    },
    {
     "name": "stdout",
     "output_type": "stream",
     "text": [
      "tensor([0.4360], grad_fn=<ExpandBackward0>)\n",
      "tensor([0.4360], grad_fn=<ExpandBackward0>)\n",
      "tensor([0.4360], grad_fn=<ExpandBackward0>)\n"
     ]
    },
    {
     "name": "stderr",
     "output_type": "stream",
     "text": [
      " 46%|████▌     | 23/50 [00:02<00:02, 10.63it/s]"
     ]
    },
    {
     "name": "stdout",
     "output_type": "stream",
     "text": [
      "tensor([0.4360], grad_fn=<ExpandBackward0>)\n",
      "tensor([0.4360], grad_fn=<ExpandBackward0>)\n",
      "tensor([0.4360], grad_fn=<ExpandBackward0>)\n"
     ]
    },
    {
     "name": "stderr",
     "output_type": "stream",
     "text": [
      "\r",
      " 50%|█████     | 25/50 [00:02<00:02, 10.72it/s]"
     ]
    },
    {
     "name": "stdout",
     "output_type": "stream",
     "text": [
      "tensor([0.4360], grad_fn=<ExpandBackward0>)\n",
      "tensor([0.4360], grad_fn=<ExpandBackward0>)\n",
      "tensor([0.4360], grad_fn=<ExpandBackward0>)\n"
     ]
    },
    {
     "name": "stderr",
     "output_type": "stream",
     "text": [
      " 58%|█████▊    | 29/50 [00:02<00:01, 10.76it/s]"
     ]
    },
    {
     "name": "stdout",
     "output_type": "stream",
     "text": [
      "tensor([0.4360], grad_fn=<ExpandBackward0>)\n",
      "tensor([0.4360], grad_fn=<ExpandBackward0>)\n",
      "tensor([0.4360], grad_fn=<ExpandBackward0>)\n"
     ]
    },
    {
     "name": "stderr",
     "output_type": "stream",
     "text": [
      "\r",
      " 62%|██████▏   | 31/50 [00:02<00:01, 10.68it/s]"
     ]
    },
    {
     "name": "stdout",
     "output_type": "stream",
     "text": [
      "tensor([0.4360], grad_fn=<ExpandBackward0>)\n",
      "tensor([0.4360], grad_fn=<ExpandBackward0>)\n",
      "tensor([0.4360], grad_fn=<ExpandBackward0>)\n"
     ]
    },
    {
     "name": "stderr",
     "output_type": "stream",
     "text": [
      " 70%|███████   | 35/50 [00:03<00:01, 10.97it/s]"
     ]
    },
    {
     "name": "stdout",
     "output_type": "stream",
     "text": [
      "tensor([0.4360], grad_fn=<ExpandBackward0>)\n",
      "tensor([0.4360], grad_fn=<ExpandBackward0>)\n",
      "tensor([0.4360], grad_fn=<ExpandBackward0>)\n"
     ]
    },
    {
     "name": "stderr",
     "output_type": "stream",
     "text": [
      "\r",
      " 74%|███████▍  | 37/50 [00:03<00:01, 11.04it/s]"
     ]
    },
    {
     "name": "stdout",
     "output_type": "stream",
     "text": [
      "tensor([0.4360], grad_fn=<ExpandBackward0>)\n",
      "tensor([0.4360], grad_fn=<ExpandBackward0>)\n",
      "tensor([0.4360], grad_fn=<ExpandBackward0>)\n"
     ]
    },
    {
     "name": "stderr",
     "output_type": "stream",
     "text": [
      " 82%|████████▏ | 41/50 [00:03<00:00, 10.74it/s]"
     ]
    },
    {
     "name": "stdout",
     "output_type": "stream",
     "text": [
      "tensor([0.4360], grad_fn=<ExpandBackward0>)\n",
      "tensor([0.4360], grad_fn=<ExpandBackward0>)\n",
      "tensor([0.4360], grad_fn=<ExpandBackward0>)\n"
     ]
    },
    {
     "name": "stderr",
     "output_type": "stream",
     "text": [
      "\r",
      " 86%|████████▌ | 43/50 [00:04<00:00, 10.42it/s]"
     ]
    },
    {
     "name": "stdout",
     "output_type": "stream",
     "text": [
      "tensor([0.4360], grad_fn=<ExpandBackward0>)\n",
      "tensor([0.4360], grad_fn=<ExpandBackward0>)\n",
      "tensor([0.4360], grad_fn=<ExpandBackward0>)\n"
     ]
    },
    {
     "name": "stderr",
     "output_type": "stream",
     "text": [
      " 94%|█████████▍| 47/50 [00:04<00:00, 10.61it/s]"
     ]
    },
    {
     "name": "stdout",
     "output_type": "stream",
     "text": [
      "tensor([0.4360], grad_fn=<ExpandBackward0>)\n",
      "tensor([0.4360], grad_fn=<ExpandBackward0>)\n",
      "tensor([0.4360], grad_fn=<ExpandBackward0>)\n"
     ]
    },
    {
     "name": "stderr",
     "output_type": "stream",
     "text": [
      "100%|██████████| 50/50 [00:04<00:00, 10.57it/s]\n"
     ]
    },
    {
     "name": "stdout",
     "output_type": "stream",
     "text": [
      "tensor([0.4360], grad_fn=<ExpandBackward0>)\n",
      "tensor([0.4360], grad_fn=<ExpandBackward0>)\n"
     ]
    },
    {
     "name": "stderr",
     "output_type": "stream",
     "text": [
      "100%|██████████| 60/60 [00:14<00:00,  4.08it/s]\n"
     ]
    },
    {
     "name": "stdout",
     "output_type": "stream",
     "text": [
      "18\n"
     ]
    },
    {
     "name": "stderr",
     "output_type": "stream",
     "text": [
      " 36%|███▌      | 18/50 [00:02<00:04,  7.42it/s]\n",
      " 15%|█▌        | 9/60 [00:02<00:18,  2.82it/s]"
     ]
    }
   ],
   "source": [
    "data_X_0, data_Y_0 = [torch.FloatTensor(neg_queried),], [torch.FloatTensor(neg_labels),]\n",
    "data_X_1, data_Y_1 = [torch.FloatTensor(pos_queried),], [torch.FloatTensor(pos_labels),]\n",
    "\n",
    "query_budget = 5000\n",
    "my_blackbox = black_box.BlackBox('checkpoints/blackbox_preaudit.pth')\n",
    "\n",
    "for i in range(query_budget // 2 - 1000):\n",
    "    print(i)\n",
    "    x_0 = torch.normal(0., 1., size = (1, 102), requires_grad=True)\n",
    "    sample_size = 20\n",
    "    X_0 = x_0\n",
    "    X_0.repeat(sample_size, 1)\n",
    "    \n",
    "    optimizer = torch.optim.AdamW((x_0,), lr=1e-2)\n",
    "    optimizer.zero_grad()\n",
    "    n_iters= 50\n",
    "    \n",
    "    best_loss = 10e5\n",
    "    penalty_count = 0\n",
    "    for j in tqdm.tqdm(range(n_iters)):\n",
    "        X_sample_0, _, _ = vae0(X_0)\n",
    "        var = likelihood_neg(model_neg(X_sample_0)).variance\n",
    "        loss = (-var).mean()\n",
    "        \n",
    "        if loss >= best_loss:\n",
    "            penalty_count += 1\n",
    "        else:\n",
    "            penalty_count = 0\n",
    "            best_loss = loss\n",
    "            \n",
    "        if penalty_count == 5:\n",
    "            break\n",
    "        \n",
    "        loss.backward()\n",
    "        optimizer.step()\n",
    "\n",
    "    _, y_0 = my_blackbox.query(x_0)\n",
    "\n",
    "    data_X_0.append(x_0)\n",
    "    data_Y_0.append(y_0.flatten())\n",
    "    \n",
    "    X_train = torch.cat(data_X_0, 0)\n",
    "    Y_train = torch.cat(data_Y_0, 0).flatten()\n",
    "    model_neg, likelihood_neg = train(X_train, Y_train)\n",
    "    \n",
    "    model_neg.eval()\n",
    "    likelihood_neg.eval()\n",
    "    \n",
    "    x_1 = torch.normal(0., 1., size = (1, 102), requires_grad=True)\n",
    "    sample_size = 20\n",
    "    X_1 = x_1\n",
    "    X_1.repeat(sample_size, 1)\n",
    "\n",
    "    optimizer = torch.optim.AdamW((x_1,), lr=1e-2)\n",
    "    optimizer.zero_grad()\n",
    "    \n",
    "    best_loss = 10e5\n",
    "    penalty_count = 0\n",
    "    for j in tqdm.tqdm(range(n_iters)):\n",
    "        X_sample_1, _, _ = vae1(X_1)\n",
    "        var = likelihood_pos(model_pos(X_sample_1)).variance\n",
    "        print(var)\n",
    "        loss = (-var).mean()\n",
    "        loss.backward()\n",
    "        optimizer.step()\n",
    "\n",
    "    _, y_1 = my_blackbox.query(x_1)\n",
    "    data_X_1.append(x_1)\n",
    "    data_Y_1.append(y_1.flatten())\n",
    "\n",
    "    model_pos, likelihood_pos = train(torch.cat(data_X_1, 0), torch.cat(data_Y_1, 0).flatten())\n",
    "    \n",
    "    model_pos.eval()\n",
    "    likelihood_pos.eval()"
   ]
  },
  {
   "cell_type": "code",
   "execution_count": 20,
   "metadata": {},
   "outputs": [
    {
     "ename": "TypeError",
     "evalue": "expected TensorOptions(dtype=float, device=cpu, layout=Strided, requires_grad=false (default), pinned_memory=false (default), memory_format=(nullopt)) (got TensorOptions(dtype=bool, device=cpu, layout=Strided, requires_grad=false (default), pinned_memory=false (default), memory_format=(nullopt)))",
     "output_type": "error",
     "traceback": [
      "\u001b[0;31m---------------------------------------------------------------------------\u001b[0m",
      "\u001b[0;31mTypeError\u001b[0m                                 Traceback (most recent call last)",
      "\u001b[0;32m<ipython-input-20-75992b19b7f1>\u001b[0m in \u001b[0;36m<module>\u001b[0;34m\u001b[0m\n\u001b[0;32m----> 1\u001b[0;31m \u001b[0mtorch\u001b[0m\u001b[0;34m.\u001b[0m\u001b[0mFloatTensor\u001b[0m\u001b[0;34m(\u001b[0m\u001b[0mtorch\u001b[0m\u001b[0;34m.\u001b[0m\u001b[0mTensor\u001b[0m\u001b[0;34m(\u001b[0m\u001b[0;34m[\u001b[0m\u001b[0;36m0.1\u001b[0m\u001b[0;34m]\u001b[0m\u001b[0;34m)\u001b[0m \u001b[0;34m>=\u001b[0m \u001b[0;36m1\u001b[0m\u001b[0;34m)\u001b[0m\u001b[0;34m\u001b[0m\u001b[0;34m\u001b[0m\u001b[0m\n\u001b[0m",
      "\u001b[0;31mTypeError\u001b[0m: expected TensorOptions(dtype=float, device=cpu, layout=Strided, requires_grad=false (default), pinned_memory=false (default), memory_format=(nullopt)) (got TensorOptions(dtype=bool, device=cpu, layout=Strided, requires_grad=false (default), pinned_memory=false (default), memory_format=(nullopt)))"
     ]
    }
   ],
   "source": [
    "torch.FloatTensor(torch.Tensor([0.1]) >= 1)"
   ]
  },
  {
   "cell_type": "code",
   "execution_count": 15,
   "metadata": {},
   "outputs": [],
   "source": [
    "x_random = torch.normal(0.,1.,size=(100,102), requires_grad=True)\n",
    "optimizer = torch.optim.AdamW((x_random,), lr=0.001)"
   ]
  },
  {
   "cell_type": "code",
   "execution_count": 16,
   "metadata": {},
   "outputs": [],
   "source": [
    "x_sampled, _, _ = vae1(x_random)"
   ]
  },
  {
   "cell_type": "code",
   "execution_count": 17,
   "metadata": {},
   "outputs": [],
   "source": [
    "num_device = 0\n",
    "device = torch.device(f'cuda:{num_device}' if torch.cuda.is_available() else 'cpu')"
   ]
  },
  {
   "cell_type": "code",
   "execution_count": 18,
   "metadata": {},
   "outputs": [],
   "source": [
    "var = likelihood_pos(model_pos(x_sampled.to(device))).variance"
   ]
  },
  {
   "cell_type": "code",
   "execution_count": 19,
   "metadata": {},
   "outputs": [],
   "source": [
    "loss = (-var).mean()"
   ]
  },
  {
   "cell_type": "code",
   "execution_count": 20,
   "metadata": {},
   "outputs": [],
   "source": [
    "optimizer.zero_grad()\n",
    "loss.backward()\n",
    "optimizer.step()"
   ]
  },
  {
   "cell_type": "code",
   "execution_count": 21,
   "metadata": {},
   "outputs": [
    {
     "data": {
      "text/plain": [
       "tensor([[-1.2096e-01,  1.8022e-02, -7.2392e-02,  ...,  3.7889e-04,\n",
       "          1.7755e-03,  1.0177e+00],\n",
       "        [-1.1681e-01,  2.3465e-02, -7.0598e-02,  ...,  2.2722e-03,\n",
       "          1.0722e-03,  9.9750e-01],\n",
       "        [-1.2206e-01,  1.3110e-02, -6.8568e-02,  ...,  1.1457e-03,\n",
       "          1.9830e-03,  1.0022e+00],\n",
       "        ...,\n",
       "        [-1.1342e-01,  1.9737e-02, -6.8200e-02,  ...,  3.1049e-03,\n",
       "          1.0210e-03,  9.8822e-01],\n",
       "        [-1.1880e-01,  1.8173e-02, -6.6933e-02,  ...,  3.3376e-03,\n",
       "          7.8000e-04,  9.9166e-01],\n",
       "        [-1.1915e-01,  1.6072e-02, -6.9233e-02,  ...,  3.0772e-03,\n",
       "          9.1844e-04,  9.9567e-01]], grad_fn=<AddmmBackward0>)"
      ]
     },
     "execution_count": 21,
     "metadata": {},
     "output_type": "execute_result"
    }
   ],
   "source": [
    "x_sampled"
   ]
  },
  {
   "cell_type": "code",
   "execution_count": null,
   "metadata": {},
   "outputs": [],
   "source": []
  }
 ],
 "metadata": {
  "kernelspec": {
   "display_name": "Python 3",
   "language": "python",
   "name": "python3"
  },
  "language_info": {
   "codemirror_mode": {
    "name": "ipython",
    "version": 3
   },
   "file_extension": ".py",
   "mimetype": "text/x-python",
   "name": "python",
   "nbconvert_exporter": "python",
   "pygments_lexer": "ipython3",
   "version": "3.8.10"
  },
  "vscode": {
   "interpreter": {
    "hash": "1623887a4657fbc55005e133332f3be3f5efee82a88b4990fa1707cdaeddf772"
   }
  }
 },
 "nbformat": 4,
 "nbformat_minor": 5
}
