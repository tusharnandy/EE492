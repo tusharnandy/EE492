{
 "cells": [
  {
   "cell_type": "code",
   "execution_count": 1,
   "id": "630bf96d",
   "metadata": {},
   "outputs": [
    {
     "name": "stderr",
     "output_type": "stream",
     "text": [
      "/mnt/infonas/data/tnandy/fa_ant/lib/python3.8/site-packages/tqdm/auto.py:22: TqdmWarning: IProgress not found. Please update jupyter and ipywidgets. See https://ipywidgets.readthedocs.io/en/stable/user_install.html\n",
      "  from .autonotebook import tqdm as notebook_tqdm\n"
     ]
    }
   ],
   "source": [
    "import torch\n",
    "import torch.nn as nn\n",
    "import torch.nn.functional as F\n",
    "import sys\n",
    "import pandas as pd\n",
    "import urllib.request\n",
    "import math\n",
    "import gpytorch\n",
    "from matplotlib import pyplot as plt\n",
    "import random\n",
    "import numpy as np\n",
    "import urllib.request\n",
    "import os\n",
    "from math import floor"
   ]
  },
  {
   "cell_type": "code",
   "execution_count": 8,
   "id": "d3260687",
   "metadata": {},
   "outputs": [],
   "source": [
    "data_dim = 102\n",
    "\n",
    "class FCN(torch.nn.Sequential):\n",
    "    def __init__(self):\n",
    "        super(FCN, self).__init__()\n",
    "        self.add_module('linear1', torch.nn.Linear(data_dim, 50))\n",
    "        self.add_module('relu1', torch.nn.ReLU())\n",
    "        self.add_module('linear2', torch.nn.Linear(50, 2))\n",
    "\n",
    "feature_extractor = FCN()\n",
    "\n",
    "class GPRegressionModel(gpytorch.models.ExactGP):\n",
    "        def __init__(self, train_x, train_y, likelihood):\n",
    "            super(GPRegressionModel, self).__init__(train_x, train_y, likelihood)\n",
    "            self.mean_module = gpytorch.means.ConstantMean()\n",
    "            self.covar_module = gpytorch.kernels.GridInterpolationKernel(\n",
    "                gpytorch.kernels.ScaleKernel(gpytorch.kernels.RBFKernel(ard_num_dims=2)),\n",
    "                num_dims=2, grid_size=100\n",
    "            )\n",
    "            self.feature_extractor = feature_extractor\n",
    "\n",
    "            # This module will scale the NN features so that they're nice values\n",
    "            self.scale_to_bounds = gpytorch.utils.grid.ScaleToBounds(-1., 1.)\n",
    "\n",
    "        def forward(self, x):\n",
    "            # We're first putting our data through a deep net (feature extractor)\n",
    "            projected_x = self.feature_extractor(x)\n",
    "            projected_x = self.scale_to_bounds(projected_x)  # Make the NN values \"nice\"\n",
    "\n",
    "            mean_x = self.mean_module(projected_x)\n",
    "            covar_x = self.covar_module(projected_x)\n",
    "            return gpytorch.distributions.MultivariateNormal(mean_x, covar_x)\n",
    "\n",
    "\n",
    "def train(train_x, train_y, num_device=0):\n",
    "    device = torch.device(f'cuda:{num_device}' if torch.cuda.is_available() else 'cpu')\n",
    "    likelihood = gpytorch.likelihoods.GaussianLikelihood()\n",
    "    model = GPRegressionModel(train_x, train_y, likelihood)\n",
    "\n",
    "    model.to(device)\n",
    "    likelihood.to(device)\n",
    "\n",
    "    training_iterations = 60\n",
    "\n",
    "    optimizer = torch.optim.Adam([\n",
    "    {'params': model.feature_extractor.parameters()},\n",
    "    {'params': model.covar_module.parameters()},\n",
    "    {'params': model.mean_module.parameters()},\n",
    "    {'params': model.likelihood.parameters()},], lr=0.01)\n",
    "    mll = gpytorch.mlls.ExactMarginalLogLikelihood(likelihood, model)\n",
    "\n",
    "    demo_parity = 0\n",
    "    iterator = range(training_iterations)\n",
    "    \n",
    "    model.train()\n",
    "    likelihood.train()\n",
    "    for i in range(training_iterations):\n",
    "        print(i)\n",
    "        # Zero backprop gradients\n",
    "        optimizer.zero_grad()\n",
    "        # Get output from model\n",
    "        output = model(train_x.to(device))\n",
    "\n",
    "        # Calc loss and backprop derivatives\n",
    "        loss = -mll(output, train_y.to(device))\n",
    "        loss.backward()\n",
    "        optimizer.step()\n",
    "\n",
    "\n",
    "        #     model.eval()\n",
    "        #     likelihood.eval()\n",
    "\n",
    "    return model, likelihood\n"
   ]
  },
  {
   "cell_type": "code",
   "execution_count": 3,
   "id": "cbe9594c",
   "metadata": {},
   "outputs": [],
   "source": [
    "df_base = pd.read_csv(\"../Data/data1.csv\")"
   ]
  },
  {
   "cell_type": "code",
   "execution_count": 4,
   "id": "c286a930",
   "metadata": {},
   "outputs": [],
   "source": [
    "df_base.drop(['Unnamed: 0'], axis=1, inplace = True)\n",
    "df_base_pos = df_base[df_base['gender_Female'] > 0]\n",
    "df_base_neg = df_base[df_base['gender_Female'] <= 0]"
   ]
  },
  {
   "cell_type": "code",
   "execution_count": 5,
   "id": "2c9e6900",
   "metadata": {},
   "outputs": [],
   "source": [
    "df_base_neg = df_base_neg.reset_index(drop=True)\n",
    "df_base_pos = df_base_pos.reset_index(drop=True)"
   ]
  },
  {
   "cell_type": "code",
   "execution_count": 11,
   "id": "ec2a49d3",
   "metadata": {},
   "outputs": [],
   "source": [
    "temp_pos = df_base_pos.sample(1000)\n",
    "pos_queried, pos_labels = temp_pos.drop(columns='income').values, temp_pos['income'].values"
   ]
  },
  {
   "cell_type": "code",
   "execution_count": 12,
   "id": "716d9b45",
   "metadata": {},
   "outputs": [],
   "source": [
    "#### training the GP ####\n",
    "model_pos, likelihood_pos = train(\n",
    "    torch.tensor(pos_queried.astype(np.float32)),\n",
    "    torch.tensor(pos_labels.astype(np.float32)),\n",
    "    num_device=0\n",
    ")\n",
    "\n",
    "# model_neg, likelihood_neg = train(\n",
    "#     torch.tensor(np.concatenate(neg_queried, axis=0).astype(np.float32)),\n",
    "#     torch.tensor(np.concatenate(neg_labels, axis=0)).flatten(),\n",
    "#     num_device=0\n",
    "# )"
   ]
  },
  {
   "cell_type": "code",
   "execution_count": 14,
   "id": "36331ee6",
   "metadata": {},
   "outputs": [
    {
     "data": {
      "text/plain": [
       "(1000, 1)"
      ]
     },
     "execution_count": 14,
     "metadata": {},
     "output_type": "execute_result"
    }
   ],
   "source": []
  }
 ],
 "metadata": {
  "kernelspec": {
   "display_name": "Python 3 (ipykernel)",
   "language": "python",
   "name": "python3"
  },
  "language_info": {
   "codemirror_mode": {
    "name": "ipython",
    "version": 3
   },
   "file_extension": ".py",
   "mimetype": "text/x-python",
   "name": "python",
   "nbconvert_exporter": "python",
   "pygments_lexer": "ipython3",
   "version": "3.8.10"
  },
  "vscode": {
   "interpreter": {
    "hash": "1623887a4657fbc55005e133332f3be3f5efee82a88b4990fa1707cdaeddf772"
   }
  }
 },
 "nbformat": 4,
 "nbformat_minor": 5
}
