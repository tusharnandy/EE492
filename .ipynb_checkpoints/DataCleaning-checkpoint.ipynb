{
 "cells": [
  {
   "cell_type": "code",
   "execution_count": 1,
   "metadata": {},
   "outputs": [],
   "source": [
    "import pandas as pd\n",
    "import numpy as np\n",
    "import torch"
   ]
  },
  {
   "cell_type": "code",
   "execution_count": 4,
   "metadata": {},
   "outputs": [],
   "source": [
    "df = pd.read_csv(\"../Data/data1.csv\").drop(columns='Unnamed: 0')"
   ]
  },
  {
   "cell_type": "code",
   "execution_count": 6,
   "metadata": {},
   "outputs": [
    {
     "name": "stdout",
     "output_type": "stream",
     "text": [
      "age: max = 3.9, min = -1.6\n",
      "educational-num: max = 2.3, min = -3.6\n",
      "capital-gain: max = 13.2, min = -0.1\n",
      "capital-loss: max = 10.5, min = -0.2\n",
      "hours-per-week: max = 4.8, min = -3.3\n",
      "income: max = 1.0, min = 0.0\n",
      "workclass_Federal-gov: max = 1.0, min = 0.0\n",
      "workclass_Local-gov: max = 1.0, min = 0.0\n",
      "workclass_Private: max = 1.0, min = 0.0\n",
      "workclass_Self-emp-inc: max = 1.0, min = 0.0\n",
      "workclass_Self-emp-not-inc: max = 1.0, min = 0.0\n",
      "workclass_State-gov: max = 1.0, min = 0.0\n",
      "workclass_Without-pay: max = 1.0, min = 0.0\n",
      "education_10th: max = 1.0, min = 0.0\n",
      "education_11th: max = 1.0, min = 0.0\n",
      "education_12th: max = 1.0, min = 0.0\n",
      "education_1st-4th: max = 1.0, min = 0.0\n",
      "education_5th-6th: max = 1.0, min = 0.0\n",
      "education_7th-8th: max = 1.0, min = 0.0\n",
      "education_9th: max = 1.0, min = 0.0\n",
      "education_Assoc-acdm: max = 1.0, min = 0.0\n",
      "education_Assoc-voc: max = 1.0, min = 0.0\n",
      "education_Bachelors: max = 1.0, min = 0.0\n",
      "education_Doctorate: max = 1.0, min = 0.0\n",
      "education_HS-grad: max = 1.0, min = 0.0\n",
      "education_Masters: max = 1.0, min = 0.0\n",
      "education_Preschool: max = 1.0, min = 0.0\n",
      "education_Prof-school: max = 1.0, min = 0.0\n",
      "education_Some-college: max = 1.0, min = 0.0\n",
      "marital-status_Divorced: max = 1.0, min = 0.0\n",
      "marital-status_Married-AF-spouse: max = 1.0, min = 0.0\n",
      "marital-status_Married-civ-spouse: max = 1.0, min = 0.0\n",
      "marital-status_Married-spouse-absent: max = 1.0, min = 0.0\n",
      "marital-status_Never-married: max = 1.0, min = 0.0\n",
      "marital-status_Separated: max = 1.0, min = 0.0\n",
      "marital-status_Widowed: max = 1.0, min = 0.0\n",
      "occupation_Adm-clerical: max = 1.0, min = 0.0\n",
      "occupation_Armed-Forces: max = 1.0, min = 0.0\n",
      "occupation_Craft-repair: max = 1.0, min = 0.0\n",
      "occupation_Exec-managerial: max = 1.0, min = 0.0\n",
      "occupation_Farming-fishing: max = 1.0, min = 0.0\n",
      "occupation_Handlers-cleaners: max = 1.0, min = 0.0\n",
      "occupation_Machine-op-inspct: max = 1.0, min = 0.0\n",
      "occupation_Other-service: max = 1.0, min = 0.0\n",
      "occupation_Priv-house-serv: max = 1.0, min = 0.0\n",
      "occupation_Prof-specialty: max = 1.0, min = 0.0\n",
      "occupation_Protective-serv: max = 1.0, min = 0.0\n",
      "occupation_Sales: max = 1.0, min = 0.0\n",
      "occupation_Tech-support: max = 1.0, min = 0.0\n",
      "occupation_Transport-moving: max = 1.0, min = 0.0\n",
      "relationship_Husband: max = 1.0, min = 0.0\n",
      "relationship_Not-in-family: max = 1.0, min = 0.0\n",
      "relationship_Other-relative: max = 1.0, min = 0.0\n",
      "relationship_Own-child: max = 1.0, min = 0.0\n",
      "relationship_Unmarried: max = 1.0, min = 0.0\n",
      "relationship_Wife: max = 1.0, min = 0.0\n",
      "race_Amer-Indian-Eskimo: max = 1.0, min = 0.0\n",
      "race_Asian-Pac-Islander: max = 1.0, min = 0.0\n",
      "race_Black: max = 1.0, min = 0.0\n",
      "race_Other: max = 1.0, min = 0.0\n",
      "race_White: max = 1.0, min = 0.0\n",
      "native-country_Cambodia: max = 1.0, min = 0.0\n",
      "native-country_Canada: max = 1.0, min = 0.0\n",
      "native-country_China: max = 1.0, min = 0.0\n",
      "native-country_Columbia: max = 1.0, min = 0.0\n",
      "native-country_Cuba: max = 1.0, min = 0.0\n",
      "native-country_Dominican-Republic: max = 1.0, min = 0.0\n",
      "native-country_Ecuador: max = 1.0, min = 0.0\n",
      "native-country_El-Salvador: max = 1.0, min = 0.0\n",
      "native-country_England: max = 1.0, min = 0.0\n",
      "native-country_France: max = 1.0, min = 0.0\n",
      "native-country_Germany: max = 1.0, min = 0.0\n",
      "native-country_Greece: max = 1.0, min = 0.0\n",
      "native-country_Guatemala: max = 1.0, min = 0.0\n",
      "native-country_Haiti: max = 1.0, min = 0.0\n",
      "native-country_Holand-Netherlands: max = 1.0, min = 0.0\n",
      "native-country_Honduras: max = 1.0, min = 0.0\n",
      "native-country_Hong: max = 1.0, min = 0.0\n",
      "native-country_Hungary: max = 1.0, min = 0.0\n",
      "native-country_India: max = 1.0, min = 0.0\n",
      "native-country_Iran: max = 1.0, min = 0.0\n",
      "native-country_Ireland: max = 1.0, min = 0.0\n",
      "native-country_Italy: max = 1.0, min = 0.0\n",
      "native-country_Jamaica: max = 1.0, min = 0.0\n",
      "native-country_Japan: max = 1.0, min = 0.0\n",
      "native-country_Laos: max = 1.0, min = 0.0\n",
      "native-country_Mexico: max = 1.0, min = 0.0\n",
      "native-country_Nicaragua: max = 1.0, min = 0.0\n",
      "native-country_Outlying-US(Guam-USVI-etc): max = 1.0, min = 0.0\n",
      "native-country_Peru: max = 1.0, min = 0.0\n",
      "native-country_Philippines: max = 1.0, min = 0.0\n",
      "native-country_Poland: max = 1.0, min = 0.0\n",
      "native-country_Portugal: max = 1.0, min = 0.0\n",
      "native-country_Puerto-Rico: max = 1.0, min = 0.0\n",
      "native-country_Scotland: max = 1.0, min = 0.0\n",
      "native-country_South: max = 1.0, min = 0.0\n",
      "native-country_Taiwan: max = 1.0, min = 0.0\n",
      "native-country_Thailand: max = 1.0, min = 0.0\n",
      "native-country_Trinadad&Tobago: max = 1.0, min = 0.0\n",
      "native-country_United-States: max = 1.0, min = 0.0\n",
      "native-country_Vietnam: max = 1.0, min = 0.0\n",
      "native-country_Yugoslavia: max = 1.0, min = 0.0\n",
      "gender_Female: max = 1.0, min = 0.0\n"
     ]
    }
   ],
   "source": [
    "for col in df.columns:\n",
    "    print(f\"{col}: max = {np.round(df[col].max(),1)}, min = {np.round(df[col].min(),1)}\")"
   ]
  }
 ],
 "metadata": {
  "kernelspec": {
   "display_name": "Python 3 (ipykernel)",
   "language": "python",
   "name": "python3"
  },
  "language_info": {
   "codemirror_mode": {
    "name": "ipython",
    "version": 3
   },
   "file_extension": ".py",
   "mimetype": "text/x-python",
   "name": "python",
   "nbconvert_exporter": "python",
   "pygments_lexer": "ipython3",
   "version": "3.8.10"
  },
  "vscode": {
   "interpreter": {
    "hash": "1623887a4657fbc55005e133332f3be3f5efee82a88b4990fa1707cdaeddf772"
   }
  }
 },
 "nbformat": 4,
 "nbformat_minor": 2
}
